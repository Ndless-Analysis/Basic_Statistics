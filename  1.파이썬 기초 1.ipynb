{
 "cells": [
  {
   "cell_type": "markdown",
   "metadata": {},
   "source": [
    "# 1장. 파이썬 기초 1\n",
    "### 1.1 파이썬 설치 및 시작하기\n",
    "#### 1) 파이썬이란?\n",
    "#### - 1990년 암스테르담의 구도 반 로섬이 개발한 인터프리터 언어\n",
    "*인터프리터 언어: 한 줄씩 소스 코드를 해석해서 그때그때 실행해 결과를 바로 확인할 수 있는 언어\n",
    "#### - 오픈소스로서 대기업은 물론이고 스타트업에서도 다양한 용도로 사용되고 있음."
   ]
  },
  {
   "cell_type": "markdown",
   "metadata": {},
   "source": [
    "#### 2) 파이썬의 특징\n",
    "(1) 배우기 쉽다! \n",
    "\n",
    "(2) 무료다!\n",
    "\n",
    "(3) 방대한 라이브러리가 있다!\n",
    "\n",
    "(4) 어느 운영체제에서도 사용할 수 있다!"
   ]
  },
  {
   "cell_type": "markdown",
   "metadata": {},
   "source": [
    "#### 3) 파이썬 설치하기\n",
    "(1) anaconda 설치 - 데이터 분석에 유용한 라이브러리가 많이 포함된 배포판\n",
    "\n",
    "사이트 이동: https://www.anaconda.com/download/\n",
    "\n",
    "(2) anaconda 업데이트\n",
    "\n",
    "##### conda update conda\n",
    "\n",
    "##### python --version"
   ]
  },
  {
   "cell_type": "markdown",
   "metadata": {},
   "source": [
    "#### 4) 파이썬 실행하기\n",
    "\n",
    "(1) anaconda prompt로 실행하기\n",
    "\n",
    "(2) Jupyter Notebook으로 실행하기"
   ]
  },
  {
   "cell_type": "markdown",
   "metadata": {},
   "source": [
    "#### 5) 기본 사용법\n",
    "(1) Untitled를 더블클릭하여 이름 변경\n",
    "\n",
    "(2) 하나의 셀에 여러줄 입력 가능"
   ]
  },
  {
   "cell_type": "code",
   "execution_count": 16,
   "metadata": {},
   "outputs": [],
   "source": [
    "a=1\n",
    "b=3\n",
    "c=6"
   ]
  },
  {
   "cell_type": "markdown",
   "metadata": {},
   "source": [
    "(3) 코드 실행 방법: 실행버튼 클릭 or [Shift + Enter]\n",
    "\n",
    "(4) 원형 화살표(Restart Kernel) : 메모리에 저장된 내용이 지워짐\n",
    "\n",
    "(5) Restart & Clear output : 실행결과가 모두 지워짐\n",
    "\n",
    "(6) Run All : 모두 순차적으로 실행\n",
    "\n",
    "(7) File - Download as - html, pdf 등 다양한 포맷으로 변환 가능\n",
    "\n",
    "(8) jupyter notebook 종료 : 웹브라우저와 cmd 모두 종료해야 함. "
   ]
  },
  {
   "cell_type": "markdown",
   "metadata": {},
   "source": [
    "### 1.2 파이썬 자료형\n",
    "#### ● 자료형 종류\n",
    "    - 수치형(Number): 숫자형태로 구성된 데이터 타입 ex) 123, -345, 123.45\n",
    "    - 문자열(String): 문자, 단어 등으로 구성된 데이터 타입, 인덱스 사용\n",
    "    - 리스트(List): 임의의 객체를 순차적으로 저장하는 집합적 자료형, 인덱스 사용\n",
    "    - 튜플(Tuple): 리스트와 유사하지만 튜플 내의 값을 변경 불가능, 인덱스 사용\n",
    "    - 키(key)와 값(value)으로 이루어져 있으며 키를 이용하여 값을 저장 및 조회하는 자료형"
   ]
  },
  {
   "cell_type": "markdown",
   "metadata": {},
   "source": [
    "#### 1) 변수\n",
    "#### - 변수: 자료를 저장할 수 있는 공간\n",
    "#### - 변수명: 자료를 저장한 공간에 이름"
   ]
  },
  {
   "cell_type": "code",
   "execution_count": 17,
   "metadata": {},
   "outputs": [
    {
     "name": "stdout",
     "output_type": "stream",
     "text": [
      "123\n"
     ]
    }
   ],
   "source": [
    "abc = 123 #abc=변수, 123=자료(data)\n",
    "print(abc)"
   ]
  },
  {
   "cell_type": "code",
   "execution_count": 18,
   "metadata": {},
   "outputs": [
    {
     "data": {
      "text/plain": [
       "123"
      ]
     },
     "execution_count": 18,
     "metadata": {},
     "output_type": "execute_result"
    }
   ],
   "source": [
    "abc"
   ]
  },
  {
   "cell_type": "code",
   "execution_count": 19,
   "metadata": {},
   "outputs": [
    {
     "name": "stdout",
     "output_type": "stream",
     "text": [
      "369\n",
      "246\n",
      "123.25\n"
     ]
    }
   ],
   "source": [
    "print(abc*3)\n",
    "print(abc+abc)\n",
    "print(abc+1/4)"
   ]
  },
  {
   "cell_type": "markdown",
   "metadata": {},
   "source": [
    "- 변수명 규칙\n",
    "    - 문자, 숫자, 밑줄 기호(_) 이용한다. \n",
    "    - 변수명은 숫자로 시작할 수 없다. \n",
    "    - 대소문자를 구분해야 한다. \n",
    "    - 공백을 포함하지 않는다.\n",
    "    - 예약어(Reserved word)는 변수명으로 이용할 수 없다(예약어:이미 정해지고 약속된 언어). \n",
    "\n",
    "예약어) None, True, False, and, as, assert, break, class, continue, def, del, elif, else, except, finally, for, from, global, \n",
    "if, import, in, is, lambda, nonlocal, not, or, pass, raise, return, try, while, yied"
   ]
  },
  {
   "cell_type": "code",
   "execution_count": 20,
   "metadata": {},
   "outputs": [],
   "source": [
    "a=1"
   ]
  },
  {
   "cell_type": "code",
   "execution_count": 21,
   "metadata": {},
   "outputs": [],
   "source": [
    "A=2"
   ]
  },
  {
   "cell_type": "code",
   "execution_count": 22,
   "metadata": {},
   "outputs": [
    {
     "data": {
      "text/plain": [
       "1"
      ]
     },
     "execution_count": 22,
     "metadata": {},
     "output_type": "execute_result"
    }
   ],
   "source": [
    "a"
   ]
  },
  {
   "cell_type": "code",
   "execution_count": 23,
   "metadata": {},
   "outputs": [
    {
     "data": {
      "text/plain": [
       "2"
      ]
     },
     "execution_count": 23,
     "metadata": {},
     "output_type": "execute_result"
    }
   ],
   "source": [
    "A"
   ]
  },
  {
   "cell_type": "code",
   "execution_count": 24,
   "metadata": {},
   "outputs": [
    {
     "ename": "SyntaxError",
     "evalue": "invalid syntax (<ipython-input-24-d4bcc12e9cbb>, line 1)",
     "output_type": "error",
     "traceback": [
      "\u001b[1;36m  File \u001b[1;32m\"<ipython-input-24-d4bcc12e9cbb>\"\u001b[1;36m, line \u001b[1;32m1\u001b[0m\n\u001b[1;33m    3a=1\u001b[0m\n\u001b[1;37m     ^\u001b[0m\n\u001b[1;31mSyntaxError\u001b[0m\u001b[1;31m:\u001b[0m invalid syntax\n"
     ]
    }
   ],
   "source": [
    "3a=1"
   ]
  },
  {
   "cell_type": "code",
   "execution_count": 25,
   "metadata": {},
   "outputs": [
    {
     "ename": "SyntaxError",
     "evalue": "invalid syntax (<ipython-input-25-0208e5dfe38f>, line 1)",
     "output_type": "error",
     "traceback": [
      "\u001b[1;36m  File \u001b[1;32m\"<ipython-input-25-0208e5dfe38f>\"\u001b[1;36m, line \u001b[1;32m1\u001b[0m\n\u001b[1;33m    Hansung Univ=1\u001b[0m\n\u001b[1;37m               ^\u001b[0m\n\u001b[1;31mSyntaxError\u001b[0m\u001b[1;31m:\u001b[0m invalid syntax\n"
     ]
    }
   ],
   "source": [
    "Hansung Univ=1"
   ]
  },
  {
   "cell_type": "markdown",
   "metadata": {},
   "source": [
    "#### 2) 문자열 자료형\n",
    "#### - 따옴표로 둘러쌓인 문자의 집합\n",
    "#### - 문자열을 표시하기 위해서는 시작과 끝에 큰따옴표(\")나 작은따옴표(')를 지정한다. "
   ]
  },
  {
   "cell_type": "code",
   "execution_count": 26,
   "metadata": {},
   "outputs": [
    {
     "name": "stdout",
     "output_type": "stream",
     "text": [
      "hello\n"
     ]
    }
   ],
   "source": [
    "print(\"hello\")"
   ]
  },
  {
   "cell_type": "code",
   "execution_count": 27,
   "metadata": {},
   "outputs": [
    {
     "data": {
      "text/plain": [
       "'hello'"
      ]
     },
     "execution_count": 27,
     "metadata": {},
     "output_type": "execute_result"
    }
   ],
   "source": [
    "\"hello\""
   ]
  },
  {
   "cell_type": "code",
   "execution_count": 28,
   "metadata": {},
   "outputs": [],
   "source": [
    "string = \"Hansung university\""
   ]
  },
  {
   "cell_type": "code",
   "execution_count": 29,
   "metadata": {},
   "outputs": [
    {
     "name": "stdout",
     "output_type": "stream",
     "text": [
      "Hansung university\n"
     ]
    }
   ],
   "source": [
    "print(string)"
   ]
  },
  {
   "cell_type": "code",
   "execution_count": 30,
   "metadata": {},
   "outputs": [
    {
     "data": {
      "text/plain": [
       "str"
      ]
     },
     "execution_count": 30,
     "metadata": {},
     "output_type": "execute_result"
    }
   ],
   "source": [
    "type(string)# type() 함수: 데이터형 출력"
   ]
  },
  {
   "cell_type": "code",
   "execution_count": 31,
   "metadata": {},
   "outputs": [
    {
     "data": {
      "text/plain": [
       "'a'"
      ]
     },
     "execution_count": 31,
     "metadata": {},
     "output_type": "execute_result"
    }
   ],
   "source": [
    "string[1]"
   ]
  },
  {
   "cell_type": "code",
   "execution_count": 32,
   "metadata": {},
   "outputs": [],
   "source": [
    "a = 'Hansung '\n",
    "b = 'university'"
   ]
  },
  {
   "cell_type": "code",
   "execution_count": 33,
   "metadata": {},
   "outputs": [
    {
     "data": {
      "text/plain": [
       "'Hansung university'"
      ]
     },
     "execution_count": 33,
     "metadata": {},
     "output_type": "execute_result"
    }
   ],
   "source": [
    "c = a+b\n",
    "c"
   ]
  },
  {
   "cell_type": "markdown",
   "metadata": {},
   "source": [
    "#### 3) 리스트 자료형\n",
    "#### - 여러개의 데이터를 묶어 순차적으로 저장하는 집합적 자료형\n",
    "#### - 각 값에 대해 인덱스가 부여됨\n",
    "#### - 변경 가능\n",
    "#### - 대괄호 [ ] 사용\n",
    "#### - range() 함수를 통한 인덱스 리스트 생성 가능"
   ]
  },
  {
   "cell_type": "markdown",
   "metadata": {},
   "source": [
    "- 리스트 생성하기"
   ]
  },
  {
   "cell_type": "code",
   "execution_count": 34,
   "metadata": {},
   "outputs": [],
   "source": [
    "#고객 1의 구매물품\n",
    "customer_1= ['치약', '과자', '아이스크림', '고등어'] "
   ]
  },
  {
   "cell_type": "code",
   "execution_count": 35,
   "metadata": {},
   "outputs": [
    {
     "data": {
      "text/plain": [
       "['치약', '과/자', '아이스크림', '고등어']"
      ]
     },
     "execution_count": 35,
     "metadata": {},
     "output_type": "execute_result"
    }
   ],
   "source": [
    "customer_1"
   ]
  },
  {
   "cell_type": "code",
   "execution_count": 36,
   "metadata": {},
   "outputs": [
    {
     "data": {
      "text/plain": [
       "list"
      ]
     },
     "execution_count": 36,
     "metadata": {},
     "output_type": "execute_result"
    }
   ],
   "source": [
    "type(customer_1) #데이터 종류 확인"
   ]
  },
  {
   "cell_type": "markdown",
   "metadata": {},
   "source": [
    "- 리스트 인덱스\n",
    "\n",
    "리스트내 각 항목은 '변수명[i]' 지정할 수 있다. \n",
    "\n",
    "여기서 i는 변수의 인덱스이며 N개의 항목이 있는 리스트 타입 데이터가 있다면 i의 범위는 0~'N-1'까지다."
   ]
  },
  {
   "cell_type": "code",
   "execution_count": 37,
   "metadata": {},
   "outputs": [
    {
     "data": {
      "text/plain": [
       "'치약'"
      ]
     },
     "execution_count": 37,
     "metadata": {},
     "output_type": "execute_result"
    }
   ],
   "source": [
    "customer_1[0]"
   ]
  },
  {
   "cell_type": "code",
   "execution_count": 38,
   "metadata": {},
   "outputs": [],
   "source": [
    "customer_1[3]=\"빵\""
   ]
  },
  {
   "cell_type": "code",
   "execution_count": 39,
   "metadata": {},
   "outputs": [
    {
     "data": {
      "text/plain": [
       "['치약', '과/자', '아이스크림', '빵']"
      ]
     },
     "execution_count": 39,
     "metadata": {},
     "output_type": "execute_result"
    }
   ],
   "source": [
    "customer_1"
   ]
  },
  {
   "cell_type": "code",
   "execution_count": 40,
   "metadata": {},
   "outputs": [
    {
     "data": {
      "text/plain": [
       "'빵'"
      ]
     },
     "execution_count": 40,
     "metadata": {},
     "output_type": "execute_result"
    }
   ],
   "source": [
    "customer_1[-1]"
   ]
  },
  {
   "cell_type": "markdown",
   "metadata": {},
   "source": [
    "- 리스트 활용"
   ]
  },
  {
   "cell_type": "code",
   "execution_count": 41,
   "metadata": {},
   "outputs": [
    {
     "name": "stdout",
     "output_type": "stream",
     "text": [
      "[1, 2, 3, 4, 5, 6, 7, 8]\n"
     ]
    }
   ],
   "source": [
    "list_con_1=[1,2,3,4]\n",
    "list_con_2=[5,6,7,8]\n",
    "list_sum = list_con_1+list_con_2 #  + 리스트 연결\n",
    "print(list_sum)"
   ]
  },
  {
   "cell_type": "code",
   "execution_count": 42,
   "metadata": {},
   "outputs": [
    {
     "data": {
      "text/plain": [
       "[1, 2, 3, 4, 5, 6, 7, 8, 1, 2, 3, 4, 5, 6, 7, 8, 1, 2, 3, 4, 5, 6, 7, 8]"
      ]
     },
     "execution_count": 42,
     "metadata": {},
     "output_type": "execute_result"
    }
   ],
   "source": [
    "list_sum*3 # * 리스트 반복"
   ]
  },
  {
   "cell_type": "code",
   "execution_count": 1,
   "metadata": {},
   "outputs": [
    {
     "name": "stdout",
     "output_type": "stream",
     "text": [
      "[1, 2, 3, 4, 5, 6, 7, 8, 9]\n",
      "[1, 2]\n",
      "[1, 3, 5, 7, 9]\n",
      "[8, 9]\n"
     ]
    }
   ],
   "source": [
    "list_Data = [1,2,3,4,5,6,7,8,9]\n",
    "print(list_Data)\n",
    "print(list_Data[0:2]) # 리스트[인덱스의 시작:인덱스의 끝]\n",
    "print(list_Data[0:10:2]) # 리스트[인덱스의 시작:인덱스의:스텝(증가단계)]\n",
    "print(list_Data[7:9])\n"
   ]
  },
  {
   "cell_type": "code",
   "execution_count": 44,
   "metadata": {},
   "outputs": [
    {
     "name": "stdout",
     "output_type": "stream",
     "text": [
      "[1, 2, 3, 4, 5, 6, 7, 8, 9]\n",
      "[1, 2, 3, 4, 5, 6, 8, 9]\n"
     ]
    }
   ],
   "source": [
    "print(list_Data) \n",
    "del list_Data[6] # del 리스트 [ i ] 인덱싱 삭제\n",
    "print(list_Data)"
   ]
  },
  {
   "cell_type": "code",
   "execution_count": 45,
   "metadata": {},
   "outputs": [
    {
     "name": "stdout",
     "output_type": "stream",
     "text": [
      "True\n",
      "False\n"
     ]
    }
   ],
   "source": [
    "list_Data1=[1,2,3,4]\n",
    "print(4 in list_Data1) # '항목 in 리스트' :리스트내 항목의 존재여부 확인\n",
    "print(5 in list_Data1)"
   ]
  },
  {
   "cell_type": "markdown",
   "metadata": {},
   "source": [
    "- 리스트 메서드 활용하기\n",
    "\n",
    "파이썬에서는 데이터 타입(자료형)별로 이용할 수 있는 다양한 함수 제공하며 이를 '메서드'라함."
   ]
  },
  {
   "cell_type": "code",
   "execution_count": 46,
   "metadata": {},
   "outputs": [
    {
     "name": "stdout",
     "output_type": "stream",
     "text": [
      "['승우', '승형', '흥민', '선민']\n",
      "['승우', '승형', '흥민', '선민', '케인']\n"
     ]
    }
   ],
   "source": [
    "customers=[\"승우\",\"승형\",\"흥민\",\"선민\"]\n",
    "print(customers)\n",
    "customers.append('케인') # 변수명.append( ):리스트에서 항목 하나를 맨 마지막에 추가\n",
    "print(customers)"
   ]
  },
  {
   "cell_type": "code",
   "execution_count": 47,
   "metadata": {},
   "outputs": [
    {
     "name": "stdout",
     "output_type": "stream",
     "text": [
      "['승우', '승형', '흥민', '선민']\n",
      "['승우', '승형', '흥민', '선민', '케인', '알리']\n"
     ]
    }
   ],
   "source": [
    "customers=[\"승우\",\"승형\",\"흥민\",\"선민\"]\n",
    "print(customers)\n",
    "customers.extend(['케인','알리']) # 변수명.extend( ) : 리스트의 맨 끝에 여러 개의 항목을 추가하는데 이용\n",
    "print(customers)"
   ]
  },
  {
   "cell_type": "code",
   "execution_count": 48,
   "metadata": {},
   "outputs": [
    {
     "name": "stdout",
     "output_type": "stream",
     "text": [
      "['승우', '승형', '흥민', '선민']\n",
      "['승우', '케인', '승형', '흥민', '선민']\n"
     ]
    }
   ],
   "source": [
    "customers=[\"승우\",\"승형\",\"흥민\",\"선민\"]\n",
    "print(customers)\n",
    "customers.insert(1,'케인') # 변수명.insert(i, data) : 리스트의 원하는 위치에 데이터를 삽입\n",
    "print(customers)"
   ]
  },
  {
   "cell_type": "markdown",
   "metadata": {},
   "source": [
    "#### 4) 튜플 자료형\n",
    "#### - 여러개의 데이터를 하나로 묶는 데 이용, 튜플의 속성은 리스트와 유사\n",
    "#### - 각 값에 인덱스가 부여됨.\n",
    "#### - 소괄호 ( ) 사용, 괄호 사용하지 않고 데이터 입력\n",
    "#### - 튜플 데이터는 한 번 입력(혹은 생성)하면 그 이후에는 항목을 변경할 수 없다. "
   ]
  },
  {
   "cell_type": "markdown",
   "metadata": {},
   "source": [
    "- 튜플 생성하기\n"
   ]
  },
  {
   "cell_type": "code",
   "execution_count": 49,
   "metadata": {},
   "outputs": [
    {
     "data": {
      "text/plain": [
       "(1, 2, 3, 4, 5)"
      ]
     },
     "execution_count": 49,
     "metadata": {},
     "output_type": "execute_result"
    }
   ],
   "source": [
    "tuple_1=(1,2,3,4,5) #소괄호를 이용한 튜플 생성\n",
    "tuple_1"
   ]
  },
  {
   "cell_type": "code",
   "execution_count": 50,
   "metadata": {},
   "outputs": [
    {
     "name": "stdout",
     "output_type": "stream",
     "text": [
      "(5, 6, 7, 8)\n"
     ]
    }
   ],
   "source": [
    "tuple_2 = 5,6,7,8\n",
    "print(tuple_2)"
   ]
  },
  {
   "cell_type": "code",
   "execution_count": 51,
   "metadata": {},
   "outputs": [
    {
     "data": {
      "text/plain": [
       "tuple"
      ]
     },
     "execution_count": 51,
     "metadata": {},
     "output_type": "execute_result"
    }
   ],
   "source": [
    "type(tuple_1)"
   ]
  },
  {
   "cell_type": "code",
   "execution_count": 52,
   "metadata": {},
   "outputs": [
    {
     "data": {
      "text/plain": [
       "tuple"
      ]
     },
     "execution_count": 52,
     "metadata": {},
     "output_type": "execute_result"
    }
   ],
   "source": [
    "type(tuple_2)"
   ]
  },
  {
   "cell_type": "code",
   "execution_count": 53,
   "metadata": {},
   "outputs": [
    {
     "data": {
      "text/plain": [
       "2"
      ]
     },
     "execution_count": 53,
     "metadata": {},
     "output_type": "execute_result"
    }
   ],
   "source": [
    "tuple_1[1] # 인덱스를 활용한 값 출력"
   ]
  },
  {
   "cell_type": "code",
   "execution_count": 54,
   "metadata": {},
   "outputs": [
    {
     "name": "stdout",
     "output_type": "stream",
     "text": [
      "(3,)\n"
     ]
    }
   ],
   "source": [
    "tuple_3= 3, #하나의 원소를 갖는 튜플을 만들때도 콤마(,)를 입력해야한다. \n",
    "print(tuple_3)"
   ]
  },
  {
   "cell_type": "markdown",
   "metadata": {},
   "source": [
    "- 튜플 활용하기"
   ]
  },
  {
   "cell_type": "code",
   "execution_count": 55,
   "metadata": {},
   "outputs": [
    {
     "data": {
      "text/plain": [
       "2"
      ]
     },
     "execution_count": 55,
     "metadata": {},
     "output_type": "execute_result"
    }
   ],
   "source": [
    "tuple4 = ('a','b','c','d','e','c','z')\n",
    "tuple4.index('c')#'c' 항목의 첫번째 위치 반환"
   ]
  },
  {
   "cell_type": "code",
   "execution_count": 56,
   "metadata": {},
   "outputs": [
    {
     "data": {
      "text/plain": [
       "2"
      ]
     },
     "execution_count": 56,
     "metadata": {},
     "output_type": "execute_result"
    }
   ],
   "source": [
    "tuple4.count('c') # 'c' 항목의 개수 반환"
   ]
  },
  {
   "cell_type": "markdown",
   "metadata": {},
   "source": [
    "#### 5) 딕셔너리 자료형\n",
    "#### 키(key)와 값(value)으로 이루어져 있으며 키를 이용하여 값을 저장 및 조회하는 자료형\n",
    "#### 저장된 각 자료에 대한 순서는 의미 없음\n",
    "#### 키와 값은 콜론(:)으로 구분한다.\n",
    "#### 중괄호 { } 사용\n",
    "#### 콤마(, )를 기준으로 아이템 구분\n",
    "#### 딕셔너리 구조 -> key:value(쌍으로 이루어짐)\n",
    "#### {key(숫자와 문자열 가능) : vlaue: (다양한 데이터 타입)}"
   ]
  },
  {
   "cell_type": "markdown",
   "metadata": {},
   "source": [
    "- 딕셔너리 생성하기"
   ]
  },
  {
   "cell_type": "code",
   "execution_count": 57,
   "metadata": {},
   "outputs": [
    {
     "data": {
      "text/plain": [
       "{'강원도': '원주', '경기도': '일산', '경상도': '부산', '전라도': '전주', '충청도': '천안'}"
      ]
     },
     "execution_count": 57,
     "metadata": {},
     "output_type": "execute_result"
    }
   ],
   "source": [
    "province_city = {\"경기도\":\"일산\", \"강원도\":\"원주\", \"충청도\":\"천안\", \"전라도\":\"전주\",\"경상도\":\"부산\"}\n",
    "province_city"
   ]
  },
  {
   "cell_type": "code",
   "execution_count": 58,
   "metadata": {},
   "outputs": [
    {
     "data": {
      "text/plain": [
       "dict"
      ]
     },
     "execution_count": 58,
     "metadata": {},
     "output_type": "execute_result"
    }
   ],
   "source": [
    "type(province_city)"
   ]
  },
  {
   "cell_type": "code",
   "execution_count": 59,
   "metadata": {},
   "outputs": [
    {
     "data": {
      "text/plain": [
       "'일산'"
      ]
     },
     "execution_count": 59,
     "metadata": {},
     "output_type": "execute_result"
    }
   ],
   "source": [
    "province_city[\"경기도\"] #키의 값을 반환"
   ]
  },
  {
   "cell_type": "code",
   "execution_count": 60,
   "metadata": {},
   "outputs": [
    {
     "data": {
      "text/plain": [
       "{1: '기차', 2: '버스', 3: '택시', 4: '뚜벅이'}"
      ]
     },
     "execution_count": 60,
     "metadata": {},
     "output_type": "execute_result"
    }
   ],
   "source": [
    "dict_data = {1:\"기차\", 2:\"버스\", 3:\"택시\", 4:\"뚜벅이\"}\n",
    "dict_data"
   ]
  },
  {
   "cell_type": "code",
   "execution_count": 61,
   "metadata": {},
   "outputs": [
    {
     "data": {
      "text/plain": [
       "'택시'"
      ]
     },
     "execution_count": 61,
     "metadata": {},
     "output_type": "execute_result"
    }
   ],
   "source": [
    "dict_data[3]"
   ]
  },
  {
   "cell_type": "markdown",
   "metadata": {},
   "source": [
    "- 딕셔너리 활용하기"
   ]
  },
  {
   "cell_type": "code",
   "execution_count": 62,
   "metadata": {},
   "outputs": [
    {
     "data": {
      "text/plain": [
       "{'강원도': '원주', '경기도': '광명', '경상도': '부산', '전라도': '전주', '충청도': '천안'}"
      ]
     },
     "execution_count": 62,
     "metadata": {},
     "output_type": "execute_result"
    }
   ],
   "source": [
    "province_city[\"경기도\"]=\"광명\" # dict_variable[key] = value 새로운 key:value 수정/추가\n",
    "province_city"
   ]
  },
  {
   "cell_type": "code",
   "execution_count": 63,
   "metadata": {},
   "outputs": [
    {
     "data": {
      "text/plain": [
       "{'강원도': '원주', '경기도': '광명', '경상도': '부산', '수도': '서울', '전라도': '전주', '충청도': '천안'}"
      ]
     },
     "execution_count": 63,
     "metadata": {},
     "output_type": "execute_result"
    }
   ],
   "source": [
    "province_city[\"수도\"]=\"서울\" #새로운 key와 value 생성\n",
    "province_city"
   ]
  },
  {
   "cell_type": "code",
   "execution_count": 64,
   "metadata": {},
   "outputs": [
    {
     "data": {
      "text/plain": [
       "{'강원도': '원주', '경기도': '광명', '수도': '서울', '전라도': '전주', '충청도': '천안'}"
      ]
     },
     "execution_count": 64,
     "metadata": {},
     "output_type": "execute_result"
    }
   ],
   "source": [
    "del province_city[\"경상도\"] #데이터 삭제하기\n",
    "province_city"
   ]
  },
  {
   "cell_type": "markdown",
   "metadata": {},
   "source": [
    "- 딕셔너리 메서드 활용하기"
   ]
  },
  {
   "cell_type": "code",
   "execution_count": 65,
   "metadata": {},
   "outputs": [
    {
     "name": "stdout",
     "output_type": "stream",
     "text": [
      "dict_values([11, 12, 13, 14])\n"
     ]
    }
   ],
   "source": [
    "city_code = {\"서울\":11,\"일산\":12,\"인천\":13,\"부산\":14} # 변수명.values( ) : 딕셔너리에서 값 전체를 리스트 형태로 반환\n",
    "print(city_code.values())"
   ]
  },
  {
   "cell_type": "code",
   "execution_count": 66,
   "metadata": {},
   "outputs": [
    {
     "name": "stdout",
     "output_type": "stream",
     "text": [
      "dict_keys(['서울', '일산', '인천', '부산'])\n"
     ]
    }
   ],
   "source": [
    "print(city_code.keys()) # 변수명.keys( ) : 딕셔너리에서 키 전체를 리스트 형태로 반환"
   ]
  },
  {
   "cell_type": "code",
   "execution_count": 67,
   "metadata": {},
   "outputs": [
    {
     "data": {
      "text/plain": [
       "{'부산': 14, '서울': 11, '인천': 13, '일산': 12, '전주': 15, '천안': 16}"
      ]
     },
     "execution_count": 67,
     "metadata": {},
     "output_type": "execute_result"
    }
   ],
   "source": [
    "city_code2={\"전주\":15, \"천안\":16} \n",
    "city_code.update(city_code2) # update(city_code2 ) : 딕셔너리에 딕셔너리 데이터('city_code2') 추가\n",
    "city_code"
   ]
  },
  {
   "cell_type": "code",
   "execution_count": 68,
   "metadata": {},
   "outputs": [
    {
     "data": {
      "text/plain": [
       "{}"
      ]
     },
     "execution_count": 68,
     "metadata": {},
     "output_type": "execute_result"
    }
   ],
   "source": [
    "city_code.clear() #모든항목 삭제\n",
    "city_code"
   ]
  },
  {
   "cell_type": "markdown",
   "metadata": {},
   "source": [
    "### 1.3 제어문 \n",
    "#### - 조건에 따라 코드의 특정 부분만 수행하거나 반복할 필요가 있을때 코드의 진행 순서를 바꾸는 구문을 '제어문'이라고 한다. "
   ]
  },
  {
   "cell_type": "markdown",
   "metadata": {},
   "source": [
    "#### 1) if 문\n",
    "#### - if문에서는 지정한 조건에 따라 다르게 명령을 수행한다.\n",
    "#### - if문에서는 조건의 만족 여부에 따라서 코드 수행 결과가 달라진다."
   ]
  },
  {
   "cell_type": "markdown",
   "metadata": {},
   "source": [
    "- if조건문 기본 구조\n",
    "\n",
    "      if <조건문> : \n",
    "         <수행할 코드>\n",
    "\n",
    "<조건문>을 만족하면 그 아래의 코드를 수행하고, 만족하지 않으면 수행하지 않는다."
   ]
  },
  {
   "cell_type": "markdown",
   "metadata": {},
   "source": [
    "#### 비교 연산자\n",
    "    == 같다\n",
    "    != 같지않다. \n",
    "    < 작다\n",
    "    > 크다\n",
    "    <= 작거나 같다\n",
    "    >= 크거나 같다\n",
    "\n",
    "#### 논리 연산자\n",
    "    and 논리곱: A and B -> A와 B가 모두 참이면 참이고 그 외에는 거짓\n",
    "    or  논리합: A or B -> A와 B 중 하나라도 참이면 참이고 둘 다 거짓이면 거짓\n",
    "    not 논리부정: not A -> A가 참이면 거짓이고 거짓이면 참"
   ]
  },
  {
   "cell_type": "code",
   "execution_count": 3,
   "metadata": {},
   "outputs": [
    {
     "name": "stdout",
     "output_type": "stream",
     "text": [
      "Pass\n"
     ]
    }
   ],
   "source": [
    "weight = 85\n",
    "if weight >= 80:  #<조건문>\n",
    "    print(\"Pass\") #<수행할 코드>"
   ]
  },
  {
   "cell_type": "markdown",
   "metadata": {},
   "source": [
    "- if와 else를 이용한 조건문 기본 구조\n",
    "\n",
    "        if <조건문> : \n",
    "           <수행할 코드1>\n",
    "        else :\n",
    "           <수행할 코드2>\n",
    "       \n",
    "if~else문은 <조건문> 만족 여부에 따라 코드를 다르게 수행한다.\n",
    "<조건문>을 만족하면 <수행할 코드1>을 수행하고, 만족하지 않으면 <수행할 코드2>를 수행한다. "
   ]
  },
  {
   "cell_type": "code",
   "execution_count": 70,
   "metadata": {},
   "outputs": [
    {
     "name": "stdout",
     "output_type": "stream",
     "text": [
      "Fail\n"
     ]
    }
   ],
   "source": [
    "weight = 75\n",
    "if weight >= 90: \n",
    "    print(\"Pass\")\n",
    "\n",
    "else: \n",
    "    print(\"Fail\")"
   ]
  },
  {
   "cell_type": "markdown",
   "metadata": {},
   "source": [
    "- if~elif~else를 활용한 다중 조건문 기본 구조\n",
    "    \n",
    "      if<조건문1> : \n",
    "        <수행할 코드1>\n",
    "      elif<조건문2> :\n",
    "        <수행할 코드2>\n",
    "        .\n",
    "        .\n",
    "        .\n",
    "      elif<조건문n> : \n",
    "        <수행할 코드n>\n",
    "      else :\n",
    "        <수행할 코드m>\n",
    "       \n",
    "<조건문 1>이 만족하는지 검사하고 만족하면 <수행할 코드 1> 수행, 만족 못하면 <조건문 2> 검사하고 만족하면 <수행할 코드2> 수행 아니라면 다음 조건문을 검사하는 방법을 마지막 <조건문 n> 까지 반복한다.\n",
    "\n",
    "위 방법을 반복하고 마지막 조건문까지 만족하지 않으면 'else:' 아래의 <수행할 코드 m>을 실행"
   ]
  },
  {
   "cell_type": "code",
   "execution_count": 71,
   "metadata": {},
   "outputs": [
    {
     "name": "stdout",
     "output_type": "stream",
     "text": [
      "Good\n"
     ]
    }
   ],
   "source": [
    "f = 10\n",
    "if f > 20:\n",
    "    print(\"Best\")\n",
    "elif  (f >= 10) and (f < 20): #elif  10 <= f < 20: # 위 예제보다 직관적으로 코드 입력\n",
    "    print(\"Good\")\n",
    "else:\n",
    "    print(\"Bad\")"
   ]
  },
  {
   "cell_type": "markdown",
   "metadata": {},
   "source": [
    "#### 2) for 문\n",
    "\n",
    "#### - 지정된 횟수 또는 지정된 조건을 만족할 때 작업을 반복적으로 수행하는 구문을 반복문이라 하며 반복문에는 for문과 while이 있다. "
   ]
  },
  {
   "cell_type": "code",
   "execution_count": 72,
   "metadata": {},
   "outputs": [
    {
     "name": "stdout",
     "output_type": "stream",
     "text": [
      "1\n",
      "2\n",
      "3\n",
      "4\n",
      "5\n",
      "6\n"
     ]
    }
   ],
   "source": [
    "a = 1 # 변수 a를 0으로 초기화\n",
    "print(a) # 변수 a 출력\n",
    "\n",
    "a = a + 1 # 변수 a에 1을 더한 후, 다시 a에 대입\n",
    "print(a)  # 변수 a 출력\n",
    "\n",
    "a = a + 1 # 같은 코드 반복\n",
    "print(a)\n",
    "\n",
    "a = a + 1 # 같은 코드 반복\n",
    "print(a)\n",
    "\n",
    "a = a + 1 # 같은 코드 반복\n",
    "print(a)\n",
    "\n",
    "a = a + 1 # 같은 코드 반복\n",
    "print(a)"
   ]
  },
  {
   "cell_type": "markdown",
   "metadata": {},
   "source": [
    "- for문의 기본구조\n",
    "    \n",
    "      for<반복 변수> in <반복 범위> :\n",
    "         <수행할 코드>\n",
    "\n",
    "for 문에서 <반복 변수>는 in<반복 범위>에 따라 변하면서 <수행할 코드>을 실행한다. "
   ]
  },
  {
   "cell_type": "code",
   "execution_count": 73,
   "metadata": {},
   "outputs": [
    {
     "name": "stdout",
     "output_type": "stream",
     "text": [
      "1\n",
      "2\n",
      "3\n",
      "4\n",
      "5\n"
     ]
    }
   ],
   "source": [
    "for a in [1,2,3,4,5]: #리스트를 이용한 반복 범위 지정\n",
    "    print(a)"
   ]
  },
  {
   "cell_type": "code",
   "execution_count": 74,
   "metadata": {},
   "outputs": [
    {
     "name": "stdout",
     "output_type": "stream",
     "text": [
      "Kane\n",
      "Ericsen\n",
      "Alli\n",
      "Son\n"
     ]
    }
   ],
   "source": [
    "customer_name = ['Kane', 'Ericsen', 'Alli', 'Son']  # 리스트를 변수에 할당\n",
    "for customer_name in customer_name:\n",
    "    print(customer_name)"
   ]
  },
  {
   "cell_type": "code",
   "execution_count": 76,
   "metadata": {},
   "outputs": [
    {
     "name": "stdout",
     "output_type": "stream",
     "text": [
      "[1, 3, 5, 7, 9]\n"
     ]
    }
   ],
   "source": [
    "print(list(range(1, 10, 2))) #range(start, stop, step) : start는 시작지점, stop은 끝지점, step는 증감의 크기"
   ]
  },
  {
   "cell_type": "code",
   "execution_count": 77,
   "metadata": {},
   "outputs": [
    {
     "name": "stdout",
     "output_type": "stream",
     "text": [
      "1\n",
      "4\n",
      "7\n",
      "10\n",
      "13\n"
     ]
    }
   ],
   "source": [
    "for a in range(1, 16, 3):\n",
    "    print(a)"
   ]
  },
  {
   "cell_type": "code",
   "execution_count": 78,
   "metadata": {},
   "outputs": [],
   "source": [
    "customer_name = ['Kane', 'Ericsen', 'Alli', 'Son']\n",
    "sales_qty = [20, 25, 5, 15]"
   ]
  },
  {
   "cell_type": "code",
   "execution_count": 79,
   "metadata": {},
   "outputs": [
    {
     "name": "stdout",
     "output_type": "stream",
     "text": [
      "Kane 20\n",
      "Ericsen 25\n",
      "Alli 5\n",
      "Son 15\n"
     ]
    }
   ],
   "source": [
    "for k in range(len(customer_name)):  # 2개 이상의 리스트 반복하기(len->반복 범위, range->반복 변수)\n",
    "    print(customer_name[k], sales_qty[k])"
   ]
  },
  {
   "cell_type": "code",
   "execution_count": 80,
   "metadata": {},
   "outputs": [
    {
     "name": "stdout",
     "output_type": "stream",
     "text": [
      "Kane 20\n",
      "Ericsen 25\n",
      "Alli 5\n",
      "Son 15\n"
     ]
    }
   ],
   "source": [
    "for customer_name, sales_qty in zip(customer_name, sales_qty): #zip( )함수:같은 길이의 데이터를 하나로 묶어줌.\n",
    "    print(customer_name, sales_qty)"
   ]
  },
  {
   "cell_type": "markdown",
   "metadata": {},
   "source": [
    "#### 3) while 문\n",
    "\n",
    "#### - for문과 다르게 반복 범위 없이 조건에 따라서 반복 수행 여부를 결정하는 경우에는 while 문을 주로 이용"
   ]
  },
  {
   "cell_type": "markdown",
   "metadata": {},
   "source": [
    "- while 문의 기본구조\n",
    "\n",
    "\n",
    "      while <조건문> :\n",
    "        <수행할 코드>\n",
    "\n",
    "while 문에서 <조건문>을 만족하면 <수행할 코드>를 계속 수행하고 <조건문>을 만족하지 않으면 <수행할 코드>를 실행하지 않고 while 문을 빠져나온다.\n",
    "    "
   ]
  },
  {
   "cell_type": "code",
   "execution_count": 81,
   "metadata": {},
   "outputs": [
    {
     "name": "stdout",
     "output_type": "stream",
     "text": [
      "customer_count sum\n",
      "1 1\n",
      "2 3\n",
      "3 6\n",
      "4 10\n",
      "5 15\n",
      "6 21\n"
     ]
    }
   ],
   "source": [
    "customer_count = 0  # 초기화\n",
    "sum = 0   # 초기화\n",
    "\n",
    "print(\"customer_count sum\")\n",
    "while (sum < 20):  # 조건 검사\n",
    "    customer_count = customer_count + 1 # i를 1씩 증가\n",
    "    sum = sum + customer_count  # 이전의 sum과 현재 i를 더해서 sum을 갱신\n",
    "    print(customer_count, sum)  # i와 sum을 출력"
   ]
  },
  {
   "cell_type": "markdown",
   "metadata": {},
   "source": [
    "### 1.4 함수\n",
    "#### - 특정 기능을 수행하는 코드의 묶음\n",
    "#### - 반복적인 코드를 없애 주어 코드의 길이를 짧게 만들어 준다. \n",
    "#### - 프로그램의 유지보수를 쉽게 만들어 준다.  "
   ]
  },
  {
   "cell_type": "markdown",
   "metadata": {},
   "source": [
    "- 함수의 기본 구조\n",
    "\n",
    "      def 함수명([인자1, 인자2, ..., 인자n]):\n",
    "          <수행할 문장>\n",
    "          [return<반환 값>]\n",
    "\n",
    "\n",
    "- 함수호출코드 \n",
    "     \n",
    "      함수명([인자1, 인자2, ..., 인자n])\n",
    "\n",
    "함수를 호출할때는 정의할 때 지정했던 인자도 함께 써야한다."
   ]
  },
  {
   "cell_type": "code",
   "execution_count": 12,
   "metadata": {},
   "outputs": [],
   "source": [
    "def multi(a,b): \n",
    "    c = a*b\n",
    "    return c"
   ]
  },
  {
   "cell_type": "code",
   "execution_count": 13,
   "metadata": {},
   "outputs": [
    {
     "data": {
      "text/plain": [
       "20"
      ]
     },
     "execution_count": 13,
     "metadata": {},
     "output_type": "execute_result"
    }
   ],
   "source": [
    "multi(5,4)"
   ]
  },
  {
   "cell_type": "code",
   "execution_count": 8,
   "metadata": {},
   "outputs": [],
   "source": [
    "def my_customer_info_list(my_customer_info): #리스트를 인자로 갖는 함수\n",
    "    print(\"****************************\")\n",
    "    print(\"* 고객이름:\", my_customer_info[0])\n",
    "    print(\"* 지점번호:\", my_customer_info[1])\n",
    "    print(\"* 전화번호:\", my_customer_info[2])\n",
    "    print(\"****************************\")"
   ]
  },
  {
   "cell_type": "code",
   "execution_count": 10,
   "metadata": {},
   "outputs": [
    {
     "name": "stdout",
     "output_type": "stream",
     "text": [
      "****************************\n",
      "* 고객이름: 승우\n",
      "* 지점번호: 01\n",
      "* 전화번호: 010-7725-6789\n",
      "****************************\n"
     ]
    }
   ],
   "source": [
    "customer1_info = [\"승우\", \"01\", \"010-7725-6789\"] # 리스트를 변수에 저장한 후 함수에 입력한 경우\n",
    "my_customer_info_list(customer1_info)"
   ]
  },
  {
   "cell_type": "code",
   "execution_count": 11,
   "metadata": {},
   "outputs": [
    {
     "name": "stdout",
     "output_type": "stream",
     "text": [
      "****************************\n",
      "* 고객이름: 흥민\n",
      "* 지점번호: 02\n",
      "* 전화번호: 010-9827-6543\n",
      "****************************\n"
     ]
    }
   ],
   "source": [
    "my_customer_info_list([\"흥민\", \"02\", \"010-9827-6543\"]) #리스트를 바로 인자로 정하는 경우"
   ]
  },
  {
   "cell_type": "markdown",
   "metadata": {},
   "source": [
    "- 변수의 범위\n",
    "        - 함수 안에서 정의한(혹은 생성한) 변수는 함수 안에서만 사용할 수 있다. \n",
    "        - 함수 안에서 정의한 변수는 함수 영역 안에서만 동작하는 변수이므로 지역 변수라고 한다.\n",
    "        - 지역 변수의 상대적 개념인 전역 변수는 코드 내 어디서나 사용 할 수 있다. \n",
    "        - 변수의 범위는 변수가 저장되는 이름 공간이 함수 밖이냐 안이냐에 따라서 코드 내에서 영향을 미치는 유효 범위(scope)가 달라짐.\n",
    "\n",
    "\n",
    "\n",
    "- 지역 영역: 지역 변수를 저장하는 이름 공간 \n",
    "- 전역 영역: 전역 변수를 저장하는 이름 공간 \n",
    "- 내장 영역: 파이썬 자체에서 정의한 이름 공간을 내장 영역\n",
    "- 스코피 룰(Scoping rule): 함수에서 어떤 변수를 호출하면 지역 영역, 전역 영역, 내장 영역 순서대로 변수가 있는지 확인\n",
    "\n",
    "\n",
    "*함수 작성식 지역 변수와 전역 변수의 이름이 다르다면 문제가 되지 않지만 만약 동일한 변수명을 지역 변수와 전역 변수에 모두 이용했다면  스코핑 룰에 따라 변수가 선택됨"
   ]
  },
  {
   "cell_type": "code",
   "execution_count": 87,
   "metadata": {},
   "outputs": [],
   "source": [
    "a = \"전역변수 1\" # 전역 변수\n",
    "\n",
    "def func_1():\n",
    "    a = \"지역변수 1\" # 지역 변수. func1()에서만 사용\n",
    "    print(\"[func1] 지역 변수 a =\", a)\n",
    "\n",
    "def func_2():\n",
    "    a = \"지역변수 2\" # 지역 변수. func2()에서만 사용\n",
    "    print(\"[func2] 지역 변수 a =\", a)  \n",
    "    \n",
    "def func_3():\n",
    "    print(\"[func3] 전역 변수 a =\", a)   \n",
    "    \n",
    "def func_4():\n",
    "    global a  # 함수 내에서 전역 변수 변경 위해 선언\n",
    "    a = 4      # 전역 변수의 값 변경\n",
    "    print(\"[func4] 전역 변수 a =\",a)"
   ]
  },
  {
   "cell_type": "code",
   "execution_count": 88,
   "metadata": {},
   "outputs": [
    {
     "name": "stdout",
     "output_type": "stream",
     "text": [
      "[func1] 지역 변수 a = 지역변수 1\n",
      "[func2] 지역 변수 a = 지역변수 2\n",
      "전역 변수 a = 전역변수 1\n"
     ]
    }
   ],
   "source": [
    "func_1() #함수 func_1() 호출\n",
    "func_2() #함수 func_2() 호출\n",
    "print(\"전역 변수 a =\", a) # 전역 변수 출력 "
   ]
  },
  {
   "cell_type": "code",
   "execution_count": 89,
   "metadata": {},
   "outputs": [
    {
     "name": "stdout",
     "output_type": "stream",
     "text": [
      "[func3] 전역 변수 a = 전역변수 1\n",
      "[func4] 전역 변수 a = 4\n",
      "[func3] 전역 변수 a = 4\n"
     ]
    }
   ],
   "source": [
    "func_3() #함수 func_3() 호출\n",
    "func_4() #함수 func_4() 호출\n",
    "func_3() #함수 func_3() 호출"
   ]
  },
  {
   "cell_type": "markdown",
   "metadata": {},
   "source": [
    "#### 3) 파이썬 내장 함수"
   ]
  },
  {
   "cell_type": "code",
   "execution_count": 90,
   "metadata": {},
   "outputs": [
    {
     "data": {
      "text/plain": [
       "[1, 68]"
      ]
     },
     "execution_count": 90,
     "metadata": {},
     "output_type": "execute_result"
    }
   ],
   "source": [
    "Num = [1,5,9,10,11,27,68]\n",
    "[min(Num), max(Num)] #최솟값과 최댓값"
   ]
  },
  {
   "cell_type": "code",
   "execution_count": 91,
   "metadata": {},
   "outputs": [
    {
     "data": {
      "text/plain": [
       "['a', 'f']"
      ]
     },
     "execution_count": 91,
     "metadata": {},
     "output_type": "execute_result"
    }
   ],
   "source": [
    "Alpha = 'abcdef'\n",
    "[min(Alpha), max(Alpha)]"
   ]
  },
  {
   "cell_type": "code",
   "execution_count": 92,
   "metadata": {},
   "outputs": [
    {
     "data": {
      "text/plain": [
       "[100, 100]"
      ]
     },
     "execution_count": 92,
     "metadata": {},
     "output_type": "execute_result"
    }
   ],
   "source": [
    "[abs(100), abs(-100)] # 절댓값"
   ]
  },
  {
   "cell_type": "code",
   "execution_count": 1,
   "metadata": {},
   "outputs": [
    {
     "data": {
      "text/plain": [
       "15"
      ]
     },
     "execution_count": 1,
     "metadata": {},
     "output_type": "execute_result"
    }
   ],
   "source": [
    "list_sum = [1,2,3,4,5]\n",
    "sum(list_sum) # 전체 합"
   ]
  },
  {
   "cell_type": "markdown",
   "metadata": {},
   "source": [
    "#### 항목의 길이"
   ]
  },
  {
   "cell_type": "code",
   "execution_count": 2,
   "metadata": {},
   "outputs": [
    {
     "data": {
      "text/plain": [
       "11"
      ]
     },
     "execution_count": 2,
     "metadata": {},
     "output_type": "execute_result"
    }
   ],
   "source": [
    "len(\"South Korea\") # 문자열"
   ]
  },
  {
   "cell_type": "code",
   "execution_count": 3,
   "metadata": {},
   "outputs": [
    {
     "data": {
      "text/plain": [
       "8"
      ]
     },
     "execution_count": 3,
     "metadata": {},
     "output_type": "execute_result"
    }
   ],
   "source": [
    "len([1, 2, 3, 4, 5, 6, 7, 8]) # 리스트"
   ]
  },
  {
   "cell_type": "code",
   "execution_count": 4,
   "metadata": {},
   "outputs": [
    {
     "data": {
      "text/plain": [
       "5"
      ]
     },
     "execution_count": 4,
     "metadata": {},
     "output_type": "execute_result"
    }
   ],
   "source": [
    "len((1, 2, 3, 4, 5)) # 튜플"
   ]
  },
  {
   "cell_type": "code",
   "execution_count": 5,
   "metadata": {},
   "outputs": [
    {
     "data": {
      "text/plain": [
       "3"
      ]
     },
     "execution_count": 5,
     "metadata": {},
     "output_type": "execute_result"
    }
   ],
   "source": [
    "len({1:\"Alli\", 2:\"Son\", 3:\"Kane\"}) # 딕셔너리"
   ]
  },
  {
   "cell_type": "code",
   "execution_count": 6,
   "metadata": {},
   "outputs": [
    {
     "data": {
      "text/plain": [
       "[0, 4, -2]"
      ]
     },
     "execution_count": 6,
     "metadata": {},
     "output_type": "execute_result"
    }
   ],
   "source": [
    "[int(0.12), int(4.5213), int(-2.21)] # 정수형 변환"
   ]
  },
  {
   "cell_type": "code",
   "execution_count": 7,
   "metadata": {},
   "outputs": [
    {
     "data": {
      "text/plain": [
       "[0.0, 12.3, -456.0]"
      ]
     },
     "execution_count": 7,
     "metadata": {},
     "output_type": "execute_result"
    }
   ],
   "source": [
    "[float(0), float(12.3), float(-456)] # 실수형 변환"
   ]
  },
  {
   "cell_type": "code",
   "execution_count": 8,
   "metadata": {},
   "outputs": [
    {
     "data": {
      "text/plain": [
       "['111', '987654', '-123']"
      ]
     },
     "execution_count": 8,
     "metadata": {},
     "output_type": "execute_result"
    }
   ],
   "source": [
    "[str(111), str(987654), str(-123)] # 문자형 변환"
   ]
  },
  {
   "cell_type": "markdown",
   "metadata": {},
   "source": [
    "#### 리스트, 튜플형 변환"
   ]
  },
  {
   "cell_type": "code",
   "execution_count": 9,
   "metadata": {},
   "outputs": [],
   "source": [
    "List_data = ['vip', 1, 2]\n",
    "Tuple_data = ('vvip', 1, 2)"
   ]
  },
  {
   "cell_type": "code",
   "execution_count": 10,
   "metadata": {},
   "outputs": [
    {
     "data": {
      "text/plain": [
       "[list, tuple]"
      ]
     },
     "execution_count": 10,
     "metadata": {},
     "output_type": "execute_result"
    }
   ],
   "source": [
    "[type(List_data), type(Tuple_data)]"
   ]
  },
  {
   "cell_type": "code",
   "execution_count": 11,
   "metadata": {},
   "outputs": [
    {
     "name": "stdout",
     "output_type": "stream",
     "text": [
      "리스트로 변환:  ['vvip', 1, 2]\n"
     ]
    }
   ],
   "source": [
    "print(\"리스트로 변환: \", list(Tuple_data))"
   ]
  },
  {
   "cell_type": "code",
   "execution_count": 12,
   "metadata": {},
   "outputs": [
    {
     "name": "stdout",
     "output_type": "stream",
     "text": [
      "튜플로 변환: ('vip', 1, 2)\n"
     ]
    }
   ],
   "source": [
    "print(\"튜플로 변환:\", tuple(List_data))"
   ]
  },
  {
   "cell_type": "markdown",
   "metadata": {},
   "source": [
    "#### 내장 함수의 활용"
   ]
  },
  {
   "cell_type": "code",
   "execution_count": 13,
   "metadata": {},
   "outputs": [
    {
     "name": "stdout",
     "output_type": "stream",
     "text": [
      "총 포인트 적립액:1100, 품목당 평균적립 포인트:275.0\n"
     ]
    }
   ],
   "source": [
    "points = [100, 250, 50, 700] # 품목별 포인트 점수\n",
    "\n",
    "point_sum = 0                     # 총 포인트 계산을 위한 초깃값 설정\n",
    "product_num = 0                   # 품목수 계산을 위한 초깃값 설정\n",
    "for point in points:\n",
    "    point_sum = point_sum + point # 총 포인트 모두 더하기\n",
    "    product_num = product_num + 1 # 품목수 계산\n",
    "    \n",
    "average = point_sum / product_num # 품목당 평균적립 포인트 (총 포인트 / 품목수) 구하기\n",
    "\n",
    "print(\"총 포인트 적립액:{0}, 품목당 평균적립 포인트:{1}\".format(point_sum,average))"
   ]
  },
  {
   "cell_type": "code",
   "execution_count": 14,
   "metadata": {},
   "outputs": [
    {
     "name": "stdout",
     "output_type": "stream",
     "text": [
      "총 포인트 적립액:1100,  품목당 평균적립 포인트:275.0\n"
     ]
    }
   ],
   "source": [
    "points = [100, 250, 50, 700]  # 품목별 포인트 점수\n",
    "\n",
    "print(\"총 포인트 적립액:{0},  품목당 평균적립 포인트:{1}\".format(sum(points), sum(points)/len(points)))"
   ]
  },
  {
   "cell_type": "code",
   "execution_count": 15,
   "metadata": {},
   "outputs": [
    {
     "name": "stdout",
     "output_type": "stream",
     "text": [
      "최저 포인트 적립액:50, 최고 포인트 적립액:700\n"
     ]
    }
   ],
   "source": [
    "print(\"최저 포인트 적립액:{0}, 최고 포인트 적립액:{1}\".format(min(points), max(points)))"
   ]
  }
 ],
 "metadata": {
  "kernelspec": {
   "display_name": "Python 3",
   "language": "python",
   "name": "python3"
  },
  "language_info": {
   "codemirror_mode": {
    "name": "ipython",
    "version": 3
   },
   "file_extension": ".py",
   "mimetype": "text/x-python",
   "name": "python",
   "nbconvert_exporter": "python",
   "pygments_lexer": "ipython3",
   "version": "3.7.3"
  }
 },
 "nbformat": 4,
 "nbformat_minor": 2
}
