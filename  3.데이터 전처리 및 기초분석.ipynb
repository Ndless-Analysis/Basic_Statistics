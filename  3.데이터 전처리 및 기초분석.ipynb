{
 "cells": [
  {
   "cell_type": "markdown",
   "metadata": {},
   "source": [
    "## 3장. 데이터 전처리 및 기초분석"
   ]
  },
  {
   "cell_type": "markdown",
   "metadata": {},
   "source": [
    "### 3.1 분석을 위한 데이터 준비"
   ]
  },
  {
   "cell_type": "markdown",
   "metadata": {},
   "source": [
    "#### 1. 데이터 불러오기\n",
    "\n",
    "실습데이터 Ashopping을 파이썬을 이용하여 불러온다. \n"
   ]
  },
  {
   "cell_type": "markdown",
   "metadata": {},
   "source": [
    "#### 변수명=pd.read_csv(\"파일경로\\파일이름\\.파일형식\", sep=\"구분자\", encoding='코딩방식')\n",
    "\n",
    "    구분자: \",\",  \"|\", \"\\s+\"\n",
    "    encoding:'CP949' 파이썬에서 한글을 열수 있도록 인코딩 설정\n"
   ]
  },
  {
   "cell_type": "code",
   "execution_count": null,
   "metadata": {},
   "outputs": [],
   "source": [
    "# 텍스트 파일 열기\n",
    "import pandas as pd\n",
    "df = pd.read_csv(\"C:\\python\\Ashopping.txt\",sep=\",\", encoding='CP949')\n",
    "df"
   ]
  },
  {
   "cell_type": "code",
   "execution_count": null,
   "metadata": {
    "scrolled": true
   },
   "outputs": [],
   "source": [
    "df.info() #데이터 칼럼 정보 확인"
   ]
  },
  {
   "cell_type": "markdown",
   "metadata": {},
   "source": [
    "### 3.2 데이터 전처리 및 파생변수 생성\n",
    "\n",
    "### 1. 데이터 전처리\n",
    "\n",
    "#### 1) 표본추출하기\n",
    "\n",
    "무작위 표본추출을 실행해 본다."
   ]
  },
  {
   "cell_type": "markdown",
   "metadata": {},
   "source": [
    "#### dataframe.sample(n=None,replace=False, random_state=None)\n",
    "     \n",
    "     n:출력될 표본의 크기\n",
    "     replace:복원추출 여부(True/False)\n",
    "     random_state:임의난수"
   ]
  },
  {
   "cell_type": "code",
   "execution_count": null,
   "metadata": {},
   "outputs": [],
   "source": [
    "data_temp = df.sample(n=10, replace= False, random_state=123)\n",
    "data_temp"
   ]
  },
  {
   "cell_type": "markdown",
   "metadata": {},
   "source": [
    "#### 2) 조건을 만족하는 레코드 추출하기\n",
    "\n",
    "고객의 이탈여부가 '1', 즉 이탈로 판단된 고객만을 추출하는 작업을 진행해 본다. "
   ]
  },
  {
   "cell_type": "code",
   "execution_count": null,
   "metadata": {},
   "outputs": [],
   "source": [
    "churn_customer = df[df.이탈여부==1] "
   ]
  },
  {
   "cell_type": "code",
   "execution_count": null,
   "metadata": {},
   "outputs": [],
   "source": [
    "churn_customer.head()"
   ]
  },
  {
   "cell_type": "markdown",
   "metadata": {},
   "source": [
    "#### 3) 특정 필드 추출하기\n",
    "\n",
    "'고객ID','방문빈도' 컬럼만 추출하는 필드 추출 작업을 진행한다. "
   ]
  },
  {
   "cell_type": "code",
   "execution_count": null,
   "metadata": {},
   "outputs": [],
   "source": [
    "df_1= df[[\"고객ID\",\"방문빈도\"]] #컴럼명을 입력하여 추출하기"
   ]
  },
  {
   "cell_type": "code",
   "execution_count": null,
   "metadata": {},
   "outputs": [],
   "source": [
    "df_1.head()"
   ]
  },
  {
   "cell_type": "markdown",
   "metadata": {},
   "source": [
    "#### 4) 데이터 분할하기\n",
    "\n",
    "'고객ID'를 기준으로 고객ID가 500 이하와 500초과의 두 고객군으로 분할하는 실습을 진행한다."
   ]
  },
  {
   "cell_type": "code",
   "execution_count": null,
   "metadata": {},
   "outputs": [],
   "source": [
    "Under_500 = df[df.고객ID<=500] \n",
    "Upper_500 = df[df.고객ID>500] "
   ]
  },
  {
   "cell_type": "code",
   "execution_count": null,
   "metadata": {},
   "outputs": [],
   "source": [
    "Under_500.tail()"
   ]
  },
  {
   "cell_type": "code",
   "execution_count": null,
   "metadata": {},
   "outputs": [],
   "source": [
    "Upper_500.tail()"
   ]
  },
  {
   "cell_type": "markdown",
   "metadata": {},
   "source": [
    "#### 5) 데이터 추가하기\n",
    "\n",
    "'고객ID 1~500' 데이터 셋에 '501~1000'데이터 셋을 다시 추가해 본다."
   ]
  },
  {
   "cell_type": "markdown",
   "metadata": {},
   "source": [
    "   #### dataframe1.append(dataframe2, ignore_index=True/False)\n",
    "    \n",
    "    ignore_index: 데이터 통합 후 index 유지여부 선택 "
   ]
  },
  {
   "cell_type": "code",
   "execution_count": null,
   "metadata": {},
   "outputs": [],
   "source": [
    "df_join=Under_500.append(Upper_500,ignore_index=True)\n",
    "df_join"
   ]
  },
  {
   "cell_type": "markdown",
   "metadata": {},
   "source": [
    "#### 6) 데이터 병합하기\n",
    "\n",
    "'고객ID'와 '방문빈도'만을 선택한 데이터 셋에 '고객ID'를 기준으로 '총 매출액' 변수를 추가한 데이터 셋을 만든다. "
   ]
  },
  {
   "cell_type": "markdown",
   "metadata": {},
   "source": [
    "- index가 같은 경우 병합하기\n",
    "\n",
    "#### dataframe_data1.join(dataframe_data2)"
   ]
  },
  {
   "cell_type": "code",
   "execution_count": null,
   "metadata": {},
   "outputs": [],
   "source": [
    "df_2 = df[[\"총_매출액\"]]"
   ]
  },
  {
   "cell_type": "code",
   "execution_count": null,
   "metadata": {},
   "outputs": [],
   "source": [
    "df_join = df_1.join(df_2)\n",
    "df_join"
   ]
  },
  {
   "cell_type": "markdown",
   "metadata": {},
   "source": [
    "- 특정 열 기준 병합하기\n",
    "\n",
    "#### datafarme_left_data.merge(dataframe_right_data, how=left/right/outer/inner, on=key_label)\n",
    "    \n",
    "    on: key로 사용하고자하는 열 입력\n",
    "    - how 선택 인자 -\n",
    "\n",
    "    left: 왼쪽 데이터는 유지하고 지정된 열값이 있는 오른쪽 데이터 선택\n",
    "    \n",
    "    right: 오는쪽 데이터는 모두 유지하고 지정된 열에 값이 있는 왼쪽 데이터 선택\n",
    "    \n",
    "    outter: 지정된 열을 기준으로 왼쪽과 오른쪽 데이터 모두 선택\n",
    "    \n",
    "    inner: 지정된 열을 기준으로 왼쪽과 오른쪽 데이터 중 공통 항목만 선택"
   ]
  },
  {
   "cell_type": "code",
   "execution_count": null,
   "metadata": {},
   "outputs": [],
   "source": [
    "df_3 = df[[\"고객ID\",\"총_매출액\"]]"
   ]
  },
  {
   "cell_type": "code",
   "execution_count": null,
   "metadata": {},
   "outputs": [],
   "source": [
    "df_merge = df_1.merge(df_3)\n",
    "df_merge.head()"
   ]
  },
  {
   "cell_type": "markdown",
   "metadata": {},
   "source": [
    "### 2. 파생변수의 생성\n",
    "\n",
    "#### 1) 표현형태 변환하기\n",
    "\n",
    "성별 변수에 대한 0/1 코딩방식을 보다 직관적인 형태인 남/여 형태로 전환해본다. \n"
   ]
  },
  {
   "cell_type": "markdown",
   "metadata": {},
   "source": [
    "#### np.where(조건, 만족하는 경우, 만족하지않는 경우)"
   ]
  },
  {
   "cell_type": "code",
   "execution_count": null,
   "metadata": {},
   "outputs": [],
   "source": [
    "import numpy as np\n",
    "df['남여']=np.where(df.성별 == 0, \"남자\",\"여자\")"
   ]
  },
  {
   "cell_type": "code",
   "execution_count": null,
   "metadata": {},
   "outputs": [],
   "source": [
    "df.성별"
   ]
  },
  {
   "cell_type": "code",
   "execution_count": null,
   "metadata": {},
   "outputs": [],
   "source": [
    "df['남여']"
   ]
  },
  {
   "cell_type": "code",
   "execution_count": null,
   "metadata": {},
   "outputs": [],
   "source": [
    "df.남여.value_counts()"
   ]
  },
  {
   "cell_type": "markdown",
   "metadata": {},
   "source": [
    "### 2) 척도 변환하기\n",
    "고객들의 총 매출액을 기준으로 상, 중, 하로 표현되는 고객등급 변수를 만들어 본다."
   ]
  },
  {
   "cell_type": "code",
   "execution_count": null,
   "metadata": {},
   "outputs": [],
   "source": [
    "df['New고객등급'] = np.where(df.총_매출액 >=100000,\"3\",np.where(df.총_매출액>=1000,\"2\",\"1\"))"
   ]
  },
  {
   "cell_type": "code",
   "execution_count": null,
   "metadata": {},
   "outputs": [],
   "source": [
    "df"
   ]
  },
  {
   "cell_type": "code",
   "execution_count": null,
   "metadata": {},
   "outputs": [],
   "source": [
    "df.New고객등급.value_counts()"
   ]
  },
  {
   "cell_type": "markdown",
   "metadata": {},
   "source": [
    "### 3) 모델링을 활용해 파생변수 생성하기\n",
    "\n",
    "고객들의 방문빈도와 총 매출액 변수를 활용해 만들어진 고객들의 1회 평균매출액이라는 파생변수를 직접 만들어 본다. "
   ]
  },
  {
   "cell_type": "code",
   "execution_count": null,
   "metadata": {},
   "outputs": [],
   "source": [
    "df[\"New_1회_평균매출액\"]=df[\"총_매출액\"]/df[\"방문빈도\"]"
   ]
  },
  {
   "cell_type": "code",
   "execution_count": null,
   "metadata": {},
   "outputs": [],
   "source": [
    "df"
   ]
  },
  {
   "cell_type": "markdown",
   "metadata": {},
   "source": [
    "### 4) 거래이력 요약을 통한 파생변수 생성하기\n",
    "\n",
    "고객들의 거래데이터가 아닌 고객데이터이기 때문에 고객들의 '이탈여부에 따른 총 매출액의 합계'라는 파생변수를 생성한다. "
   ]
  },
  {
   "cell_type": "code",
   "execution_count": null,
   "metadata": {},
   "outputs": [],
   "source": [
    "sum(churn_customer.총_매출액) #이탈 고객의 총 매출액"
   ]
  },
  {
   "cell_type": "code",
   "execution_count": null,
   "metadata": {},
   "outputs": [],
   "source": [
    "Non_churn_customer = df[df.이탈여부==0] "
   ]
  },
  {
   "cell_type": "code",
   "execution_count": null,
   "metadata": {},
   "outputs": [],
   "source": [
    "sum(Non_churn_customer.총_매출액)"
   ]
  },
  {
   "cell_type": "markdown",
   "metadata": {},
   "source": [
    "## 3.3 유용한 통계 그래프"
   ]
  },
  {
   "cell_type": "markdown",
   "metadata": {},
   "source": [
    "### 1. 히스토그램"
   ]
  },
  {
   "cell_type": "markdown",
   "metadata": {},
   "source": [
    "A 쇼핑에서는 고객만족경영의 일환으로 매년 고객들의 서비스 만족도를 조사하여 개선해야 할 문제점을 찾아 해결해 나가고 있다. 그런데 올해는 지난해와 달리 전반적인 서비스 만족도가 다소 떨어졌다는 마케팅 조사팀의 보고를 받고 올해 시행한 고객 서비스 만족도의 평가 현황을 파악해 보고자 한다. "
   ]
  },
  {
   "cell_type": "code",
   "execution_count": 1,
   "metadata": {},
   "outputs": [
    {
     "data": {
      "text/html": [
       "<div>\n",
       "<style scoped>\n",
       "    .dataframe tbody tr th:only-of-type {\n",
       "        vertical-align: middle;\n",
       "    }\n",
       "\n",
       "    .dataframe tbody tr th {\n",
       "        vertical-align: top;\n",
       "    }\n",
       "\n",
       "    .dataframe thead th {\n",
       "        text-align: right;\n",
       "    }\n",
       "</style>\n",
       "<table border=\"1\" class=\"dataframe\">\n",
       "  <thead>\n",
       "    <tr style=\"text-align: right;\">\n",
       "      <th></th>\n",
       "      <th>고객ID</th>\n",
       "      <th>이탈여부</th>\n",
       "      <th>총_매출액</th>\n",
       "      <th>방문빈도</th>\n",
       "      <th>1회_평균매출액</th>\n",
       "      <th>할인권_사용_횟수</th>\n",
       "      <th>총_할인_금액</th>\n",
       "      <th>고객등급</th>\n",
       "      <th>구매유형</th>\n",
       "      <th>클레임접수여부</th>\n",
       "      <th>...</th>\n",
       "      <th>음향_적절성</th>\n",
       "      <th>안내_표지판_설명</th>\n",
       "      <th>친절성</th>\n",
       "      <th>신속성</th>\n",
       "      <th>책임성</th>\n",
       "      <th>정확성</th>\n",
       "      <th>전문성</th>\n",
       "      <th>D1</th>\n",
       "      <th>D2</th>\n",
       "      <th>D3</th>\n",
       "    </tr>\n",
       "  </thead>\n",
       "  <tbody>\n",
       "    <tr>\n",
       "      <th>0</th>\n",
       "      <td>1</td>\n",
       "      <td>0</td>\n",
       "      <td>4007080</td>\n",
       "      <td>17</td>\n",
       "      <td>235711</td>\n",
       "      <td>1</td>\n",
       "      <td>5445</td>\n",
       "      <td>1</td>\n",
       "      <td>4</td>\n",
       "      <td>0</td>\n",
       "      <td>...</td>\n",
       "      <td>6</td>\n",
       "      <td>6</td>\n",
       "      <td>6</td>\n",
       "      <td>6</td>\n",
       "      <td>6</td>\n",
       "      <td>6</td>\n",
       "      <td>6</td>\n",
       "      <td>0</td>\n",
       "      <td>0</td>\n",
       "      <td>1</td>\n",
       "    </tr>\n",
       "    <tr>\n",
       "      <th>1</th>\n",
       "      <td>2</td>\n",
       "      <td>1</td>\n",
       "      <td>3168400</td>\n",
       "      <td>14</td>\n",
       "      <td>226314</td>\n",
       "      <td>22</td>\n",
       "      <td>350995</td>\n",
       "      <td>2</td>\n",
       "      <td>4</td>\n",
       "      <td>0</td>\n",
       "      <td>...</td>\n",
       "      <td>6</td>\n",
       "      <td>6</td>\n",
       "      <td>5</td>\n",
       "      <td>3</td>\n",
       "      <td>6</td>\n",
       "      <td>6</td>\n",
       "      <td>6</td>\n",
       "      <td>0</td>\n",
       "      <td>0</td>\n",
       "      <td>1</td>\n",
       "    </tr>\n",
       "    <tr>\n",
       "      <th>2</th>\n",
       "      <td>3</td>\n",
       "      <td>0</td>\n",
       "      <td>2680780</td>\n",
       "      <td>18</td>\n",
       "      <td>148932</td>\n",
       "      <td>6</td>\n",
       "      <td>186045</td>\n",
       "      <td>1</td>\n",
       "      <td>4</td>\n",
       "      <td>1</td>\n",
       "      <td>...</td>\n",
       "      <td>6</td>\n",
       "      <td>6</td>\n",
       "      <td>7</td>\n",
       "      <td>7</td>\n",
       "      <td>6</td>\n",
       "      <td>6</td>\n",
       "      <td>7</td>\n",
       "      <td>0</td>\n",
       "      <td>0</td>\n",
       "      <td>1</td>\n",
       "    </tr>\n",
       "    <tr>\n",
       "      <th>3</th>\n",
       "      <td>4</td>\n",
       "      <td>0</td>\n",
       "      <td>5946600</td>\n",
       "      <td>17</td>\n",
       "      <td>349800</td>\n",
       "      <td>1</td>\n",
       "      <td>5195</td>\n",
       "      <td>1</td>\n",
       "      <td>4</td>\n",
       "      <td>1</td>\n",
       "      <td>...</td>\n",
       "      <td>6</td>\n",
       "      <td>6</td>\n",
       "      <td>6</td>\n",
       "      <td>6</td>\n",
       "      <td>6</td>\n",
       "      <td>5</td>\n",
       "      <td>6</td>\n",
       "      <td>0</td>\n",
       "      <td>0</td>\n",
       "      <td>1</td>\n",
       "    </tr>\n",
       "    <tr>\n",
       "      <th>4</th>\n",
       "      <td>5</td>\n",
       "      <td>0</td>\n",
       "      <td>13745950</td>\n",
       "      <td>73</td>\n",
       "      <td>188301</td>\n",
       "      <td>9</td>\n",
       "      <td>246350</td>\n",
       "      <td>1</td>\n",
       "      <td>2</td>\n",
       "      <td>0</td>\n",
       "      <td>...</td>\n",
       "      <td>6</td>\n",
       "      <td>5</td>\n",
       "      <td>5</td>\n",
       "      <td>6</td>\n",
       "      <td>6</td>\n",
       "      <td>5</td>\n",
       "      <td>6</td>\n",
       "      <td>1</td>\n",
       "      <td>0</td>\n",
       "      <td>0</td>\n",
       "    </tr>\n",
       "  </tbody>\n",
       "</table>\n",
       "<p>5 rows × 42 columns</p>\n",
       "</div>"
      ],
      "text/plain": [
       "   고객ID  이탈여부     총_매출액  방문빈도  1회_평균매출액  할인권_사용_횟수  총_할인_금액  고객등급  구매유형  \\\n",
       "0     1     0   4007080    17    235711          1     5445     1     4   \n",
       "1     2     1   3168400    14    226314         22   350995     2     4   \n",
       "2     3     0   2680780    18    148932          6   186045     1     4   \n",
       "3     4     0   5946600    17    349800          1     5195     1     4   \n",
       "4     5     0  13745950    73    188301          9   246350     1     2   \n",
       "\n",
       "   클레임접수여부 ...  음향_적절성  안내_표지판_설명  친절성  신속성  책임성  정확성  전문성  D1  D2  D3  \n",
       "0        0 ...       6          6    6    6    6    6    6   0   0   1  \n",
       "1        0 ...       6          6    5    3    6    6    6   0   0   1  \n",
       "2        1 ...       6          6    7    7    6    6    7   0   0   1  \n",
       "3        1 ...       6          6    6    6    6    5    6   0   0   1  \n",
       "4        0 ...       6          5    5    6    6    5    6   1   0   0  \n",
       "\n",
       "[5 rows x 42 columns]"
      ]
     },
     "execution_count": 1,
     "metadata": {},
     "output_type": "execute_result"
    }
   ],
   "source": [
    "import pandas as pd\n",
    "df = pd.read_csv(\"C:\\python\\Ashopping.txt\",sep=\",\", encoding='CP949')#enconding: 인코딩 방식 설정\n",
    "df.head()"
   ]
  },
  {
   "cell_type": "markdown",
   "metadata": {},
   "source": [
    "#### matplotlib \n",
    "- python에서 데이터 시각화를 위해 가장 많이 사용하는 라이브러리\n",
    "- 2차원 그래프를 그릴 때 높은 수준의 결과물을 보장한다.\n",
    "- 사용자의 기호에 따라 그래프의 스타일, 각 축의 특성, 폰트의 특성등을 설정할 수 있다. \n",
    "    \n",
    "#### plt.hist(x, bins=n/auto)\n",
    "    - bins: 계급의 개수, auto로 설정하면 자동으로 계급을 생성해준다. \n",
    "    - rwidth: bar사이 간격설정\n",
    "    - color: bar 색 설정\n",
    "    - alpha : 그래프의 투명도 조절\n",
    "    - lable: 변수의 범례에 들어갈 텍스트 입력\n",
    "    - legend():변수의 범례를 나타냄\n",
    "    - grid(): 도표에 모눈을 표시함\n",
    "    "
   ]
  },
  {
   "cell_type": "code",
   "execution_count": 3,
   "metadata": {},
   "outputs": [],
   "source": [
    "import matplotlib #한글깨짐현상 방지\n",
    "matplotlib.rcParams['font.family'] = 'Malgun Gothic'   # '맑은 고딕'으로 설정 \n",
    "matplotlib.rcParams['axes.unicode_minus'] = False"
   ]
  },
  {
   "cell_type": "code",
   "execution_count": 4,
   "metadata": {},
   "outputs": [
    {
     "data": {
      "image/png": "[encoded data removed]",
      "text/plain": [
       "<Figure size 432x288 with 1 Axes>"
      ]
     },
     "metadata": {
      "needs_background": "light"
     },
     "output_type": "display_data"
    }
   ],
   "source": [
    "#히스토그램\n",
    "%matplotlib inline\n",
    "import matplotlib.pyplot as plt \n",
    "plt.hist(df['서비스_만족도'],alpha=0.4, bins=7, rwidth=1, color ='red', label='서비스만족도')\n",
    "plt.legend()\n",
    "plt.grid()\n",
    "plt.xlabel(\"서비스 만족도\")\n",
    "plt.ylabel('빈도')\n",
    "plt.xticks(fontsize = 14)#글씨 크기설정\n",
    "plt.yticks(fontsize = 14)#글씨 크기설정\n",
    "plt.show()"
   ]
  },
  {
   "cell_type": "markdown",
   "metadata": {},
   "source": [
    "#### 결과 해석\n",
    "\n",
    "- 히스토그램 결과 서비스만족도는 5점, 6점, 7점에 대부분 분포\n",
    "- 상대적으로 만족도의 점수를 낮게 평가한 고객들의 빈도 수가 낮음\n",
    "- A 쇼핑의 서비스만족도는 대체로 높게 평가되었다고 할 수 있으나, 낮은 만족도를 나타낸 소수의 고객들에 대한 불만족 원인을 파악하여 개선점을 찾는 것이 필요"
   ]
  },
  {
   "cell_type": "code",
   "execution_count": 6,
   "metadata": {},
   "outputs": [
    {
     "data": {
      "text/plain": [
       "6    358\n",
       "5    270\n",
       "7    216\n",
       "4     97\n",
       "3     33\n",
       "2     21\n",
       "1      5\n",
       "Name: 서비스_만족도, dtype: int64"
      ]
     },
     "execution_count": 6,
     "metadata": {},
     "output_type": "execute_result"
    }
   ],
   "source": [
    "df.서비스_만족도.value_counts()"
   ]
  },
  {
   "cell_type": "markdown",
   "metadata": {},
   "source": [
    "### 2. 산점도"
   ]
  },
  {
   "cell_type": "markdown",
   "metadata": {},
   "source": [
    "고객들의 총 매출액을 높이기 위해 프로모션을 진행하고자 한다. 만약 방문빈도가 높은 고객들의 총 매출액이 대체적으로 높게 나타난다면 무엇보다 고객들의 방문을 유도하는 데 초점을 맞춘 마케팅 전략을 수행해야 할 것이다. 이를 위해 산점도를 활용한 두 변수 간의 관계를 살펴보도록 한다."
   ]
  },
  {
   "cell_type": "code",
   "execution_count": 3,
   "metadata": {},
   "outputs": [],
   "source": [
    "import matplotlib.pyplot as plt"
   ]
  },
  {
   "cell_type": "code",
   "execution_count": 4,
   "metadata": {},
   "outputs": [
    {
     "data": {
      "text/plain": [
       "<matplotlib.axes._subplots.AxesSubplot at 0x2bbffd574a8>"
      ]
     },
     "execution_count": 4,
     "metadata": {},
     "output_type": "execute_result"
    },
    {
     "data": {
      "image/png": "[encoded data removed]",
      "text/plain": [
       "<Figure size 432x288 with 1 Axes>"
      ]
     },
     "metadata": {},
     "output_type": "display_data"
    }
   ],
   "source": [
    "df.plot.scatter(x='방문빈도',y='총_매출액', grid=True, title='방문 빈도와 총 매출액간 관계')"
   ]
  },
  {
   "cell_type": "markdown",
   "metadata": {},
   "source": [
    "#### 결과 해석 \n",
    "- 방문빈도와 총 매출액 사이에는 어느 정도 상관관계가 있는 것으로 파악\n",
    "- 특히 누적 방문빈도 50회 전후에서는 방문빈도에 따라 매출액의 증가가 비교적 명확\n",
    "- 50회 이상부터는 매출액의 편차가 대단히 큰 것으로 나타남.\n",
    "- 이 기업의 경우 우량고객이 되기 전까지는 매장방문을 유도하는 전략을, 우량고객이 된 이후에는 방문당 구매액을 증대시키는 전략을 수행하는 것이 바람직"
   ]
  },
  {
   "cell_type": "markdown",
   "metadata": {},
   "source": [
    "### 3. 파이차트"
   ]
  },
  {
   "cell_type": "markdown",
   "metadata": {},
   "source": [
    "#### 실습\n",
    "A 쇼핑은 파이차트를 활용하여 전체 고객 중 각각의 구매유형별 고객분포를 확인한다. "
   ]
  },
  {
   "cell_type": "code",
   "execution_count": 7,
   "metadata": {},
   "outputs": [
    {
     "data": {
      "text/html": [
       "<div>\n",
       "<style scoped>\n",
       "    .dataframe tbody tr th:only-of-type {\n",
       "        vertical-align: middle;\n",
       "    }\n",
       "\n",
       "    .dataframe tbody tr th {\n",
       "        vertical-align: top;\n",
       "    }\n",
       "\n",
       "    .dataframe thead tr th {\n",
       "        text-align: left;\n",
       "    }\n",
       "\n",
       "    .dataframe thead tr:last-of-type th {\n",
       "        text-align: right;\n",
       "    }\n",
       "</style>\n",
       "<table border=\"1\" class=\"dataframe\">\n",
       "  <thead>\n",
       "    <tr>\n",
       "      <th></th>\n",
       "      <th colspan=\"8\" halign=\"left\">1회_평균매출액</th>\n",
       "      <th colspan=\"2\" halign=\"left\">D1</th>\n",
       "      <th>...</th>\n",
       "      <th colspan=\"2\" halign=\"left\">할인권_사용_횟수</th>\n",
       "      <th colspan=\"8\" halign=\"left\">할인민감여부</th>\n",
       "    </tr>\n",
       "    <tr>\n",
       "      <th></th>\n",
       "      <th>count</th>\n",
       "      <th>mean</th>\n",
       "      <th>std</th>\n",
       "      <th>min</th>\n",
       "      <th>25%</th>\n",
       "      <th>50%</th>\n",
       "      <th>75%</th>\n",
       "      <th>max</th>\n",
       "      <th>count</th>\n",
       "      <th>mean</th>\n",
       "      <th>...</th>\n",
       "      <th>75%</th>\n",
       "      <th>max</th>\n",
       "      <th>count</th>\n",
       "      <th>mean</th>\n",
       "      <th>std</th>\n",
       "      <th>min</th>\n",
       "      <th>25%</th>\n",
       "      <th>50%</th>\n",
       "      <th>75%</th>\n",
       "      <th>max</th>\n",
       "    </tr>\n",
       "    <tr>\n",
       "      <th>구매유형</th>\n",
       "      <th></th>\n",
       "      <th></th>\n",
       "      <th></th>\n",
       "      <th></th>\n",
       "      <th></th>\n",
       "      <th></th>\n",
       "      <th></th>\n",
       "      <th></th>\n",
       "      <th></th>\n",
       "      <th></th>\n",
       "      <th></th>\n",
       "      <th></th>\n",
       "      <th></th>\n",
       "      <th></th>\n",
       "      <th></th>\n",
       "      <th></th>\n",
       "      <th></th>\n",
       "      <th></th>\n",
       "      <th></th>\n",
       "      <th></th>\n",
       "      <th></th>\n",
       "    </tr>\n",
       "  </thead>\n",
       "  <tbody>\n",
       "    <tr>\n",
       "      <th>1</th>\n",
       "      <td>43.0</td>\n",
       "      <td>350206.418605</td>\n",
       "      <td>87347.322958</td>\n",
       "      <td>178490.0</td>\n",
       "      <td>273910.5</td>\n",
       "      <td>364625.0</td>\n",
       "      <td>414084.50</td>\n",
       "      <td>489752.0</td>\n",
       "      <td>43.0</td>\n",
       "      <td>0.0</td>\n",
       "      <td>...</td>\n",
       "      <td>26.0</td>\n",
       "      <td>30.0</td>\n",
       "      <td>43.0</td>\n",
       "      <td>0.186047</td>\n",
       "      <td>0.393750</td>\n",
       "      <td>0.0</td>\n",
       "      <td>0.0</td>\n",
       "      <td>0.0</td>\n",
       "      <td>0.0</td>\n",
       "      <td>1.0</td>\n",
       "    </tr>\n",
       "    <tr>\n",
       "      <th>2</th>\n",
       "      <td>317.0</td>\n",
       "      <td>204790.258675</td>\n",
       "      <td>102578.238195</td>\n",
       "      <td>22461.0</td>\n",
       "      <td>118862.0</td>\n",
       "      <td>193454.0</td>\n",
       "      <td>268759.00</td>\n",
       "      <td>496672.0</td>\n",
       "      <td>317.0</td>\n",
       "      <td>1.0</td>\n",
       "      <td>...</td>\n",
       "      <td>23.0</td>\n",
       "      <td>30.0</td>\n",
       "      <td>317.0</td>\n",
       "      <td>0.059937</td>\n",
       "      <td>0.237745</td>\n",
       "      <td>0.0</td>\n",
       "      <td>0.0</td>\n",
       "      <td>0.0</td>\n",
       "      <td>0.0</td>\n",
       "      <td>1.0</td>\n",
       "    </tr>\n",
       "    <tr>\n",
       "      <th>3</th>\n",
       "      <td>144.0</td>\n",
       "      <td>736705.520833</td>\n",
       "      <td>311538.495595</td>\n",
       "      <td>502599.0</td>\n",
       "      <td>553479.0</td>\n",
       "      <td>630736.5</td>\n",
       "      <td>786918.00</td>\n",
       "      <td>2680100.0</td>\n",
       "      <td>144.0</td>\n",
       "      <td>0.0</td>\n",
       "      <td>...</td>\n",
       "      <td>24.0</td>\n",
       "      <td>30.0</td>\n",
       "      <td>144.0</td>\n",
       "      <td>0.118056</td>\n",
       "      <td>0.323800</td>\n",
       "      <td>0.0</td>\n",
       "      <td>0.0</td>\n",
       "      <td>0.0</td>\n",
       "      <td>0.0</td>\n",
       "      <td>1.0</td>\n",
       "    </tr>\n",
       "    <tr>\n",
       "      <th>4</th>\n",
       "      <td>496.0</td>\n",
       "      <td>264714.028226</td>\n",
       "      <td>100920.480202</td>\n",
       "      <td>78284.0</td>\n",
       "      <td>186106.5</td>\n",
       "      <td>248438.5</td>\n",
       "      <td>344615.25</td>\n",
       "      <td>499499.0</td>\n",
       "      <td>496.0</td>\n",
       "      <td>0.0</td>\n",
       "      <td>...</td>\n",
       "      <td>22.0</td>\n",
       "      <td>30.0</td>\n",
       "      <td>496.0</td>\n",
       "      <td>0.064516</td>\n",
       "      <td>0.245918</td>\n",
       "      <td>0.0</td>\n",
       "      <td>0.0</td>\n",
       "      <td>0.0</td>\n",
       "      <td>0.0</td>\n",
       "      <td>1.0</td>\n",
       "    </tr>\n",
       "  </tbody>\n",
       "</table>\n",
       "<p>4 rows × 312 columns</p>\n",
       "</div>"
      ],
      "text/plain": [
       "     1회_평균매출액                                                              \\\n",
       "        count           mean            std       min       25%       50%   \n",
       "구매유형                                                                        \n",
       "1        43.0  350206.418605   87347.322958  178490.0  273910.5  364625.0   \n",
       "2       317.0  204790.258675  102578.238195   22461.0  118862.0  193454.0   \n",
       "3       144.0  736705.520833  311538.495595  502599.0  553479.0  630736.5   \n",
       "4       496.0  264714.028226  100920.480202   78284.0  186106.5  248438.5   \n",
       "\n",
       "                               D1      ...  할인권_사용_횟수       할인민감여부            \\\n",
       "            75%        max  count mean ...        75%   max  count      mean   \n",
       "구매유형                                   ...                                     \n",
       "1     414084.50   489752.0   43.0  0.0 ...       26.0  30.0   43.0  0.186047   \n",
       "2     268759.00   496672.0  317.0  1.0 ...       23.0  30.0  317.0  0.059937   \n",
       "3     786918.00  2680100.0  144.0  0.0 ...       24.0  30.0  144.0  0.118056   \n",
       "4     344615.25   499499.0  496.0  0.0 ...       22.0  30.0  496.0  0.064516   \n",
       "\n",
       "                                         \n",
       "           std  min  25%  50%  75%  max  \n",
       "구매유형                                     \n",
       "1     0.393750  0.0  0.0  0.0  0.0  1.0  \n",
       "2     0.237745  0.0  0.0  0.0  0.0  1.0  \n",
       "3     0.323800  0.0  0.0  0.0  0.0  1.0  \n",
       "4     0.245918  0.0  0.0  0.0  0.0  1.0  \n",
       "\n",
       "[4 rows x 312 columns]"
      ]
     },
     "execution_count": 7,
     "metadata": {},
     "output_type": "execute_result"
    }
   ],
   "source": [
    "groupby_구매유형 = df.groupby('구매유형')\n",
    "groupby_구매유형.describe()\n",
    "\n",
    "#groupby : '데이터셋'.groupby('그룹핑할 변수') : 데이터 셋 내에 그룹핑할 변수를 선택하여 무리 지음"
   ]
  },
  {
   "cell_type": "code",
   "execution_count": 8,
   "metadata": {},
   "outputs": [
    {
     "data": {
      "text/plain": [
       "<function matplotlib.pyplot.show>"
      ]
     },
     "execution_count": 8,
     "metadata": {},
     "output_type": "execute_result"
    },
    {
     "data": {
      "image/png": "[encoded data removed]",
      "text/plain": [
       "<Figure size 432x288 with 1 Axes>"
      ]
     },
     "metadata": {},
     "output_type": "display_data"
    }
   ],
   "source": [
    "labels = ['1','2','3','4'] #라벨 지정\n",
    "sizes = [43, 317, 144, 496] # 크기 지정\n",
    "colors = ['yellowgreen','gold','lightskyblue','lightcoral'] #색 지정\n",
    "explode = (0, 0.1, 0, 0)\n",
    "plt.pie(sizes, explode = explode, labels = labels, colors = colors, autopct='%1.1f%%',shadow = True, startangle = 90)\n",
    "plt.axis('equal')\n",
    "plt.title('구매유형에 따른 고객 분포')\n",
    "plt.show"
   ]
  },
  {
   "cell_type": "code",
   "execution_count": 9,
   "metadata": {},
   "outputs": [
    {
     "data": {
      "text/plain": [
       "4    496\n",
       "2    317\n",
       "3    144\n",
       "1     43\n",
       "Name: 구매유형, dtype: int64"
      ]
     },
     "execution_count": 9,
     "metadata": {},
     "output_type": "execute_result"
    }
   ],
   "source": [
    "df.구매유형.value_counts()"
   ]
  },
  {
   "cell_type": "markdown",
   "metadata": {},
   "source": [
    "#### 결과 해석\n",
    "- A 쇼핑 데이터에서 구매유형에 따른 고객 분포는 4 > 2 > 3 > 1 순으로 많음.\n",
    "- 각 고객 유형들의 특징을 분석하여 차후에 고객 세분화 과정에서 사용할 수 있다."
   ]
  },
  {
   "cell_type": "markdown",
   "metadata": {},
   "source": [
    "### 4. 상자그림"
   ]
  },
  {
   "cell_type": "markdown",
   "metadata": {},
   "source": [
    "#### seaborn\n",
    "- 파이썬에서 통계 그래프와 그림을 만드는 과정을 단순하게 해주는 패키지\n",
    "- matplotlib 기반으로 만들어져 numpy와 pandas의 자료구조를 지원한다. \n",
    "- 히스토그램, 밀도 그래프, 막대 그래프, 상자그림, 산점도 등 기본 통계 그래프 만드는 기능 제공\n",
    "- 테마와 색상 팔레트가 내장되어 있어 꾸미기가 좋다."
   ]
  },
  {
   "cell_type": "markdown",
   "metadata": {},
   "source": [
    "쇼핑은 고객들에게 제공하는 할인쿠폰이 실제로 성별에 따라 얼마나 활용되는지 파악해 보고자 한다. 성별에 따른 할인금액 수준이 다르다면 고객성별에 따른 차등적인 할인쿠폰 제공도 고려해 볼 수 있다."
   ]
  },
  {
   "cell_type": "markdown",
   "metadata": {},
   "source": [
    "#### seaborn.boxplot(x=None, y=None, hue=None, data=None)\n",
    "    x: x축에 들어갈 데이터\n",
    "    y: y축에 들어갈 데이터\n",
    "    hue: 카테고리 변수 이름을 입력하여 카테고리 별 결과 출력"
   ]
  },
  {
   "cell_type": "code",
   "execution_count": 5,
   "metadata": {},
   "outputs": [
    {
     "data": {
      "image/png": "[encoded data removed]",
      "text/plain": [
       "<Figure size 432x288 with 1 Axes>"
      ]
     },
     "metadata": {
      "needs_background": "light"
     },
     "output_type": "display_data"
    }
   ],
   "source": [
    "import seaborn as sns\n",
    "# Box plots\n",
    "sns.boxplot(x=\"성별\", y=\"총_할인_금액\", hue=\"성별\", data=df)\n",
    "plt.show()"
   ]
  },
  {
   "cell_type": "markdown",
   "metadata": {},
   "source": [
    "#### 결과 해석\n",
    "- 성별에 따른 할인금액 수준을 비교해 여성이 남성보다 최대 할인금액이 높은 것으로 나타나지만, 최소값, 평균, 그리고 제1사분위, 제2사분위, 제3사분위의 차이가 크지 않은 것 확인\n",
    "- 성별에 따라 할인쿠폰 사용 수준이 크게 다르다고 볼 수 없으므로 성별에 따른 할인쿠폰 제도 변화는 불필요해 보임."
   ]
  }
 ],
 "metadata": {
  "kernelspec": {
   "display_name": "Python 3",
   "language": "python",
   "name": "python3"
  },
  "language_info": {
   "codemirror_mode": {
    "name": "ipython",
    "version": 3
   },
   "file_extension": ".py",
   "mimetype": "text/x-python",
   "name": "python",
   "nbconvert_exporter": "python",
   "pygments_lexer": "ipython3",
   "version": "3.7.3"
  }
 },
 "nbformat": 4,
 "nbformat_minor": 2
}
