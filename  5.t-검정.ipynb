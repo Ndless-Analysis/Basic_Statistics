{
 "cells": [
  {
   "cell_type": "markdown",
   "metadata": {},
   "source": [
    "## 5장. t-검정"
   ]
  },
  {
   "cell_type": "markdown",
   "metadata": {},
   "source": [
    "### 5.1 일표본 t-검정 "
   ]
  },
  {
   "cell_type": "markdown",
   "metadata": {},
   "source": [
    "\n",
    "지난해 A 쇼핑의 VIP 고객들의 평균 구매액은 약 700만 원이었으며, 이에 A 쇼핑은 올해 VIP 그룹 고객들의 평균 구매액 목표치를 10% 성장한 770만 원으로 결정한 바 있다. 올해 VIP 고객들의 평균 구매액 목표치인 770만 원을 달성하였는지 판단하기 위해 일표본 t-검정을 통해 검정해 보고자 한다.\n",
    "\n",
    "- 귀무가설: A 쇼핑 고객들의 총 매출액 평균은 7,700,000원이다.\n",
    "- 연구가설: A 쇼핑 고객들의 총 매출액 평군은 7,700,000원이 아니다. "
   ]
  },
  {
   "cell_type": "code",
   "execution_count": 2,
   "metadata": {},
   "outputs": [
    {
     "data": {
      "text/html": [
       "<div>\n",
       "<style scoped>\n",
       "    .dataframe tbody tr th:only-of-type {\n",
       "        vertical-align: middle;\n",
       "    }\n",
       "\n",
       "    .dataframe tbody tr th {\n",
       "        vertical-align: top;\n",
       "    }\n",
       "\n",
       "    .dataframe thead th {\n",
       "        text-align: right;\n",
       "    }\n",
       "</style>\n",
       "<table border=\"1\" class=\"dataframe\">\n",
       "  <thead>\n",
       "    <tr style=\"text-align: right;\">\n",
       "      <th></th>\n",
       "      <th>고객ID</th>\n",
       "      <th>이탈여부</th>\n",
       "      <th>총_매출액</th>\n",
       "      <th>방문빈도</th>\n",
       "      <th>1회_평균매출액</th>\n",
       "      <th>할인권_사용_횟수</th>\n",
       "      <th>총_할인_금액</th>\n",
       "      <th>고객등급</th>\n",
       "      <th>구매유형</th>\n",
       "      <th>클레임접수여부</th>\n",
       "      <th>...</th>\n",
       "      <th>음향_적절성</th>\n",
       "      <th>안내_표지판_설명</th>\n",
       "      <th>친절성</th>\n",
       "      <th>신속성</th>\n",
       "      <th>책임성</th>\n",
       "      <th>정확성</th>\n",
       "      <th>전문성</th>\n",
       "      <th>D1</th>\n",
       "      <th>D2</th>\n",
       "      <th>D3</th>\n",
       "    </tr>\n",
       "  </thead>\n",
       "  <tbody>\n",
       "    <tr>\n",
       "      <th>0</th>\n",
       "      <td>1</td>\n",
       "      <td>0</td>\n",
       "      <td>4007080</td>\n",
       "      <td>17</td>\n",
       "      <td>235711</td>\n",
       "      <td>1</td>\n",
       "      <td>5445</td>\n",
       "      <td>1</td>\n",
       "      <td>4</td>\n",
       "      <td>0</td>\n",
       "      <td>...</td>\n",
       "      <td>6</td>\n",
       "      <td>6</td>\n",
       "      <td>6</td>\n",
       "      <td>6</td>\n",
       "      <td>6</td>\n",
       "      <td>6</td>\n",
       "      <td>6</td>\n",
       "      <td>0</td>\n",
       "      <td>0</td>\n",
       "      <td>1</td>\n",
       "    </tr>\n",
       "    <tr>\n",
       "      <th>1</th>\n",
       "      <td>2</td>\n",
       "      <td>1</td>\n",
       "      <td>3168400</td>\n",
       "      <td>14</td>\n",
       "      <td>226314</td>\n",
       "      <td>22</td>\n",
       "      <td>350995</td>\n",
       "      <td>2</td>\n",
       "      <td>4</td>\n",
       "      <td>0</td>\n",
       "      <td>...</td>\n",
       "      <td>6</td>\n",
       "      <td>6</td>\n",
       "      <td>5</td>\n",
       "      <td>3</td>\n",
       "      <td>6</td>\n",
       "      <td>6</td>\n",
       "      <td>6</td>\n",
       "      <td>0</td>\n",
       "      <td>0</td>\n",
       "      <td>1</td>\n",
       "    </tr>\n",
       "    <tr>\n",
       "      <th>2</th>\n",
       "      <td>3</td>\n",
       "      <td>0</td>\n",
       "      <td>2680780</td>\n",
       "      <td>18</td>\n",
       "      <td>148932</td>\n",
       "      <td>6</td>\n",
       "      <td>186045</td>\n",
       "      <td>1</td>\n",
       "      <td>4</td>\n",
       "      <td>1</td>\n",
       "      <td>...</td>\n",
       "      <td>6</td>\n",
       "      <td>6</td>\n",
       "      <td>7</td>\n",
       "      <td>7</td>\n",
       "      <td>6</td>\n",
       "      <td>6</td>\n",
       "      <td>7</td>\n",
       "      <td>0</td>\n",
       "      <td>0</td>\n",
       "      <td>1</td>\n",
       "    </tr>\n",
       "    <tr>\n",
       "      <th>3</th>\n",
       "      <td>4</td>\n",
       "      <td>0</td>\n",
       "      <td>5946600</td>\n",
       "      <td>17</td>\n",
       "      <td>349800</td>\n",
       "      <td>1</td>\n",
       "      <td>5195</td>\n",
       "      <td>1</td>\n",
       "      <td>4</td>\n",
       "      <td>1</td>\n",
       "      <td>...</td>\n",
       "      <td>6</td>\n",
       "      <td>6</td>\n",
       "      <td>6</td>\n",
       "      <td>6</td>\n",
       "      <td>6</td>\n",
       "      <td>5</td>\n",
       "      <td>6</td>\n",
       "      <td>0</td>\n",
       "      <td>0</td>\n",
       "      <td>1</td>\n",
       "    </tr>\n",
       "    <tr>\n",
       "      <th>4</th>\n",
       "      <td>5</td>\n",
       "      <td>0</td>\n",
       "      <td>13745950</td>\n",
       "      <td>73</td>\n",
       "      <td>188301</td>\n",
       "      <td>9</td>\n",
       "      <td>246350</td>\n",
       "      <td>1</td>\n",
       "      <td>2</td>\n",
       "      <td>0</td>\n",
       "      <td>...</td>\n",
       "      <td>6</td>\n",
       "      <td>5</td>\n",
       "      <td>5</td>\n",
       "      <td>6</td>\n",
       "      <td>6</td>\n",
       "      <td>5</td>\n",
       "      <td>6</td>\n",
       "      <td>1</td>\n",
       "      <td>0</td>\n",
       "      <td>0</td>\n",
       "    </tr>\n",
       "  </tbody>\n",
       "</table>\n",
       "<p>5 rows × 42 columns</p>\n",
       "</div>"
      ],
      "text/plain": [
       "   고객ID  이탈여부     총_매출액  방문빈도  1회_평균매출액  할인권_사용_횟수  총_할인_금액  고객등급  구매유형  \\\n",
       "0     1     0   4007080    17    235711          1     5445     1     4   \n",
       "1     2     1   3168400    14    226314         22   350995     2     4   \n",
       "2     3     0   2680780    18    148932          6   186045     1     4   \n",
       "3     4     0   5946600    17    349800          1     5195     1     4   \n",
       "4     5     0  13745950    73    188301          9   246350     1     2   \n",
       "\n",
       "   클레임접수여부 ...  음향_적절성  안내_표지판_설명  친절성  신속성  책임성  정확성  전문성  D1  D2  D3  \n",
       "0        0 ...       6          6    6    6    6    6    6   0   0   1  \n",
       "1        0 ...       6          6    5    3    6    6    6   0   0   1  \n",
       "2        1 ...       6          6    7    7    6    6    7   0   0   1  \n",
       "3        1 ...       6          6    6    6    6    5    6   0   0   1  \n",
       "4        0 ...       6          5    5    6    6    5    6   1   0   0  \n",
       "\n",
       "[5 rows x 42 columns]"
      ]
     },
     "execution_count": 2,
     "metadata": {},
     "output_type": "execute_result"
    }
   ],
   "source": [
    "# 실습 데이터 불러오기\n",
    "import pandas as pd\n",
    "import scipy as sp\n",
    "from scipy import stats\n",
    "import numpy as np\n",
    "\n",
    "df = pd.read_csv(\"C:\\python\\Ashopping.txt\",sep=\",\", encoding='CP949')\n",
    "df.head()"
   ]
  },
  {
   "cell_type": "markdown",
   "metadata": {},
   "source": [
    "#### Scipy 라이브러리\n",
    "- 과학 계산용 함수를 모아놓은 파이썬 패키지\n",
    "- 과학, 분석, 엔지니어링을 위한 과학적 컴퓨팅 영역의 여러 기본적인 작업 지원\n",
    "- 고성능 선형대수, 함수 최적화, 신호 처리, 특수한 수학 함수와 통계 분포 등을 포함한 많은 기능 제공"
   ]
  },
  {
   "cell_type": "markdown",
   "metadata": {},
   "source": [
    "#### 일표본 T-검정 \n",
    "\n",
    "#### stats.ttest_1samp(data, 알려져있는 값)\n"
   ]
  },
  {
   "cell_type": "code",
   "execution_count": 2,
   "metadata": {},
   "outputs": [
    {
     "data": {
      "text/plain": [
       "7068689.76"
      ]
     },
     "execution_count": 2,
     "metadata": {},
     "output_type": "execute_result"
    }
   ],
   "source": [
    "df.총_매출액.mean()#산술평균값"
   ]
  },
  {
   "cell_type": "code",
   "execution_count": 3,
   "metadata": {},
   "outputs": [
    {
     "name": "stdout",
     "output_type": "stream",
     "text": [
      "t-value : -2.8657430145836007\n",
      "p-value : 0.00424758614832654\n"
     ]
    }
   ],
   "source": [
    "#일표본 T-검정\n",
    "tTestResult = stats.ttest_1samp(df['총_매출액'], 7700000)\n",
    "print('t-value : {}'.format(tTestResult.statistic))\n",
    "print('p-value : {}'.format(tTestResult.pvalue))     "
   ]
  },
  {
   "cell_type": "markdown",
   "metadata": {},
   "source": [
    "#### 결과 해석\n",
    "\n",
    "- 일표본 t-검정 결과 A 쇼핑 VIP 고객들의 총 매출액 산술평균값은 7,068,690원이며 t값은 -2.87, 유의확률은 0.0042로 도출\n",
    "- 귀무가설이 기각되어 A 쇼핑 VIP고객들의 총 매출액 평균은 7,700,000원이라고 할 수 없음(유의수준 0.01수준).\n",
    "- 지난해 매출액 평균과 거의 차이가 없으며 목표치를 달성하지 못함. 따라서 A 쇼핑이 목표치를 너무 과도하게 잡은 것은 아닌지 검토해 보고, 경쟁사나 시장평균 성장률과 비교하였을 때 A 쇼핑의 실적이 상대적으로 낮은 것이라면 VIP 고객들의 매출액에 영향을 미치는 원인을 조사하여 적절한 매출신장 대책을 마련해야함."
   ]
  },
  {
   "cell_type": "markdown",
   "metadata": {},
   "source": [
    "### 5.2 독립표본 t-검정 \n",
    "\n",
    "A 쇼핑의 마케팅 부서는 콜센터를 통해 접수된 클레임고객에 대한 특별한 마케팅을 기획하고자 한다. 클레임 고객은 상대적으로 매장을 찾는 횟수가 적어져 이탈위험도가 높을 것이라고 예상되기 때문이다. 이를 위해 클레임 고객과 비클레임 고객 간의 매장 방문횟수가 실제로 차이가 있는지를 먼저 검증해야 한다.\n",
    "\n",
    "- 귀무가설 = A 쇼핑 클레임 고객들과 비클레임 고객들의 방문횟수 차이는 없다.\n",
    "- 연구가설 = A 쇼핑 클레임 고객들과 비클레임 고객들의 방문횟수 차이는 있다."
   ]
  },
  {
   "cell_type": "code",
   "execution_count": 5,
   "metadata": {},
   "outputs": [],
   "source": [
    "no_claim = df[df.클레임접수여부== 0]\n",
    "df2 = np.array(no_claim.방문빈도) #클레임을 하지 않는 사람들의 방문빈도를 배열로 넣음\n",
    "#no_claim_visit = no_claim['방문빈도']\n",
    "#no_claim_visit"
   ]
  },
  {
   "cell_type": "code",
   "execution_count": 6,
   "metadata": {},
   "outputs": [],
   "source": [
    "claim = df[df.클레임접수여부== 1]\n",
    "df3 = np.array(claim.방문빈도)\n",
    "#claim_visit = claim['방문빈도']\n",
    "#claim_visit"
   ]
  },
  {
   "cell_type": "markdown",
   "metadata": {},
   "source": [
    "#### 등분산 검정\n",
    "SciPy 라이브러리에서는 표본분산의 비율보다 복잡한 통계량을 이용하는 bartlett, flinger, levene방법 제공\n",
    "scipy의 stats 서브패키지 사용\n",
    "\n",
    "- scipy.stats.bartlett()\n",
    "- scipy.stats.fligner()\n",
    "- scipy.stats.levene()"
   ]
  },
  {
   "cell_type": "code",
   "execution_count": 7,
   "metadata": {},
   "outputs": [
    {
     "name": "stdout",
     "output_type": "stream",
     "text": [
      "bartlett(F) : 13.626 \n",
      "p-value : 0.00022 \n"
     ]
    }
   ],
   "source": [
    "result=sp.stats.bartlett(df2,df3) #등분산 검정\n",
    "#result_ho=sp.stats.bartlett(no_claim_visit,claim_visit)\n",
    "print('bartlett(F) : %.3f \\np-value : %.5f ' % (result)) #p-value가 0.00022이므로 두 집단의 분산은 동일하지 않다는 결과가 나옴\n",
    "#print(result_ho)"
   ]
  },
  {
   "cell_type": "markdown",
   "metadata": {},
   "source": [
    "#### 독립표본 t-검정 실행\n",
    "\n",
    "#### stats.ttest_ind(데이터1, 데이터2, equal_var=True or False)\n",
    "- equal_var: 등분산 여부(동일한 경우 True)"
   ]
  },
  {
   "cell_type": "code",
   "execution_count": 9,
   "metadata": {},
   "outputs": [
    {
     "name": "stdout",
     "output_type": "stream",
     "text": [
      "t-value : 2.60 \n",
      "p-value : 0.0096\n"
     ]
    }
   ],
   "source": [
    "#독립표본 t-검정\n",
    "result2 = stats.ttest_ind(df2, df3, equal_var=False)\n",
    "print('t-value : %.2f \\np-value : %.4f' % (result2) )\n",
    "#p-value : 0.0096 이므로 귀무가설 기각 (즉, 차이가있다 )"
   ]
  },
  {
   "cell_type": "code",
   "execution_count": 10,
   "metadata": {},
   "outputs": [
    {
     "data": {
      "text/plain": [
       "28.184842883548985"
      ]
     },
     "execution_count": 10,
     "metadata": {},
     "output_type": "execute_result"
    }
   ],
   "source": [
    "no_claim.방문빈도.mean()"
   ]
  },
  {
   "cell_type": "code",
   "execution_count": 11,
   "metadata": {},
   "outputs": [
    {
     "data": {
      "text/plain": [
       "24.736383442265794"
      ]
     },
     "execution_count": 11,
     "metadata": {},
     "output_type": "execute_result"
    }
   ],
   "source": [
    "claim.방문빈도.mean()"
   ]
  },
  {
   "cell_type": "markdown",
   "metadata": {},
   "source": [
    "#### 결과 해석\n",
    "\n",
    "- 먼저 두 고객그룹 간의 등분산성 검정 결과 F 값은 등분산방법에 따라 상이하나, 유의확률은 0.05미만으로 귀무가설이 기각되었으므로, 두 표본의 분산은 동일하다고 볼 수 없음.\n",
    "- 등분산이 가정되지 않은 t 통계량을 확인하여 가설검증을 수행해야 한다. 분석결과, 클레임 접수 경험이 있는 (클레임 접수 여부= 1) 고객의 평균 방문 횟수는 24.73회, 클레임 접수 경험이 없는 (클레임 접수 여부= 0) 고객의 평균 방문횟수는 28.18회이며 등분산 검정이 기각된 t 값은 2.60, 유의확률은 0.0096으로 도출\n",
    "- 귀무가설이 기각되어 클레임 접수 여부에 따라 방문빈도는 차이가 있다고 할 수 있음(유의수준 0.05 수준).\n",
    "- 사실 그 차이는 크지 않지만 통계적으로 유의한 차이가 있으므로 클레임 접수 고객에 대한 별도의 관리는 필요하다. 특히 클레임 접수 고객이 VIP 등급에 해당하는 고객이라면 클레임 접수 후 구매빈도나 방문횟수가 점차 줄어드는지 확인하여 선제적인 대응을 통해 고객유지 활동을 전개하는 것이 필요"
   ]
  },
  {
   "cell_type": "markdown",
   "metadata": {},
   "source": [
    "### 5.3 쌍체표본 t-검정 \n",
    "\n",
    "A 쇼핑 마케팅 팀에서는 그 동안 단순 포인트 적립 및 결제 시 차감 방식으로 운영되어 온 멤버십 제도를 등급별 사은품 및 쿠폰지급 기능이 추가된 전략적인 로열티 프로그램으로 개선하였다. 이를 통한 고객들의 로열티 프로그램 만족도의 변화가 통계적으로 유의한지 알아보기 위해 고객들의 신규 멤버십 프로그램 도입 전과 도입 후의 고객만족도에 대한 쌍체표본 t-검정을 수행하고자 한다.\n",
    "\n",
    "- 귀무가설 = A 쇼핑 고객들의 멤버십 프로그램 도입 전 만족도와 도입 후 만족도의 차이는 없다.\n",
    "- 연구가설 = A 쇼핑 고객들의 멤버십 프로그램 도입 전 만족도와 도입 후 만족도의 차이는 있다."
   ]
  },
  {
   "cell_type": "markdown",
   "metadata": {},
   "source": [
    "#### stats.ttest_rel(변수1, 변수2)"
   ]
  },
  {
   "cell_type": "code",
   "execution_count": 3,
   "metadata": {},
   "outputs": [
    {
     "name": "stdout",
     "output_type": "stream",
     "text": [
      "t-value : 29.560 \n",
      "p-value : 0.00000000000000000000000000000000000000000000000000\n"
     ]
    }
   ],
   "source": [
    "result_3 = stats.ttest_rel(df['멤버쉽_프로그램_가입후_만족도'],df['멤버쉽_프로그램_가입전_만족도'])\n",
    "print('t-value : %.3f \\np-value : %.50f' % result_3)"
   ]
  },
  {
   "cell_type": "code",
   "execution_count": 13,
   "metadata": {},
   "outputs": [
    {
     "data": {
      "text/plain": [
       "1.2279999999999998"
      ]
     },
     "execution_count": 13,
     "metadata": {},
     "output_type": "execute_result"
    }
   ],
   "source": [
    "df['멤버쉽_프로그램_가입후_만족도'].mean() - df['멤버쉽_프로그램_가입전_만족도'].mean()"
   ]
  },
  {
   "cell_type": "markdown",
   "metadata": {},
   "source": [
    "#### 결과 해석\n",
    "- 쌍체표본 t-검정 결과 신규 멤버십 프로그램의 가입 전 만족도와 가입 후 만족도의 평균 차이 값은 1.2280(7점 척도)이며, t 값은 29.56, 유의확률은 0.0001로 도출\n",
    "- 귀무가설이 기각되어 신규 프로그램의 가입 전 고객만족도와 가입 후 고객만족도는 차이가 있다고 할 수 있음(유의수준 0.05 수준).\n",
    "- 단순 포인트 중심의 멤버십 프로그램보다 고객 구매가 증대될수록 받는 사은품의 수준과 쿠폰금액이 커지는 새로운 멤버십 프로그램을 고객들이 더 선호하여 전반적인 고객만족도가 높아졌다는 점이 증명\n",
    "- A 쇼핑은 향후 기존에 적립되어 왔던 포인트 운영방식을 병행할 것인지, 아니면 고객 동의하에 사은품과 쿠폰지급으로 누적 포인트를 소진시킬 것인지에 대한 정책적인 의사결정이 필요함."
   ]
  }
 ],
 "metadata": {
  "kernelspec": {
   "display_name": "Python 3",
   "language": "python",
   "name": "python3"
  },
  "language_info": {
   "codemirror_mode": {
    "name": "ipython",
    "version": 3
   },
   "file_extension": ".py",
   "mimetype": "text/x-python",
   "name": "python",
   "nbconvert_exporter": "python",
   "pygments_lexer": "ipython3",
   "version": "3.7.3"
  }
 },
 "nbformat": 4,
 "nbformat_minor": 2
}
