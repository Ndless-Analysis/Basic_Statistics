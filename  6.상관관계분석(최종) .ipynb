{
 "cells": [
  {
   "cell_type": "markdown",
   "metadata": {},
   "source": [
    "## 6장. 상관관계분석"
   ]
  },
  {
   "cell_type": "markdown",
   "metadata": {},
   "source": [
    "### 6.1 수치형 변수의 상관관계분석"
   ]
  },
  {
   "cell_type": "markdown",
   "metadata": {},
   "source": [
    "#### 1. 데이터 불러오기\n",
    "\n",
    "실습데이터 Ashopping을 파이썬을 이용하여 불러온다. \n"
   ]
  },
  {
   "cell_type": "markdown",
   "metadata": {},
   "source": [
    "#### 변수명=pd.read_csv(\"파일경로\\파일이름\\.파일형식\", sep=\"구분자\", encoding='코딩방식')\n",
    "\n",
    "    구분자: \",\",  \"|\", \"\\s+\"\n",
    "    encoding:'CP949' 파이썬에서 한글을 열수 있도록 인코딩 설정\n"
   ]
  },
  {
   "cell_type": "code",
   "execution_count": 1,
   "metadata": {},
   "outputs": [],
   "source": [
    "# 텍스트 파일 열기\n",
    "import pandas as pd\n",
    "df = pd.read_csv(\"C:\\python\\Ashopping.txt\",sep=\",\", encoding='CP949')"
   ]
  },
  {
   "cell_type": "markdown",
   "metadata": {},
   "source": [
    "총 매출액과 방문빈도, 구매카테고리 수 간의 선형적인 연관성을 갖는지 확인해 보자. "
   ]
  },
  {
   "cell_type": "markdown",
   "metadata": {},
   "source": [
    "- 귀무가설: 총 매출액과 방문빈도, 구매 카테고리 수 간의 선형적인 관계가 존재하지 않는다. \n",
    "- 연구가설: 총 매출액과 방문빈도, 구매 카테고리 수 간의 선형적인 관계가 존재한다. "
   ]
  },
  {
   "cell_type": "code",
   "execution_count": 2,
   "metadata": {},
   "outputs": [
    {
     "name": "stdout",
     "output_type": "stream",
     "text": [
      "<class 'pandas.core.frame.DataFrame'>\n",
      "RangeIndex: 1000 entries, 0 to 999\n",
      "Data columns (total 42 columns):\n",
      "고객ID                1000 non-null int64\n",
      "이탈여부                1000 non-null int64\n",
      "총_매출액               1000 non-null int64\n",
      "방문빈도                1000 non-null int64\n",
      "1회_평균매출액            1000 non-null int64\n",
      "할인권_사용_횟수           1000 non-null int64\n",
      "총_할인_금액             1000 non-null int64\n",
      "고객등급                1000 non-null int64\n",
      "구매유형                1000 non-null int64\n",
      "클레임접수여부             1000 non-null int64\n",
      "구매_카테고리_수           1000 non-null int64\n",
      "거주지역                1000 non-null int64\n",
      "성별                  1000 non-null int64\n",
      "고객_나이대              1000 non-null int64\n",
      "거래기간                1000 non-null int64\n",
      "할인민감여부              1000 non-null int64\n",
      "멤버쉽_프로그램_가입전_만족도    1000 non-null int64\n",
      "멤버쉽_프로그램_가입후_만족도    1000 non-null int64\n",
      "Recency             1000 non-null int64\n",
      "Frequency           1000 non-null int64\n",
      "Monetary            1000 non-null int64\n",
      "상품_만족도              1000 non-null int64\n",
      "매장_만족도              1000 non-null int64\n",
      "서비스_만족도             1000 non-null int64\n",
      "상품_품질               1000 non-null int64\n",
      "상품_다양성              1000 non-null int64\n",
      "가격_적절성              1000 non-null int64\n",
      "상품_진열_위치            1000 non-null object\n",
      "상품_설명_표시            1000 non-null object\n",
      "매장_청결성              1000 non-null int64\n",
      "공간_편의성              1000 non-null int64\n",
      "시야_확보성              1000 non-null int64\n",
      "음향_적절성              1000 non-null int64\n",
      "안내_표지판_설명           1000 non-null int64\n",
      "친절성                 1000 non-null int64\n",
      "신속성                 1000 non-null int64\n",
      "책임성                 1000 non-null int64\n",
      "정확성                 1000 non-null int64\n",
      "전문성                 1000 non-null int64\n",
      "D1                  1000 non-null int64\n",
      "D2                  1000 non-null int64\n",
      "D3                  1000 non-null int64\n",
      "dtypes: int64(40), object(2)\n",
      "memory usage: 328.2+ KB\n"
     ]
    }
   ],
   "source": [
    "df.info()"
   ]
  },
  {
   "cell_type": "code",
   "execution_count": 5,
   "metadata": {},
   "outputs": [],
   "source": [
    "df1=df[[\"총_매출액\",\"방문빈도\",\"구매_카테고리_수\"]]"
   ]
  },
  {
   "cell_type": "code",
   "execution_count": 6,
   "metadata": {
    "scrolled": true
   },
   "outputs": [
    {
     "data": {
      "text/html": [
       "<div>\n",
       "<style scoped>\n",
       "    .dataframe tbody tr th:only-of-type {\n",
       "        vertical-align: middle;\n",
       "    }\n",
       "\n",
       "    .dataframe tbody tr th {\n",
       "        vertical-align: top;\n",
       "    }\n",
       "\n",
       "    .dataframe thead th {\n",
       "        text-align: right;\n",
       "    }\n",
       "</style>\n",
       "<table border=\"1\" class=\"dataframe\">\n",
       "  <thead>\n",
       "    <tr style=\"text-align: right;\">\n",
       "      <th></th>\n",
       "      <th>총_매출액</th>\n",
       "      <th>방문빈도</th>\n",
       "      <th>구매_카테고리_수</th>\n",
       "    </tr>\n",
       "  </thead>\n",
       "  <tbody>\n",
       "    <tr>\n",
       "      <th>0</th>\n",
       "      <td>4007080</td>\n",
       "      <td>17</td>\n",
       "      <td>6</td>\n",
       "    </tr>\n",
       "    <tr>\n",
       "      <th>1</th>\n",
       "      <td>3168400</td>\n",
       "      <td>14</td>\n",
       "      <td>4</td>\n",
       "    </tr>\n",
       "    <tr>\n",
       "      <th>2</th>\n",
       "      <td>2680780</td>\n",
       "      <td>18</td>\n",
       "      <td>6</td>\n",
       "    </tr>\n",
       "    <tr>\n",
       "      <th>3</th>\n",
       "      <td>5946600</td>\n",
       "      <td>17</td>\n",
       "      <td>5</td>\n",
       "    </tr>\n",
       "    <tr>\n",
       "      <th>4</th>\n",
       "      <td>13745950</td>\n",
       "      <td>73</td>\n",
       "      <td>6</td>\n",
       "    </tr>\n",
       "  </tbody>\n",
       "</table>\n",
       "</div>"
      ],
      "text/plain": [
       "      총_매출액  방문빈도  구매_카테고리_수\n",
       "0   4007080    17          6\n",
       "1   3168400    14          4\n",
       "2   2680780    18          6\n",
       "3   5946600    17          5\n",
       "4  13745950    73          6"
      ]
     },
     "execution_count": 6,
     "metadata": {},
     "output_type": "execute_result"
    }
   ],
   "source": [
    "df1.head()"
   ]
  },
  {
   "cell_type": "code",
   "execution_count": 7,
   "metadata": {},
   "outputs": [
    {
     "data": {
      "text/html": [
       "<div>\n",
       "<style scoped>\n",
       "    .dataframe tbody tr th:only-of-type {\n",
       "        vertical-align: middle;\n",
       "    }\n",
       "\n",
       "    .dataframe tbody tr th {\n",
       "        vertical-align: top;\n",
       "    }\n",
       "\n",
       "    .dataframe thead th {\n",
       "        text-align: right;\n",
       "    }\n",
       "</style>\n",
       "<table border=\"1\" class=\"dataframe\">\n",
       "  <thead>\n",
       "    <tr style=\"text-align: right;\">\n",
       "      <th></th>\n",
       "      <th>총_매출액</th>\n",
       "      <th>방문빈도</th>\n",
       "      <th>구매_카테고리_수</th>\n",
       "    </tr>\n",
       "  </thead>\n",
       "  <tbody>\n",
       "    <tr>\n",
       "      <th>총_매출액</th>\n",
       "      <td>1.000000</td>\n",
       "      <td>0.631171</td>\n",
       "      <td>0.308347</td>\n",
       "    </tr>\n",
       "    <tr>\n",
       "      <th>방문빈도</th>\n",
       "      <td>0.631171</td>\n",
       "      <td>1.000000</td>\n",
       "      <td>0.395861</td>\n",
       "    </tr>\n",
       "    <tr>\n",
       "      <th>구매_카테고리_수</th>\n",
       "      <td>0.308347</td>\n",
       "      <td>0.395861</td>\n",
       "      <td>1.000000</td>\n",
       "    </tr>\n",
       "  </tbody>\n",
       "</table>\n",
       "</div>"
      ],
      "text/plain": [
       "              총_매출액      방문빈도  구매_카테고리_수\n",
       "총_매출액      1.000000  0.631171   0.308347\n",
       "방문빈도       0.631171  1.000000   0.395861\n",
       "구매_카테고리_수  0.308347  0.395861   1.000000"
      ]
     },
     "execution_count": 7,
     "metadata": {},
     "output_type": "execute_result"
    }
   ],
   "source": [
    "df1.corr(method='pearson')#수치형 상관관계 분석"
   ]
  },
  {
   "cell_type": "markdown",
   "metadata": {},
   "source": [
    "피어슨 상관관계 분석결과, 매출액과 방문빈도간의 상관관계가 매출액과 구매 카테고리 수와의 상관관계보다 높다고 할 수 있다. 따라서, A 쇼핑의 매출액을 강화시키기 위해서는 고객들의 구매 카테고리 수를 증가시키기 보다는 고객들의 더 잦은 방문을 유도하는 것이 필요하다고 볼 수 있다. \n"
   ]
  },
  {
   "cell_type": "markdown",
   "metadata": {},
   "source": [
    "### 6.2 편(부분) 상관관계분석\n",
    "\n",
    "총 매출액과 방문빈도간의 상관관계가 구매 카테고리 수에 의해 영향을 받는지에 대해 실습"
   ]
  },
  {
   "cell_type": "markdown",
   "metadata": {},
   "source": [
    "- 귀무가설 = 구매카테고리 수가  통제된 상황에서 총 매출액과 방문빈도 간에는 유의한 선형 관계를 갖지 않는다.\n",
    "- 연구가설 = 구매카테고리 수가  통제된 상황에서 총 매출액과 방문빈도 간에는 유의한 선형 관계를 갖는다."
   ]
  },
  {
   "cell_type": "markdown",
   "metadata": {},
   "source": [
    "외부 패키지 설치\n",
    "\n",
    "- conda install -c conda-forge pingouin"
   ]
  },
  {
   "cell_type": "code",
   "execution_count": 8,
   "metadata": {},
   "outputs": [],
   "source": [
    "df1=df[[\"총_매출액\",\"방문빈도\",\"구매_카테고리_수\"]]"
   ]
  },
  {
   "cell_type": "code",
   "execution_count": 9,
   "metadata": {},
   "outputs": [],
   "source": [
    "from pingouin import partial_corr"
   ]
  },
  {
   "cell_type": "code",
   "execution_count": 10,
   "metadata": {},
   "outputs": [
    {
     "data": {
      "text/html": [
       "<div>\n",
       "<style scoped>\n",
       "    .dataframe tbody tr th:only-of-type {\n",
       "        vertical-align: middle;\n",
       "    }\n",
       "\n",
       "    .dataframe tbody tr th {\n",
       "        vertical-align: top;\n",
       "    }\n",
       "\n",
       "    .dataframe thead th {\n",
       "        text-align: right;\n",
       "    }\n",
       "</style>\n",
       "<table border=\"1\" class=\"dataframe\">\n",
       "  <thead>\n",
       "    <tr style=\"text-align: right;\">\n",
       "      <th></th>\n",
       "      <th>n</th>\n",
       "      <th>r</th>\n",
       "      <th>CI95%</th>\n",
       "      <th>r2</th>\n",
       "      <th>adj_r2</th>\n",
       "      <th>p-val</th>\n",
       "      <th>power</th>\n",
       "    </tr>\n",
       "  </thead>\n",
       "  <tbody>\n",
       "    <tr>\n",
       "      <th>pearson</th>\n",
       "      <td>1000</td>\n",
       "      <td>0.583</td>\n",
       "      <td>[0.54, 0.62]</td>\n",
       "      <td>0.34</td>\n",
       "      <td>0.338</td>\n",
       "      <td>5.054646e-92</td>\n",
       "      <td>1.0</td>\n",
       "    </tr>\n",
       "  </tbody>\n",
       "</table>\n",
       "</div>"
      ],
      "text/plain": [
       "            n      r         CI95%    r2  adj_r2         p-val  power\n",
       "pearson  1000  0.583  [0.54, 0.62]  0.34   0.338  5.054646e-92    1.0"
      ]
     },
     "execution_count": 10,
     "metadata": {},
     "output_type": "execute_result"
    }
   ],
   "source": [
    "partial_corr(data=df1, x='총_매출액', y='방문빈도', covar='구매_카테고리_수')"
   ]
  },
  {
   "cell_type": "markdown",
   "metadata": {},
   "source": [
    "편(부분) 상관관계 분석결과 구매 카테고리 수를 통제한 상태에서 총 매출액과 방문빈도 간의 상관계수는 0.583 으로 도출되었다. 구매카테고리 수를 통제하지 않은 상태에서의 총 매출액과 방문빈도와의 상관계수인 0.631보다는 상당히 많이 그 정도가 약해졌다고 볼 수 있다. 따라서, 방문빈도가 고객들의 총 매출액에 많은 영향을 주는 변수임에는 분명하지만, 고객들의 구매다양성을 나타내는 구매 카테고리 수를 전혀 고려하지 않는다면 방문빈도와 매출액간의 관계는 생각보다 크지 않다는 것을 알 수 있다. 구매 카테고리 수가 매출액과의 직접적인 상관관계가 크지 않지만, 방문빈도와 매출액간의 관계에 영향을 미치므로 마케팅 전략 수립 시 함께 고민해야 할 필요가 있다.\n"
   ]
  },
  {
   "cell_type": "markdown",
   "metadata": {},
   "source": [
    "### 6.3. 순서형 변수의 상관관계분석"
   ]
  },
  {
   "cell_type": "markdown",
   "metadata": {},
   "source": [
    "#### 1회 평균 매출액 순위와 방문빈도 순위가 연관성이 있는지 확인해보자.\n",
    "\n",
    "- 귀무가설: 1회 평균 매출액 순위와 방문빈도 순위는 연관성이 없다. \n",
    "- 연구가설: 1회 평균 매출액 순위와 방문빈도 순위는 연관성이 있다. "
   ]
  },
  {
   "cell_type": "code",
   "execution_count": 11,
   "metadata": {},
   "outputs": [],
   "source": [
    "df2=df[[\"1회_평균매출액\",\"방문빈도\"]]"
   ]
  },
  {
   "cell_type": "code",
   "execution_count": 12,
   "metadata": {},
   "outputs": [],
   "source": [
    "df3 = df2.rank() #rank(): 기본적으로 값을 오름차순으로 순위를 매김. ascending=False 설정 내림차순 "
   ]
  },
  {
   "cell_type": "code",
   "execution_count": 13,
   "metadata": {},
   "outputs": [
    {
     "data": {
      "text/html": [
       "<div>\n",
       "<style scoped>\n",
       "    .dataframe tbody tr th:only-of-type {\n",
       "        vertical-align: middle;\n",
       "    }\n",
       "\n",
       "    .dataframe tbody tr th {\n",
       "        vertical-align: top;\n",
       "    }\n",
       "\n",
       "    .dataframe thead th {\n",
       "        text-align: right;\n",
       "    }\n",
       "</style>\n",
       "<table border=\"1\" class=\"dataframe\">\n",
       "  <thead>\n",
       "    <tr style=\"text-align: right;\">\n",
       "      <th></th>\n",
       "      <th>1회_평균매출액</th>\n",
       "      <th>방문빈도</th>\n",
       "    </tr>\n",
       "  </thead>\n",
       "  <tbody>\n",
       "    <tr>\n",
       "      <th>0</th>\n",
       "      <td>445.0</td>\n",
       "      <td>373.0</td>\n",
       "    </tr>\n",
       "    <tr>\n",
       "      <th>1</th>\n",
       "      <td>416.0</td>\n",
       "      <td>273.0</td>\n",
       "    </tr>\n",
       "    <tr>\n",
       "      <th>2</th>\n",
       "      <td>179.0</td>\n",
       "      <td>411.0</td>\n",
       "    </tr>\n",
       "    <tr>\n",
       "      <th>3</th>\n",
       "      <td>678.0</td>\n",
       "      <td>373.0</td>\n",
       "    </tr>\n",
       "    <tr>\n",
       "      <th>4</th>\n",
       "      <td>279.0</td>\n",
       "      <td>956.0</td>\n",
       "    </tr>\n",
       "  </tbody>\n",
       "</table>\n",
       "</div>"
      ],
      "text/plain": [
       "   1회_평균매출액   방문빈도\n",
       "0     445.0  373.0\n",
       "1     416.0  273.0\n",
       "2     179.0  411.0\n",
       "3     678.0  373.0\n",
       "4     279.0  956.0"
      ]
     },
     "execution_count": 13,
     "metadata": {},
     "output_type": "execute_result"
    }
   ],
   "source": [
    "df3.head()"
   ]
  },
  {
   "cell_type": "code",
   "execution_count": 14,
   "metadata": {},
   "outputs": [
    {
     "data": {
      "text/html": [
       "<div>\n",
       "<style scoped>\n",
       "    .dataframe tbody tr th:only-of-type {\n",
       "        vertical-align: middle;\n",
       "    }\n",
       "\n",
       "    .dataframe tbody tr th {\n",
       "        vertical-align: top;\n",
       "    }\n",
       "\n",
       "    .dataframe thead th {\n",
       "        text-align: right;\n",
       "    }\n",
       "</style>\n",
       "<table border=\"1\" class=\"dataframe\">\n",
       "  <thead>\n",
       "    <tr style=\"text-align: right;\">\n",
       "      <th></th>\n",
       "      <th>1회_평균매출액</th>\n",
       "      <th>방문빈도</th>\n",
       "    </tr>\n",
       "  </thead>\n",
       "  <tbody>\n",
       "    <tr>\n",
       "      <th>1회_평균매출액</th>\n",
       "      <td>1.000000</td>\n",
       "      <td>-0.498841</td>\n",
       "    </tr>\n",
       "    <tr>\n",
       "      <th>방문빈도</th>\n",
       "      <td>-0.498841</td>\n",
       "      <td>1.000000</td>\n",
       "    </tr>\n",
       "  </tbody>\n",
       "</table>\n",
       "</div>"
      ],
      "text/plain": [
       "          1회_평균매출액      방문빈도\n",
       "1회_평균매출액  1.000000 -0.498841\n",
       "방문빈도     -0.498841  1.000000"
      ]
     },
     "execution_count": 14,
     "metadata": {},
     "output_type": "execute_result"
    }
   ],
   "source": [
    "result=df3.corr(method='spearman')\n",
    "result"
   ]
  },
  {
   "cell_type": "markdown",
   "metadata": {},
   "source": [
    "1회 평균 매출액 순위와 방문빈도 순위는 음의 상관관계가 존재한다. "
   ]
  },
  {
   "cell_type": "markdown",
   "metadata": {},
   "source": [
    "### 6.4. 명목형 변수의 상관관계분석"
   ]
  },
  {
   "cell_type": "markdown",
   "metadata": {},
   "source": [
    "#### 클레임 접수여부와 구매유형간의 연관성이 존재하는지 확인해보자. \n",
    "\n",
    "- 귀무가설: 구매유형과 클레임 접수 여부는 연관성이 없다. \n",
    "- 연구가설: 구매유형과 클레임 접수 여부는 연관성이 있다. "
   ]
  },
  {
   "cell_type": "code",
   "execution_count": 16,
   "metadata": {
    "scrolled": true
   },
   "outputs": [
    {
     "name": "stdout",
     "output_type": "stream",
     "text": [
      "col_0   1    2    3    4   All\n",
      "row_0                         \n",
      "0      24  197   57  263   541\n",
      "1      19  120   87  233   459\n",
      "All    43  317  144  496  1000\n"
     ]
    }
   ],
   "source": [
    "#빈도 교차표 작성\n",
    "import numpy as np\n",
    "dt1=np.array(df.클레임접수여부)\n",
    "dt2=np.array(df.구매유형)\n",
    "dt3=pd.crosstab(dt1,dt2,margins=True)\n",
    "print(dt3)"
   ]
  },
  {
   "cell_type": "code",
   "execution_count": 20,
   "metadata": {},
   "outputs": [],
   "source": [
    "obs = np.array([[ 24,197,57,263],[19,120,87,233]])"
   ]
  },
  {
   "cell_type": "code",
   "execution_count": 23,
   "metadata": {},
   "outputs": [
    {
     "data": {
      "text/plain": [
       "(20.76500540576355,\n",
       " 0.00011779336652059586,\n",
       " 3,\n",
       " array([[ 23.263, 171.497,  77.904, 268.336],\n",
       "        [ 19.737, 145.503,  66.096, 227.664]]))"
      ]
     },
     "execution_count": 23,
     "metadata": {},
     "output_type": "execute_result"
    }
   ],
   "source": [
    "import scipy as sp#카이제곱검정\n",
    "sp.stats.chi2_contingency(obs)# 검정통계량, 유의확률, 자유도, 예측빈도"
   ]
  },
  {
   "cell_type": "markdown",
   "metadata": {},
   "source": [
    "#### 결과 해석\n",
    "- 성별에 따른 할인금액 수준을 비교해 여성이 남성보다 최대 할인금액이 높은 것으로 나타나지만, 최소값, 평균, 그리고 제1사분위, 제2사분위, 제3사분위의 차이가 크지 않은 것 확인\n",
    "- 성별에 따라 할인쿠폰 사용 수준이 크게 다르다고 볼 수 없으므로 성별에 따른 할인쿠폰 제도 변화는 불필요해 보임."
   ]
  }
 ],
 "metadata": {
  "kernelspec": {
   "display_name": "Python 3",
   "language": "python",
   "name": "python3"
  },
  "language_info": {
   "codemirror_mode": {
    "name": "ipython",
    "version": 3
   },
   "file_extension": ".py",
   "mimetype": "text/x-python",
   "name": "python",
   "nbconvert_exporter": "python",
   "pygments_lexer": "ipython3",
   "version": "3.7.3"
  }
 },
 "nbformat": 4,
 "nbformat_minor": 2
}
