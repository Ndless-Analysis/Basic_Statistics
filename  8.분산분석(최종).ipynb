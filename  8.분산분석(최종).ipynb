{
 "cells": [
  {
   "cell_type": "markdown",
   "metadata": {},
   "source": [
    "## 8장. 분산분석"
   ]
  },
  {
   "cell_type": "markdown",
   "metadata": {},
   "source": [
    "### 8.1 일원분산분석\n",
    "구매유형 별 총 매출액의 차이가 있는지 확인해 보자."
   ]
  },
  {
   "cell_type": "markdown",
   "metadata": {},
   "source": [
    "- 귀무가설 = A쇼핑 고객의 구매유형에 따른 총 매출액의 차이는 없다.\n",
    "- 연구가설 = A쇼핑 고객은 적어도 1개의 구매유형이 다른 구매유형과 총 매출액 차이가 존재한다."
   ]
  },
  {
   "cell_type": "markdown",
   "metadata": {},
   "source": [
    "#### 데이터 불러오기\n",
    "\n",
    "실습데이터 Ashopping을 파이썬을 이용하여 불러온다. \n"
   ]
  },
  {
   "cell_type": "markdown",
   "metadata": {},
   "source": [
    "#### 변수명=pd.read_csv(\"파일경로\\파일이름\\.파일형식\", sep=\"구분자\", encoding='코딩방식')\n",
    "\n",
    "    구분자: \",\",  \"|\", \"\\s+\"\n",
    "    encoding:'CP949' 파이썬에서 한글을 열수 있도록 인코딩 설정\n"
   ]
  },
  {
   "cell_type": "code",
   "execution_count": 1,
   "metadata": {},
   "outputs": [],
   "source": [
    "# 텍스트 파일 열기\n",
    "import pandas as pd\n",
    "df = pd.read_csv(\"C:\\python\\Ashopping.txt\",sep=',', encoding='CP949')"
   ]
  },
  {
   "cell_type": "code",
   "execution_count": 3,
   "metadata": {},
   "outputs": [],
   "source": [
    "#모듈 불러오기\n",
    "import statsmodels\n",
    "import scipy.stats as stats\n",
    "from statsmodels.formula.api import ols\n",
    "from statsmodels.stats.anova import anova_lm\n",
    "import numpy as np"
   ]
  },
  {
   "cell_type": "code",
   "execution_count": 4,
   "metadata": {
    "scrolled": true
   },
   "outputs": [
    {
     "data": {
      "text/html": [
       "<div>\n",
       "<style scoped>\n",
       "    .dataframe tbody tr th:only-of-type {\n",
       "        vertical-align: middle;\n",
       "    }\n",
       "\n",
       "    .dataframe tbody tr th {\n",
       "        vertical-align: top;\n",
       "    }\n",
       "\n",
       "    .dataframe thead th {\n",
       "        text-align: right;\n",
       "    }\n",
       "</style>\n",
       "<table border=\"1\" class=\"dataframe\">\n",
       "  <thead>\n",
       "    <tr style=\"text-align: right;\">\n",
       "      <th></th>\n",
       "      <th>구매유형</th>\n",
       "      <th>총_매출액</th>\n",
       "    </tr>\n",
       "  </thead>\n",
       "  <tbody>\n",
       "    <tr>\n",
       "      <th>0</th>\n",
       "      <td>4</td>\n",
       "      <td>4007080</td>\n",
       "    </tr>\n",
       "    <tr>\n",
       "      <th>1</th>\n",
       "      <td>4</td>\n",
       "      <td>3168400</td>\n",
       "    </tr>\n",
       "    <tr>\n",
       "      <th>2</th>\n",
       "      <td>4</td>\n",
       "      <td>2680780</td>\n",
       "    </tr>\n",
       "    <tr>\n",
       "      <th>3</th>\n",
       "      <td>4</td>\n",
       "      <td>5946600</td>\n",
       "    </tr>\n",
       "    <tr>\n",
       "      <th>4</th>\n",
       "      <td>2</td>\n",
       "      <td>13745950</td>\n",
       "    </tr>\n",
       "  </tbody>\n",
       "</table>\n",
       "</div>"
      ],
      "text/plain": [
       "   구매유형     총_매출액\n",
       "0     4   4007080\n",
       "1     4   3168400\n",
       "2     4   2680780\n",
       "3     4   5946600\n",
       "4     2  13745950"
      ]
     },
     "execution_count": 4,
     "metadata": {},
     "output_type": "execute_result"
    }
   ],
   "source": [
    "df1=df[[\"구매유형\",\"총_매출액\"]]\n",
    "df1.head()"
   ]
  },
  {
   "cell_type": "markdown",
   "metadata": {},
   "source": [
    "- 기본형식\n",
    "#### ANOVA1 = ols(종속변수~C(독립변수), 데이터)"
   ]
  },
  {
   "cell_type": "code",
   "execution_count": 5,
   "metadata": {
    "scrolled": false
   },
   "outputs": [
    {
     "data": {
      "text/html": [
       "<div>\n",
       "<style scoped>\n",
       "    .dataframe tbody tr th:only-of-type {\n",
       "        vertical-align: middle;\n",
       "    }\n",
       "\n",
       "    .dataframe tbody tr th {\n",
       "        vertical-align: top;\n",
       "    }\n",
       "\n",
       "    .dataframe thead th {\n",
       "        text-align: right;\n",
       "    }\n",
       "</style>\n",
       "<table border=\"1\" class=\"dataframe\">\n",
       "  <thead>\n",
       "    <tr style=\"text-align: right;\">\n",
       "      <th></th>\n",
       "      <th>df</th>\n",
       "      <th>sum_sq</th>\n",
       "      <th>mean_sq</th>\n",
       "      <th>F</th>\n",
       "      <th>PR(&gt;F)</th>\n",
       "    </tr>\n",
       "  </thead>\n",
       "  <tbody>\n",
       "    <tr>\n",
       "      <th>C(구매유형)</th>\n",
       "      <td>3.0</td>\n",
       "      <td>9.376756e+15</td>\n",
       "      <td>3.125585e+15</td>\n",
       "      <td>79.608695</td>\n",
       "      <td>3.629968e-46</td>\n",
       "    </tr>\n",
       "    <tr>\n",
       "      <th>Residual</th>\n",
       "      <td>996.0</td>\n",
       "      <td>3.910481e+16</td>\n",
       "      <td>3.926186e+13</td>\n",
       "      <td>NaN</td>\n",
       "      <td>NaN</td>\n",
       "    </tr>\n",
       "  </tbody>\n",
       "</table>\n",
       "</div>"
      ],
      "text/plain": [
       "             df        sum_sq       mean_sq          F        PR(>F)\n",
       "C(구매유형)     3.0  9.376756e+15  3.125585e+15  79.608695  3.629968e-46\n",
       "Residual  996.0  3.910481e+16  3.926186e+13        NaN           NaN"
      ]
     },
     "execution_count": 5,
     "metadata": {},
     "output_type": "execute_result"
    }
   ],
   "source": [
    "model1 = ols('총_매출액 ~ C(구매유형)', df1).fit()\n",
    "anova_lm(model1)"
   ]
  },
  {
   "cell_type": "markdown",
   "metadata": {},
   "source": [
    "- 대표적인 사후 검정방법\n",
    "\n",
    "Tukey's HSD (Honest Significant Difference) test.\n",
    "\n",
    "Duncan’s new multiple range test (MRT)\n",
    "\n",
    "Scheffé’s Method"
   ]
  },
  {
   "cell_type": "code",
   "execution_count": 6,
   "metadata": {},
   "outputs": [],
   "source": [
    "from statsmodels.stats.multicomp import pairwise_tukeyhsd\n",
    "posthoc = pairwise_tukeyhsd(df1['총_매출액'], df1['구매유형'], alpha=0.05)#alpha: 검정의 유의수준 설정"
   ]
  },
  {
   "cell_type": "code",
   "execution_count": 7,
   "metadata": {},
   "outputs": [
    {
     "data": {
      "text/html": [
       "<table class=\"simpletable\">\n",
       "<caption>Multiple Comparison of Means - Tukey HSD,FWER=0.05</caption>\n",
       "<tr>\n",
       "  <th>group1</th> <th>group2</th>   <th>meandiff</th>        <th>lower</th>         <th>upper</th>     <th>reject</th>\n",
       "</tr>\n",
       "<tr>\n",
       "     <td>1</td>      <td>2</td>   <td>6208962.7533</td>  <td>3588490.3757</td>  <td>8829435.1308</td>   <td>True</td> \n",
       "</tr>\n",
       "<tr>\n",
       "     <td>1</td>      <td>3</td>   <td>8376157.3272</td>  <td>5573967.6808</td>  <td>11178346.9736</td>  <td>True</td> \n",
       "</tr>\n",
       "<tr>\n",
       "     <td>1</td>      <td>4</td>    <td>989112.0696</td>  <td>-1574259.193</td>  <td>3552483.3322</td>   <td>False</td>\n",
       "</tr>\n",
       "<tr>\n",
       "     <td>2</td>      <td>3</td>   <td>2167194.5739</td>   <td>546758.9575</td>  <td>3787630.1903</td>   <td>True</td> \n",
       "</tr>\n",
       "<tr>\n",
       "     <td>2</td>      <td>4</td>   <td>-5219850.6837</td> <td>-6379340.6588</td> <td>-4060360.7086</td>  <td>True</td> \n",
       "</tr>\n",
       "<tr>\n",
       "     <td>3</td>      <td>4</td>   <td>-7387045.2576</td> <td>-8913416.2268</td> <td>-5860674.2884</td>  <td>True</td> \n",
       "</tr>\n",
       "</table>"
      ],
      "text/plain": [
       "<class 'statsmodels.iolib.table.SimpleTable'>"
      ]
     },
     "execution_count": 7,
     "metadata": {},
     "output_type": "execute_result"
    }
   ],
   "source": [
    "posthoc.summary()"
   ]
  },
  {
   "cell_type": "markdown",
   "metadata": {},
   "source": [
    "#### 기술적 해석\n",
    "일원분산분석 결과 A쇼핑 고객들의 구매유형에 따른 총 매출액의 F value 값은 79.61, 유의확률은 기준치(0.05)이하로 나타나서 ‘A쇼핑 고객은 적어도 1개의 구매유형은 다른 구매유형과 총 매출액 차이가 존재한다.’는 연구가설을 채택한다. reject 값이 False 표기된 1번 구매유형과 4번 구매유형의 고객들은 총 매출액에 차이가 없지만 나머지 집단은 통계적으로 차이가 있다고 볼 수 있다.\n",
    "\n"
   ]
  },
  {
   "cell_type": "markdown",
   "metadata": {},
   "source": [
    "### 8.2 이원분산분석\n",
    "\n",
    "구매유형과 거주지역에 따라 고객들의 총 매출액의 차이가 있는지 확인해 보자. "
   ]
  },
  {
   "cell_type": "markdown",
   "metadata": {},
   "source": [
    "- 귀무가설 = A쇼핑 고객의 구매유형에 따른 총 매출액의 차이는 없다.\n",
    "- 연구가설 = A쇼핑 고객은 적어도 1개의 구매유형이 다른 구매유형과 총 매출액 차이가 존재한다.\n",
    "\n",
    "\n",
    "- 귀무가설 = A쇼핑 고객의 거주지역에 따른 총 매출액의 차이는 없다.\n",
    "- 연구가설 = A쇼핑 고객은 적어도 1개의 거주지역이 다른 거주지역과 총 매출액 차이가 존재한다.\n",
    "\n",
    "\n",
    "- 귀무가설 = 구매유형과 거주지역의 상호작용은 없다.\n",
    "- 연구가설 = 구매유형과 거주지역의 상호작용은 있다."
   ]
  },
  {
   "cell_type": "markdown",
   "metadata": {},
   "source": [
    "- 기본형식\n",
    "#### ANOVA2 = ols(종속변수~C(독립변수1) + C(독립변수2) +C(독립변수1):C(독립변수2),데이터)"
   ]
  },
  {
   "cell_type": "code",
   "execution_count": 8,
   "metadata": {},
   "outputs": [],
   "source": [
    "df2=df[[\"총_매출액\",\"구매유형\",\"거주지역\"]]"
   ]
  },
  {
   "cell_type": "code",
   "execution_count": 9,
   "metadata": {},
   "outputs": [],
   "source": [
    "model=ols('총_매출액 ~ C(구매유형)+C(거주지역)+C(구매유형):C(거주지역)',df2).fit()"
   ]
  },
  {
   "cell_type": "code",
   "execution_count": 10,
   "metadata": {},
   "outputs": [
    {
     "data": {
      "text/html": [
       "<div>\n",
       "<style scoped>\n",
       "    .dataframe tbody tr th:only-of-type {\n",
       "        vertical-align: middle;\n",
       "    }\n",
       "\n",
       "    .dataframe tbody tr th {\n",
       "        vertical-align: top;\n",
       "    }\n",
       "\n",
       "    .dataframe thead th {\n",
       "        text-align: right;\n",
       "    }\n",
       "</style>\n",
       "<table border=\"1\" class=\"dataframe\">\n",
       "  <thead>\n",
       "    <tr style=\"text-align: right;\">\n",
       "      <th></th>\n",
       "      <th>df</th>\n",
       "      <th>sum_sq</th>\n",
       "      <th>mean_sq</th>\n",
       "      <th>F</th>\n",
       "      <th>PR(&gt;F)</th>\n",
       "    </tr>\n",
       "  </thead>\n",
       "  <tbody>\n",
       "    <tr>\n",
       "      <th>C(구매유형)</th>\n",
       "      <td>3.0</td>\n",
       "      <td>9.376756e+15</td>\n",
       "      <td>3.125585e+15</td>\n",
       "      <td>95.043921</td>\n",
       "      <td>5.702403e-54</td>\n",
       "    </tr>\n",
       "    <tr>\n",
       "      <th>C(거주지역)</th>\n",
       "      <td>6.0</td>\n",
       "      <td>4.031991e+15</td>\n",
       "      <td>6.719985e+14</td>\n",
       "      <td>20.434372</td>\n",
       "      <td>1.283925e-22</td>\n",
       "    </tr>\n",
       "    <tr>\n",
       "      <th>C(구매유형):C(거주지역)</th>\n",
       "      <td>18.0</td>\n",
       "      <td>2.995341e+15</td>\n",
       "      <td>1.664078e+14</td>\n",
       "      <td>5.060189</td>\n",
       "      <td>3.595024e-11</td>\n",
       "    </tr>\n",
       "    <tr>\n",
       "      <th>Residual</th>\n",
       "      <td>976.0</td>\n",
       "      <td>3.209644e+16</td>\n",
       "      <td>3.288570e+13</td>\n",
       "      <td>NaN</td>\n",
       "      <td>NaN</td>\n",
       "    </tr>\n",
       "  </tbody>\n",
       "</table>\n",
       "</div>"
      ],
      "text/plain": [
       "                    df        sum_sq       mean_sq          F        PR(>F)\n",
       "C(구매유형)            3.0  9.376756e+15  3.125585e+15  95.043921  5.702403e-54\n",
       "C(거주지역)            6.0  4.031991e+15  6.719985e+14  20.434372  1.283925e-22\n",
       "C(구매유형):C(거주지역)   18.0  2.995341e+15  1.664078e+14   5.060189  3.595024e-11\n",
       "Residual         976.0  3.209644e+16  3.288570e+13        NaN           NaN"
      ]
     },
     "execution_count": 10,
     "metadata": {},
     "output_type": "execute_result"
    }
   ],
   "source": [
    "anova_lm(model)"
   ]
  },
  {
   "cell_type": "markdown",
   "metadata": {},
   "source": [
    "### 사후검증"
   ]
  },
  {
   "cell_type": "code",
   "execution_count": 11,
   "metadata": {
    "scrolled": true
   },
   "outputs": [
    {
     "data": {
      "text/html": [
       "<table class=\"simpletable\">\n",
       "<caption>Multiple Comparison of Means - Tukey HSD,FWER=0.05</caption>\n",
       "<tr>\n",
       "  <th>group1</th> <th>group2</th>   <th>meandiff</th>        <th>lower</th>         <th>upper</th>     <th>reject</th>\n",
       "</tr>\n",
       "<tr>\n",
       "     <td>1</td>      <td>2</td>   <td>6208962.7533</td>  <td>3588490.3757</td>  <td>8829435.1308</td>   <td>True</td> \n",
       "</tr>\n",
       "<tr>\n",
       "     <td>1</td>      <td>3</td>   <td>8376157.3272</td>  <td>5573967.6808</td>  <td>11178346.9736</td>  <td>True</td> \n",
       "</tr>\n",
       "<tr>\n",
       "     <td>1</td>      <td>4</td>    <td>989112.0696</td>  <td>-1574259.193</td>  <td>3552483.3322</td>   <td>False</td>\n",
       "</tr>\n",
       "<tr>\n",
       "     <td>2</td>      <td>3</td>   <td>2167194.5739</td>   <td>546758.9575</td>  <td>3787630.1903</td>   <td>True</td> \n",
       "</tr>\n",
       "<tr>\n",
       "     <td>2</td>      <td>4</td>   <td>-5219850.6837</td> <td>-6379340.6588</td> <td>-4060360.7086</td>  <td>True</td> \n",
       "</tr>\n",
       "<tr>\n",
       "     <td>3</td>      <td>4</td>   <td>-7387045.2576</td> <td>-8913416.2268</td> <td>-5860674.2884</td>  <td>True</td> \n",
       "</tr>\n",
       "</table>"
      ],
      "text/plain": [
       "<class 'statsmodels.iolib.table.SimpleTable'>"
      ]
     },
     "execution_count": 11,
     "metadata": {},
     "output_type": "execute_result"
    }
   ],
   "source": [
    "from statsmodels.stats.multicomp import pairwise_tukeyhsd\n",
    "posthoc = pairwise_tukeyhsd(df2['총_매출액'], df2['구매유형'], alpha=0.05)\n",
    "posthoc.summary()"
   ]
  },
  {
   "cell_type": "code",
   "execution_count": 114,
   "metadata": {},
   "outputs": [
    {
     "data": {
      "text/html": [
       "<table class=\"simpletable\">\n",
       "<caption>Multiple Comparison of Means - Tukey HSD,FWER=0.05</caption>\n",
       "<tr>\n",
       "  <th>group1</th> <th>group2</th>   <th>meandiff</th>        <th>lower</th>         <th>upper</th>     <th>reject</th>\n",
       "</tr>\n",
       "<tr>\n",
       "     <td>1</td>      <td>2</td>    <td>-1226446.25</td> <td>-11989299.1333</td> <td>9536406.6333</td>   <td>False</td>\n",
       "</tr>\n",
       "<tr>\n",
       "     <td>1</td>      <td>3</td>     <td>-478799.5</td>  <td>-10421097.1151</td> <td>9463498.1151</td>   <td>False</td>\n",
       "</tr>\n",
       "<tr>\n",
       "     <td>1</td>      <td>4</td>    <td>572378.4409</td>  <td>-9157170.9228</td> <td>10301927.8045</td>  <td>False</td>\n",
       "</tr>\n",
       "<tr>\n",
       "     <td>1</td>      <td>5</td>    <td>756783.791</td>   <td>-8927106.1072</td> <td>10440673.6893</td>  <td>False</td>\n",
       "</tr>\n",
       "<tr>\n",
       "     <td>1</td>      <td>6</td>   <td>3147948.5765</td>  <td>-6546914.2262</td> <td>12842811.3792</td>  <td>False</td>\n",
       "</tr>\n",
       "<tr>\n",
       "     <td>1</td>      <td>7</td>   <td>8187138.6441</td>  <td>-1601252.3585</td> <td>17975529.6466</td>  <td>False</td>\n",
       "</tr>\n",
       "<tr>\n",
       "     <td>2</td>      <td>3</td>     <td>747646.75</td>   <td>-4669537.0713</td> <td>6164830.5713</td>   <td>False</td>\n",
       "</tr>\n",
       "<tr>\n",
       "     <td>2</td>      <td>4</td>   <td>1798824.6909</td>  <td>-3217222.5086</td> <td>6814871.8903</td>   <td>False</td>\n",
       "</tr>\n",
       "<tr>\n",
       "     <td>2</td>      <td>5</td>    <td>1983230.041</td>  <td>-2943667.7912</td> <td>6910127.8733</td>   <td>False</td>\n",
       "</tr>\n",
       "<tr>\n",
       "     <td>2</td>      <td>6</td>   <td>4374394.8265</td>  <td>-574035.5763</td>  <td>9322825.2293</td>   <td>False</td>\n",
       "</tr>\n",
       "<tr>\n",
       "     <td>2</td>      <td>7</td>   <td>9413584.8941</td>  <td>4284335.7183</td>  <td>14542834.0698</td>  <td>True</td> \n",
       "</tr>\n",
       "<tr>\n",
       "     <td>3</td>      <td>4</td>   <td>1051177.9409</td>  <td>-1807319.7741</td> <td>3909675.6558</td>   <td>False</td>\n",
       "</tr>\n",
       "<tr>\n",
       "     <td>3</td>      <td>5</td>    <td>1235583.291</td>  <td>-1463416.881</td>  <td>3934583.4631</td>   <td>False</td>\n",
       "</tr>\n",
       "<tr>\n",
       "     <td>3</td>      <td>6</td>   <td>3626748.0765</td>   <td>888638.6684</td>  <td>6364857.4846</td>   <td>True</td> \n",
       "</tr>\n",
       "<tr>\n",
       "     <td>3</td>      <td>7</td>   <td>8665938.1441</td>   <td>5613156.333</td>  <td>11718719.9552</td>  <td>True</td> \n",
       "</tr>\n",
       "<tr>\n",
       "     <td>4</td>      <td>5</td>    <td>184405.3502</td>   <td>-1576120.39</td>  <td>1944931.0904</td>   <td>False</td>\n",
       "</tr>\n",
       "<tr>\n",
       "     <td>4</td>      <td>6</td>   <td>2575570.1357</td>   <td>755654.7299</td>  <td>4395485.5414</td>   <td>True</td> \n",
       "</tr>\n",
       "<tr>\n",
       "     <td>4</td>      <td>7</td>   <td>7614760.2032</td>  <td>5348855.1436</td>  <td>9880665.2629</td>   <td>True</td> \n",
       "</tr>\n",
       "<tr>\n",
       "     <td>5</td>      <td>6</td>   <td>2391164.7855</td>   <td>833703.7663</td>  <td>3948625.8046</td>   <td>True</td> \n",
       "</tr>\n",
       "<tr>\n",
       "     <td>5</td>      <td>7</td>    <td>7430354.853</td>  <td>5369306.9445</td>  <td>9491402.7616</td>   <td>True</td> \n",
       "</tr>\n",
       "<tr>\n",
       "     <td>6</td>      <td>7</td>   <td>5039190.0676</td>  <td>2927186.3546</td>  <td>7151193.7806</td>   <td>True</td> \n",
       "</tr>\n",
       "</table>"
      ],
      "text/plain": [
       "<class 'statsmodels.iolib.table.SimpleTable'>"
      ]
     },
     "execution_count": 114,
     "metadata": {},
     "output_type": "execute_result"
    }
   ],
   "source": [
    "posthoc = pairwise_tukeyhsd(df2['총_매출액'], df2['거주지역'], alpha=0.05)\n",
    "posthoc.summary()"
   ]
  },
  {
   "cell_type": "markdown",
   "metadata": {},
   "source": [
    "이원분산분석 결과 구매유형의 F값은 94.99, 거주지역의 F값은 20.42로 ‘A쇼핑 고객들의 구매유형, 거주지역에 따른 총 매출액은 같지않다라고 말할 수 있으며, 두 변수간의 상호작용 효과의 F값은 5.14로 두 독립변수간의 상호작용 효과 또한 유의하다고 할 수 있다. 이를 통해 두 독립변수에 따른 총매출액이 다르지만 특히 거주지역보다 구매유형에 따라 고객들의 총매출액 차이는 상당히 크게 나타나고 있음을 알 수 있다. 또한, 두 독립변수의 상호작용 역시 의미가 있기 때문에 특정 구매유형과 특정 고객등급의 경우 다른 영역보다 매우 다른 매출액 차이를 보이고 있다는 점에 유의해야 한다"
   ]
  },
  {
   "cell_type": "markdown",
   "metadata": {},
   "source": [
    "### 8.3. 다변량분산분석 (종속변수가 2개 이상)"
   ]
  },
  {
   "cell_type": "markdown",
   "metadata": {},
   "source": [
    "#### 거주지역에 따라 방문빈도 및 총 매출액의 차이를 검정해보자.\n",
    "\n",
    "- 귀무가설: A쇼핑 고객의 거주지역에 따른 방문빈도, 총 매출액의 차이는 없다. \n",
    "- 연구가설: A쇼핑 고객의 거주지역에 따른 방문빈도, 총 매출액의 차이는 있다."
   ]
  },
  {
   "cell_type": "markdown",
   "metadata": {},
   "source": [
    "#### 라이브러리 설치\n",
    "- pip install mathpy"
   ]
  },
  {
   "cell_type": "code",
   "execution_count": 18,
   "metadata": {},
   "outputs": [],
   "source": [
    "import numpy as np\n",
    "import mathpy\n",
    "from pandas import Series, DataFrame\n",
    "from mathpy import stats"
   ]
  },
  {
   "cell_type": "code",
   "execution_count": 19,
   "metadata": {},
   "outputs": [],
   "source": [
    "df4=df[[\"총_매출액\",'방문빈도']]\n",
    "df5=df[[\"거주지역\"]]"
   ]
  },
  {
   "cell_type": "code",
   "execution_count": 20,
   "metadata": {},
   "outputs": [],
   "source": [
    "res=mathpy.stats.aov.manova_oneway(df5, df4)"
   ]
  },
  {
   "cell_type": "code",
   "execution_count": 21,
   "metadata": {},
   "outputs": [
    {
     "data": {
      "text/plain": [
       "0.02916553878000601"
      ]
     },
     "execution_count": 21,
     "metadata": {},
     "output_type": "execute_result"
    }
   ],
   "source": [
    "res.pillai"
   ]
  },
  {
   "cell_type": "code",
   "execution_count": 23,
   "metadata": {},
   "outputs": [],
   "source": [
    "#질문!!!!!!!!!!!!!!!!!!!!!!!!!!!!!!!!!!!!!!!!!!!!!!!!!!!!!!!!!!!!!!!!!!!!!!!!!!!!!"
   ]
  },
  {
   "cell_type": "code",
   "execution_count": 22,
   "metadata": {},
   "outputs": [
    {
     "name": "stdout",
     "output_type": "stream",
     "text": [
      "Group-df : 6.0\n",
      "Residual-df : 993\n",
      "Num-df : 12.0\n",
      "Den-df : 1986\n",
      "Pillai Statistic : 0.02916553878000601\n",
      "Wilk’s Lambda : 0.9695818350755097\n",
      "Lawley-Hotelling T^2 : 0.03266438161613082\n",
      "Pillai F-Value : 2.449163926788163\n",
      "Wilk’s Lambda F-Value : 2.5734286597652027\n",
      "Lawley-Hotelling T^2 F-Value: 1291430.209974603\n",
      "Pillai p-value : 0.003619241140782825\n",
      "Wilk’s Lambda p-value : 0.0021727480298714408\n",
      "Lawley-Hotelling T^2 p-value : 1.1102230246251565e-16\n"
     ]
    }
   ],
   "source": [
    "print('Group-df : {}'.format(res.groupdf))\n",
    "print('Residual-df : {}'.format(res.residualdf))  \n",
    "print('Num-df : {}'.format(res.numdf))  \n",
    "print('Den-df : {}'.format(res.denomdf))\n",
    "print('Pillai Statistic : {}'.format(res.pillai))  \n",
    "print('Wilk’s Lambda : {}'.format(res.wilks))\n",
    "print('Lawley-Hotelling T^2 : {}'.format(res.t2))  \n",
    "print('Pillai F-Value : {}'.format(res.pillai_f))  \n",
    "print('Wilk’s Lambda F-Value : {}'.format(res.wilks_f))\n",
    "print('Lawley-Hotelling T^2 F-Value: {}'.format(res.t2_f)) \n",
    "print('Pillai p-value : {}'.format(res.pillai_p))\n",
    "print('Wilk’s Lambda p-value : {}'.format(res.wilks_p))  \n",
    "print('Lawley-Hotelling T^2 p-value : {}'.format(res.t2_p))"
   ]
  },
  {
   "cell_type": "markdown",
   "metadata": {},
   "source": [
    "다변량분산분석 결과 거주지역, 구매유형에 따라 총 매출액과 방문빈도의 차이는 다변량 통계치의 유의확률을 통해 유의한 것으로 나타났다. 따라서 마케팅담당자는 추가적으로 거주지역, 구매유형에 따라 구체적으로 총 매출액과 방문빈도에 어떤 차이가 있는지 사후분석을 통해 한번 더 분석을 진행해야 한다. 또한 두 변수의 조합, 즉 각각의 요인이 가지는 값의 조합에 따라 어떤 식으로 차이가 있는지 살펴봐야 한다. 이를 통해 거주지역과 구매유형별 타겟마케팅을 전개하여 효율적인 마케팅자원을 분배할 수 있을 것으로 기대할 수 있다.\n"
   ]
  },
  {
   "cell_type": "markdown",
   "metadata": {},
   "source": [
    "### 8.4.  공분산분석"
   ]
  },
  {
   "cell_type": "markdown",
   "metadata": {},
   "source": [
    "#### 총 매출액에 영향을 미칠 수 있는 ‘방문빈도’ 변수를 통제한 후, ‘구매유형별 총 매출액의 차이가 있는지 확인해 보자.\n",
    "\n",
    "- 귀무가설: '방문빈도’를 통제한 상황에서 A쇼핑 고객들의 구매유형에 따라 총 매출액은 차이가 없다.\n",
    "- 연구가설: '방문빈도’를 통제한 상황에서 A쇼핑 고객들 중 적어도 하나는 구매유형에 따른 총 매출액은 다른 구매유형과 차이가 있다."
   ]
  },
  {
   "cell_type": "markdown",
   "metadata": {},
   "source": [
    "#### 라이브러리 설치\n",
    "- pip install penguin"
   ]
  },
  {
   "cell_type": "code",
   "execution_count": 14,
   "metadata": {},
   "outputs": [],
   "source": [
    "df3=df[['총_매출액','방문빈도','구매유형']]"
   ]
  },
  {
   "cell_type": "code",
   "execution_count": 15,
   "metadata": {},
   "outputs": [],
   "source": [
    "from pingouin import ancova"
   ]
  },
  {
   "cell_type": "code",
   "execution_count": 16,
   "metadata": {},
   "outputs": [
    {
     "data": {
      "text/html": [
       "<div>\n",
       "<style scoped>\n",
       "    .dataframe tbody tr th:only-of-type {\n",
       "        vertical-align: middle;\n",
       "    }\n",
       "\n",
       "    .dataframe tbody tr th {\n",
       "        vertical-align: top;\n",
       "    }\n",
       "\n",
       "    .dataframe thead th {\n",
       "        text-align: right;\n",
       "    }\n",
       "</style>\n",
       "<table border=\"1\" class=\"dataframe\">\n",
       "  <thead>\n",
       "    <tr style=\"text-align: right;\">\n",
       "      <th></th>\n",
       "      <th>DF</th>\n",
       "      <th>F</th>\n",
       "      <th>SS</th>\n",
       "      <th>Source</th>\n",
       "      <th>p-unc</th>\n",
       "    </tr>\n",
       "  </thead>\n",
       "  <tbody>\n",
       "    <tr>\n",
       "      <th>0</th>\n",
       "      <td>3</td>\n",
       "      <td>136.413100</td>\n",
       "      <td>8.500369e+15</td>\n",
       "      <td>구매유형</td>\n",
       "      <td>5.006403e-74</td>\n",
       "    </tr>\n",
       "    <tr>\n",
       "      <th>1</th>\n",
       "      <td>1</td>\n",
       "      <td>887.650878</td>\n",
       "      <td>1.843752e+16</td>\n",
       "      <td>방문빈도</td>\n",
       "      <td>6.091270e-140</td>\n",
       "    </tr>\n",
       "    <tr>\n",
       "      <th>2</th>\n",
       "      <td>995</td>\n",
       "      <td>NaN</td>\n",
       "      <td>2.066729e+16</td>\n",
       "      <td>Residual</td>\n",
       "      <td>NaN</td>\n",
       "    </tr>\n",
       "  </tbody>\n",
       "</table>\n",
       "</div>"
      ],
      "text/plain": [
       "    DF           F            SS    Source          p-unc\n",
       "0    3  136.413100  8.500369e+15      구매유형   5.006403e-74\n",
       "1    1  887.650878  1.843752e+16      방문빈도  6.091270e-140\n",
       "2  995         NaN  2.066729e+16  Residual            NaN"
      ]
     },
     "execution_count": 16,
     "metadata": {},
     "output_type": "execute_result"
    }
   ],
   "source": [
    "ancova(data=df3, dv='총_매출액', covar='방문빈도', between='구매유형')"
   ]
  },
  {
   "cell_type": "markdown",
   "metadata": {},
   "source": [
    "공분산분석 결과 A쇼핑 고객들의 구매유형에 따른 총 매출액의 F value는 136.41이고 유의확률은 기준치(0.05)보다 작게 도출되기 때문에 ‘방문빈도를 통제한 상황에서 A쇼핑 고객들의 구매유형에 따라 총 매출액의 차이가 있다’는 연구가설을 채택한다. 결과표 중 가장 위에 있는 분산분석표는 방문빈도를 통제하지 않은 상태에서의 일원분산분석 결과인데, 방문빈도 변수를 통제하지 않았을 때의 F값은 334.8로 매우 높은 값을 보이고 있다. 즉, 구매유형에 따른 매출액의 차이는 방문빈도를 통제할 경우 다소 떨어진다는 것이다. 매출액의 변량을 방문빈도가 상당 부분 설명하고 있다는 뜻이 된다. 그러나, 방문빈도를 통제하였다 하더라도 구매유형에 따른 매출액의 차이는 유의하게 나타났으므로 구매유형에 따른 마케팅 전략은 차별화하는 것이 바람직할 것이다. .\n"
   ]
  }
 ],
 "metadata": {
  "kernelspec": {
   "display_name": "Python 3",
   "language": "python",
   "name": "python3"
  },
  "language_info": {
   "codemirror_mode": {
    "name": "ipython",
    "version": 3
   },
   "file_extension": ".py",
   "mimetype": "text/x-python",
   "name": "python",
   "nbconvert_exporter": "python",
   "pygments_lexer": "ipython3",
   "version": "3.7.3"
  }
 },
 "nbformat": 4,
 "nbformat_minor": 2
}
