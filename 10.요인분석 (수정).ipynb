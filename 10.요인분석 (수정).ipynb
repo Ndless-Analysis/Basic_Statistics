{
 "cells": [
  {
   "cell_type": "markdown",
   "metadata": {},
   "source": [
    "## 10장. 요인분석"
   ]
  },
  {
   "cell_type": "markdown",
   "metadata": {},
   "source": [
    "### 10.1 탐색적 요인분석\n",
    "A쇼핑의 만족도 조사에서 상품품질~안내표지판 설명까지 10개 변수를 Python을 활용하여 탐색적으로 상위 요인으로 묶고자 한다."
   ]
  },
  {
   "cell_type": "markdown",
   "metadata": {},
   "source": [
    "#### 데이터 불러오기\n",
    "\n",
    "실습데이터 Ashopping을 파이썬을 이용하여 불러온다. \n"
   ]
  },
  {
   "cell_type": "markdown",
   "metadata": {},
   "source": [
    "#### 변수명=pd.read_csv(\"파일경로\\파일이름\\.파일형식\", sep=\"구분자\", encoding='코딩방식')\n",
    "\n",
    "    구분자: \",\",  \"|\", \"\\s+\"\n",
    "    encoding:'CP949' 파이썬에서 한글을 열수 있도록 인코딩 설정\n"
   ]
  },
  {
   "cell_type": "code",
   "execution_count": 1,
   "metadata": {},
   "outputs": [],
   "source": [
    "# 텍스트 파일 열기\n",
    "import pandas as pd\n",
    "import numpy as np\n",
    "df = pd.read_csv(\"C:\\python\\Ashopping2.txt\",sep=\",\", encoding='CP949')"
   ]
  },
  {
   "cell_type": "code",
   "execution_count": 2,
   "metadata": {},
   "outputs": [],
   "source": [
    "X=df[[\"상품_품질\",\"상품_다양성\",\"가격_적절성\",\"상품_진열_위치\",\"상품_설명_표시\",\"매장_청결성\",\"공간_편의성\",\"시야_확보성\",\"음향_적절성\",\"안내_표지판_설명\"]]"
   ]
  },
  {
   "cell_type": "code",
   "execution_count": 3,
   "metadata": {},
   "outputs": [
    {
     "data": {
      "text/plain": [
       "FactorAnalyzer(bounds=(0.005, 1), impute='median', is_corr_matrix=False,\n",
       "        method='minres', n_factors=3, rotation='varimax',\n",
       "        rotation_kwargs={}, use_smc=True)"
      ]
     },
     "execution_count": 3,
     "metadata": {},
     "output_type": "execute_result"
    }
   ],
   "source": [
    "from factor_analyzer import FactorAnalyzer\n",
    "fa = FactorAnalyzer(rotation='varimax')\n",
    "fa.fit(X)#rotation:회전방법 설정"
   ]
  },
  {
   "cell_type": "code",
   "execution_count": 4,
   "metadata": {},
   "outputs": [
    {
     "data": {
      "text/plain": [
       "array([3.65392328, 1.3228536 , 0.91943722, 0.80284797, 0.71308219,\n",
       "       0.61975691, 0.59545003, 0.51379284, 0.47236786, 0.38648811])"
      ]
     },
     "execution_count": 4,
     "metadata": {},
     "output_type": "execute_result"
    }
   ],
   "source": [
    "ev, v = fa.get_eigenvalues()#고유값\n",
    "ev"
   ]
  },
  {
   "cell_type": "code",
   "execution_count": 5,
   "metadata": {},
   "outputs": [
    {
     "data": {
      "text/plain": [
       "FactorAnalyzer(bounds=(0.005, 1), impute='median', is_corr_matrix=False,\n",
       "        method='minres', n_factors=2, rotation='varimax',\n",
       "        rotation_kwargs={}, use_smc=True)"
      ]
     },
     "execution_count": 5,
     "metadata": {},
     "output_type": "execute_result"
    }
   ],
   "source": [
    "fa = FactorAnalyzer(n_factors=2,rotation='varimax')\n",
    "fa.fit(X)"
   ]
  },
  {
   "cell_type": "code",
   "execution_count": 6,
   "metadata": {},
   "outputs": [
    {
     "data": {
      "text/plain": [
       "array([[ 0.62705768,  0.06582112],\n",
       "       [ 0.58817302,  0.07536266],\n",
       "       [ 0.550012  ,  0.11446384],\n",
       "       [ 0.08304472,  0.99647516],\n",
       "       [ 0.05706939,  0.34912608],\n",
       "       [ 0.61637581, -0.00806394],\n",
       "       [ 0.69354615,  0.00451468],\n",
       "       [ 0.591406  ,  0.10195566],\n",
       "       [ 0.5733718 ,  0.14003509],\n",
       "       [ 0.5940459 ,  0.07717038]])"
      ]
     },
     "execution_count": 6,
     "metadata": {},
     "output_type": "execute_result"
    }
   ],
   "source": [
    "fa.loadings_#요인적재량"
   ]
  },
  {
   "cell_type": "code",
   "execution_count": 7,
   "metadata": {},
   "outputs": [
    {
     "data": {
      "text/plain": [
       "array([0.39753375, 0.35162703, 0.31561517, 0.99985916, 0.12514594,\n",
       "       0.37998417, 0.48102665, 0.36015601, 0.34836505, 0.3588458 ])"
      ]
     },
     "execution_count": 7,
     "metadata": {},
     "output_type": "execute_result"
    }
   ],
   "source": [
    "fa.get_communalities()#공통성"
   ]
  },
  {
   "cell_type": "code",
   "execution_count": 8,
   "metadata": {
    "scrolled": true
   },
   "outputs": [
    {
     "data": {
      "text/plain": [
       "(array([2.94414759, 1.17401114]),\n",
       " array([0.29441476, 0.11740111]),\n",
       " array([0.29441476, 0.41181587]))"
      ]
     },
     "execution_count": 8,
     "metadata": {},
     "output_type": "execute_result"
    }
   ],
   "source": [
    "fa.get_factor_variance()# 각 요인별 분산값"
   ]
  },
  {
   "cell_type": "markdown",
   "metadata": {},
   "source": [
    "# 10.2. 확인적 요인분석"
   ]
  },
  {
   "cell_type": "markdown",
   "metadata": {},
   "source": [
    "#### A쇼핑의 만족도 조사에서 상품품질~안내표지판 설명까지 10개 변수가 2개의 요인으로 요약되는 것을 확인하는 목적으로 요인분석을 수행하고자 한다."
   ]
  },
  {
   "cell_type": "code",
   "execution_count": 9,
   "metadata": {},
   "outputs": [],
   "source": [
    "from sklearn.decomposition import PCA\n",
    "pca = PCA(n_components=2).fit(X3)"
   ]
  },
  {
   "cell_type": "code",
   "execution_count": 16,
   "metadata": {},
   "outputs": [
    {
     "name": "stdout",
     "output_type": "stream",
     "text": [
      "PCA components:\n",
      "[[-0.07037518 -0.04542533 -0.04972039 -0.46411581 -0.87097262 -0.05367694\n",
      "  -0.04261118 -0.0612905  -0.06649194 -0.06033528]\n",
      " [ 0.30114255  0.31476194  0.26917283  0.42542756 -0.37535039  0.25448987\n",
      "   0.34762565  0.25497114  0.29622411  0.2784598 ]]\n"
     ]
    }
   ],
   "source": [
    "print(\"PCA components:\\n{}\".format(pca.components_))#주성분 확인"
   ]
  },
  {
   "cell_type": "code",
   "execution_count": 11,
   "metadata": {},
   "outputs": [
    {
     "name": "stdout",
     "output_type": "stream",
     "text": [
      "eigen_value : [5.02128067 2.38453408]\n"
     ]
    }
   ],
   "source": [
    "print('eigen_value :', pca.explained_variance_)#고유값"
   ]
  }
 ],
 "metadata": {
  "kernelspec": {
   "display_name": "Python 3",
   "language": "python",
   "name": "python3"
  },
  "language_info": {
   "codemirror_mode": {
    "name": "ipython",
    "version": 3
   },
   "file_extension": ".py",
   "mimetype": "text/x-python",
   "name": "python",
   "nbconvert_exporter": "python",
   "pygments_lexer": "ipython3",
   "version": "3.7.3"
  }
 },
 "nbformat": 4,
 "nbformat_minor": 2
}
