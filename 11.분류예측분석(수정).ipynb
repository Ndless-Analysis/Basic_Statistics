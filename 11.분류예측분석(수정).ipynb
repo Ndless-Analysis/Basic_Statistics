{
 "cells": [
  {
   "cell_type": "markdown",
   "metadata": {},
   "source": [
    "## 11장. 분류예측분석"
   ]
  },
  {
   "cell_type": "markdown",
   "metadata": {},
   "source": [
    "### 11.1 선형판별분석\n",
    "A쇼핑 고객들의 이탈유무를 판단할 수 있는 판별 함수를 Python 프로그램에서 방문빈도, 1회 평균매출액, 거래기간을 통해 산출해 보자."
   ]
  },
  {
   "cell_type": "markdown",
   "metadata": {},
   "source": [
    "- H0(귀무가설) = 방문빈도와 1회 평균매출액, 거래기간은 이탈에 영향을 주지 않는다.\n",
    "- H1(연구가설) = 방문빈도와 1회 평균매출액, 거래기간은 이탈에 영향을 준다."
   ]
  },
  {
   "cell_type": "markdown",
   "metadata": {},
   "source": [
    "#### 데이터 불러오기\n",
    "\n",
    "실습데이터 Ashopping을 파이썬을 이용하여 불러온다. \n"
   ]
  },
  {
   "cell_type": "markdown",
   "metadata": {},
   "source": [
    "#### 변수명=pd.read_csv(\"파일경로\\파일이름\\.파일형식\", sep=\"구분자\", encoding='코딩방식')\n",
    "\n",
    "    구분자: \",\",  \"|\", \"\\s+\"\n",
    "    encoding:'CP949' 파이썬에서 한글을 열수 있도록 인코딩 설정\n"
   ]
  },
  {
   "cell_type": "code",
   "execution_count": 1,
   "metadata": {},
   "outputs": [],
   "source": [
    "# 텍스트 파일 열기\n",
    "import pandas as pd\n",
    "import numpy as np\n",
    "df = pd.read_csv(\"C:\\python\\Ashopping2.txt\",sep=\",\", encoding='CP949')"
   ]
  },
  {
   "cell_type": "code",
   "execution_count": 2,
   "metadata": {},
   "outputs": [],
   "source": [
    "X=df[[\"방문빈도\",\"1회_평균매출액\",\"거래기간\"]]\n",
    "Y=df[[\"이탈여부\"]]"
   ]
  },
  {
   "cell_type": "code",
   "execution_count": 3,
   "metadata": {},
   "outputs": [],
   "source": [
    "from sklearn.model_selection import train_test_split \n",
    "x_train, x_test, y_train, y_test = train_test_split(X, Y, test_size=0.3, random_state=123) "
   ]
  },
  {
   "cell_type": "code",
   "execution_count": 4,
   "metadata": {},
   "outputs": [
    {
     "name": "stderr",
     "output_type": "stream",
     "text": [
      "C:\\Users\\rlatj\\Anaconda3\\lib\\site-packages\\sklearn\\utils\\validation.py:761: DataConversionWarning: A column-vector y was passed when a 1d array was expected. Please change the shape of y to (n_samples, ), for example using ravel().\n",
      "  y = column_or_1d(y, warn=True)\n"
     ]
    }
   ],
   "source": [
    "from sklearn.discriminant_analysis import LinearDiscriminantAnalysis as LDA\n",
    "lda = LDA().fit(x_train,y_train) #독립변수, 종속변수"
   ]
  },
  {
   "cell_type": "code",
   "execution_count": 5,
   "metadata": {},
   "outputs": [
    {
     "data": {
      "text/plain": [
       "array([0, 0, 0, 0, 0, 0, 0, 0, 1, 0, 0, 0, 0, 0, 0, 0, 0, 0, 0, 0, 0, 0,\n",
       "       0, 0, 0, 0, 0, 0, 0, 0, 0, 0, 0, 0, 0, 0, 0, 0, 0, 0, 0, 0, 1, 0,\n",
       "       0, 0, 0, 1, 0, 0, 0, 0, 0, 0, 0, 0, 0, 0, 0, 0, 0, 0, 0, 0, 0, 1,\n",
       "       0, 0, 0, 0, 0, 0, 0, 0, 0, 0, 0, 0, 0, 0, 0, 0, 0, 0, 0, 0, 0, 0,\n",
       "       0, 0, 1, 0, 0, 0, 0, 0, 0, 0, 0, 0, 0, 0, 0, 0, 0, 0, 0, 1, 0, 0,\n",
       "       0, 0, 1, 0, 0, 1, 0, 0, 0, 0, 0, 0, 0, 0, 0, 0, 0, 0, 0, 0, 0, 0,\n",
       "       1, 0, 1, 0, 0, 0, 0, 0, 1, 0, 0, 0, 0, 0, 0, 0, 1, 0, 0, 0, 0, 0,\n",
       "       0, 1, 0, 0, 0, 1, 0, 0, 0, 1, 0, 0, 0, 0, 0, 1, 0, 0, 0, 0, 0, 1,\n",
       "       0, 0, 0, 0, 0, 0, 0, 0, 0, 0, 0, 0, 0, 0, 0, 0, 0, 0, 1, 0, 0, 0,\n",
       "       0, 0, 0, 0, 0, 0, 0, 0, 0, 0, 0, 0, 0, 0, 0, 0, 0, 0, 0, 0, 0, 0,\n",
       "       0, 0, 0, 0, 0, 0, 1, 0, 0, 0, 0, 1, 0, 0, 0, 0, 0, 0, 0, 0, 0, 0,\n",
       "       0, 0, 0, 0, 0, 0, 0, 0, 1, 0, 0, 0, 0, 0, 0, 0, 0, 0, 0, 0, 0, 0,\n",
       "       0, 0, 0, 0, 0, 0, 0, 0, 0, 0, 0, 1, 0, 0, 0, 0, 0, 0, 1, 0, 0, 0,\n",
       "       0, 0, 0, 0, 0, 0, 0, 0, 0, 0, 0, 1, 0, 0], dtype=int64)"
      ]
     },
     "execution_count": 5,
     "metadata": {},
     "output_type": "execute_result"
    }
   ],
   "source": [
    "lda.predict(x_test) #예측결과"
   ]
  },
  {
   "cell_type": "code",
   "execution_count": 6,
   "metadata": {
    "scrolled": false
   },
   "outputs": [
    {
     "data": {
      "text/plain": [
       "array([[1.00000000e+00, 2.63849840e-12],\n",
       "       [1.00000000e+00, 1.02290237e-11],\n",
       "       [9.99999972e-01, 2.79128044e-08],\n",
       "       [1.00000000e+00, 2.87745400e-13],\n",
       "       [1.00000000e+00, 2.80481147e-13],\n",
       "       [1.00000000e+00, 2.50087803e-13],\n",
       "       [9.99999881e-01, 1.18934210e-07],\n",
       "       [1.00000000e+00, 5.28761080e-12],\n",
       "       [9.67006942e-05, 9.99903299e-01],\n",
       "       [9.99999739e-01, 2.60581768e-07],\n",
       "       [9.99999999e-01, 1.36622633e-09],\n",
       "       [1.00000000e+00, 5.14746866e-13],\n",
       "       [1.00000000e+00, 3.52396136e-12],\n",
       "       [1.00000000e+00, 3.11134261e-13],\n",
       "       [1.00000000e+00, 1.68954394e-12],\n",
       "       [9.99991410e-01, 8.59001941e-06],\n",
       "       [1.00000000e+00, 4.44807065e-12],\n",
       "       [1.00000000e+00, 5.35410771e-13],\n",
       "       [1.00000000e+00, 1.23610393e-10],\n",
       "       [1.00000000e+00, 4.90775281e-12],\n",
       "       [1.00000000e+00, 6.88691041e-14],\n",
       "       [1.00000000e+00, 9.59535745e-14],\n",
       "       [1.00000000e+00, 6.62999416e-12],\n",
       "       [1.00000000e+00, 6.03878263e-13],\n",
       "       [1.00000000e+00, 1.14914016e-13],\n",
       "       [1.00000000e+00, 1.66405623e-12],\n",
       "       [1.00000000e+00, 7.96617369e-12],\n",
       "       [1.00000000e+00, 2.98668183e-13],\n",
       "       [9.99999999e-01, 5.17784537e-10],\n",
       "       [1.00000000e+00, 4.40602979e-11],\n",
       "       [1.00000000e+00, 3.09474192e-11],\n",
       "       [1.00000000e+00, 1.32541543e-11],\n",
       "       [1.00000000e+00, 8.76666754e-11],\n",
       "       [1.00000000e+00, 1.64630245e-13],\n",
       "       [1.00000000e+00, 1.64277719e-10],\n",
       "       [1.00000000e+00, 5.67797661e-14],\n",
       "       [1.00000000e+00, 2.46515278e-12],\n",
       "       [1.00000000e+00, 3.41372934e-12],\n",
       "       [1.00000000e+00, 7.40478377e-13],\n",
       "       [1.00000000e+00, 2.37506121e-13],\n",
       "       [1.00000000e+00, 1.72539505e-12],\n",
       "       [1.00000000e+00, 3.29136867e-12],\n",
       "       [1.80962804e-07, 9.99999819e-01],\n",
       "       [1.00000000e+00, 3.26102601e-13],\n",
       "       [1.00000000e+00, 1.42338253e-12],\n",
       "       [1.00000000e+00, 5.41858118e-12],\n",
       "       [9.99999999e-01, 7.19769212e-10],\n",
       "       [1.75309972e-03, 9.98246900e-01],\n",
       "       [1.00000000e+00, 7.58979614e-13],\n",
       "       [1.00000000e+00, 8.25666278e-13],\n",
       "       [9.99999949e-01, 5.10632980e-08],\n",
       "       [1.00000000e+00, 3.17144378e-11],\n",
       "       [9.99999996e-01, 3.78695414e-09],\n",
       "       [1.00000000e+00, 2.14899403e-13],\n",
       "       [1.00000000e+00, 1.80326382e-12],\n",
       "       [1.00000000e+00, 1.18317712e-13],\n",
       "       [9.11558236e-01, 8.84417635e-02],\n",
       "       [1.00000000e+00, 3.07296153e-11],\n",
       "       [1.00000000e+00, 1.19811805e-13],\n",
       "       [9.99999998e-01, 2.15853984e-09],\n",
       "       [1.00000000e+00, 8.49320170e-11],\n",
       "       [1.00000000e+00, 5.03284277e-14],\n",
       "       [1.00000000e+00, 3.13650725e-14],\n",
       "       [1.00000000e+00, 3.97536593e-14],\n",
       "       [1.00000000e+00, 3.45118794e-12],\n",
       "       [9.52244950e-10, 9.99999999e-01],\n",
       "       [1.00000000e+00, 1.02122141e-11],\n",
       "       [1.00000000e+00, 1.12013799e-13],\n",
       "       [1.00000000e+00, 3.63409143e-13],\n",
       "       [1.00000000e+00, 1.09550730e-12],\n",
       "       [1.00000000e+00, 8.74756518e-14],\n",
       "       [1.00000000e+00, 4.31532208e-12],\n",
       "       [9.99999954e-01, 4.57146011e-08],\n",
       "       [1.00000000e+00, 1.52142573e-11],\n",
       "       [1.00000000e+00, 1.66982980e-12],\n",
       "       [1.00000000e+00, 3.70175951e-12],\n",
       "       [1.00000000e+00, 2.61523456e-10],\n",
       "       [1.00000000e+00, 9.40534945e-12],\n",
       "       [9.99999998e-01, 2.18585625e-09],\n",
       "       [1.00000000e+00, 6.57618028e-12],\n",
       "       [1.00000000e+00, 4.46388847e-11],\n",
       "       [1.00000000e+00, 3.08902368e-11],\n",
       "       [1.00000000e+00, 2.47397981e-13],\n",
       "       [1.00000000e+00, 1.70397412e-12],\n",
       "       [1.00000000e+00, 3.05463284e-12],\n",
       "       [1.00000000e+00, 1.60063511e-13],\n",
       "       [1.00000000e+00, 5.45884660e-11],\n",
       "       [1.00000000e+00, 2.36557161e-11],\n",
       "       [1.00000000e+00, 9.79572463e-13],\n",
       "       [1.00000000e+00, 5.32015098e-14],\n",
       "       [1.95427556e-06, 9.99998046e-01],\n",
       "       [1.00000000e+00, 1.51492803e-12],\n",
       "       [1.00000000e+00, 1.12674858e-12],\n",
       "       [1.00000000e+00, 2.00847764e-13],\n",
       "       [1.00000000e+00, 5.44752055e-13],\n",
       "       [1.00000000e+00, 2.10681107e-12],\n",
       "       [1.00000000e+00, 8.01563684e-11],\n",
       "       [1.00000000e+00, 3.84382585e-13],\n",
       "       [1.00000000e+00, 7.32311445e-14],\n",
       "       [9.99999999e-01, 1.19401436e-09],\n",
       "       [1.00000000e+00, 7.37456552e-12],\n",
       "       [9.86432645e-01, 1.35673550e-02],\n",
       "       [8.96816481e-01, 1.03183519e-01],\n",
       "       [1.00000000e+00, 7.94102536e-12],\n",
       "       [1.00000000e+00, 3.62605535e-14],\n",
       "       [1.00000000e+00, 4.68970789e-10],\n",
       "       [1.00000000e+00, 7.68671153e-13],\n",
       "       [9.89999194e-10, 9.99999999e-01],\n",
       "       [1.00000000e+00, 3.07402716e-12],\n",
       "       [1.00000000e+00, 2.05568345e-12],\n",
       "       [1.00000000e+00, 3.41021651e-12],\n",
       "       [9.99999993e-01, 6.80125003e-09],\n",
       "       [6.27730534e-10, 9.99999999e-01],\n",
       "       [1.00000000e+00, 8.61901893e-14],\n",
       "       [1.00000000e+00, 2.35881462e-13],\n",
       "       [8.43361834e-04, 9.99156638e-01],\n",
       "       [9.99999999e-01, 6.93545700e-10],\n",
       "       [9.99999887e-01, 1.12566855e-07],\n",
       "       [1.00000000e+00, 4.48291899e-10],\n",
       "       [9.99999999e-01, 7.02893807e-10],\n",
       "       [9.99999991e-01, 8.99199447e-09],\n",
       "       [1.00000000e+00, 2.65252856e-14],\n",
       "       [1.00000000e+00, 4.97970759e-12],\n",
       "       [1.00000000e+00, 7.13133603e-13],\n",
       "       [1.00000000e+00, 8.48031461e-13],\n",
       "       [1.00000000e+00, 1.00370717e-12],\n",
       "       [1.00000000e+00, 1.14035547e-12],\n",
       "       [1.00000000e+00, 4.87058787e-12],\n",
       "       [1.00000000e+00, 6.95547047e-13],\n",
       "       [1.00000000e+00, 4.61519956e-12],\n",
       "       [1.00000000e+00, 3.78153213e-12],\n",
       "       [9.99999578e-01, 4.22311735e-07],\n",
       "       [3.77052493e-07, 9.99999623e-01],\n",
       "       [1.00000000e+00, 9.29938080e-13],\n",
       "       [4.59737184e-06, 9.99995403e-01],\n",
       "       [1.00000000e+00, 2.05382212e-13],\n",
       "       [9.99999985e-01, 1.54734368e-08],\n",
       "       [1.00000000e+00, 1.62690998e-13],\n",
       "       [1.00000000e+00, 2.77740445e-12],\n",
       "       [1.00000000e+00, 3.17014441e-14],\n",
       "       [7.66053887e-14, 1.00000000e+00],\n",
       "       [1.00000000e+00, 2.24862642e-10],\n",
       "       [1.00000000e+00, 8.03437912e-12],\n",
       "       [9.99999999e-01, 1.34157870e-09],\n",
       "       [9.99999997e-01, 3.11954321e-09],\n",
       "       [1.00000000e+00, 7.04445783e-14],\n",
       "       [1.00000000e+00, 1.08814232e-10],\n",
       "       [9.44388602e-01, 5.56113977e-02],\n",
       "       [4.27737724e-05, 9.99957226e-01],\n",
       "       [1.00000000e+00, 7.56104639e-12],\n",
       "       [1.00000000e+00, 7.29180650e-13],\n",
       "       [1.00000000e+00, 6.46850054e-11],\n",
       "       [1.00000000e+00, 7.33428436e-12],\n",
       "       [1.00000000e+00, 1.80013002e-12],\n",
       "       [1.00000000e+00, 7.05500822e-14],\n",
       "       [1.16789334e-07, 9.99999883e-01],\n",
       "       [1.00000000e+00, 1.60244076e-11],\n",
       "       [1.00000000e+00, 7.76777582e-14],\n",
       "       [1.00000000e+00, 4.62923150e-12],\n",
       "       [2.41901531e-08, 9.99999976e-01],\n",
       "       [1.00000000e+00, 3.06808509e-13],\n",
       "       [1.00000000e+00, 5.91350264e-12],\n",
       "       [1.00000000e+00, 6.32000849e-14],\n",
       "       [5.31606315e-10, 9.99999999e-01],\n",
       "       [1.00000000e+00, 1.94336605e-13],\n",
       "       [9.99995191e-01, 4.80904970e-06],\n",
       "       [1.00000000e+00, 5.94550063e-13],\n",
       "       [9.99999999e-01, 5.01043474e-10],\n",
       "       [1.00000000e+00, 9.41409611e-13],\n",
       "       [8.67179428e-09, 9.99999991e-01],\n",
       "       [9.99898949e-01, 1.01051036e-04],\n",
       "       [1.00000000e+00, 1.21795527e-12],\n",
       "       [1.00000000e+00, 1.44303392e-11],\n",
       "       [1.00000000e+00, 1.15071488e-12],\n",
       "       [1.00000000e+00, 6.59765076e-14],\n",
       "       [3.03990488e-03, 9.96960095e-01],\n",
       "       [1.00000000e+00, 1.27583537e-11],\n",
       "       [1.00000000e+00, 5.50344867e-12],\n",
       "       [9.99999996e-01, 4.43982562e-09],\n",
       "       [1.00000000e+00, 1.40038649e-12],\n",
       "       [1.00000000e+00, 1.42711989e-13],\n",
       "       [1.00000000e+00, 5.74848242e-13],\n",
       "       [1.00000000e+00, 3.11994608e-11],\n",
       "       [1.00000000e+00, 1.96491801e-12],\n",
       "       [1.00000000e+00, 6.18944067e-12],\n",
       "       [9.99992206e-01, 7.79411199e-06],\n",
       "       [1.00000000e+00, 4.09994372e-13],\n",
       "       [1.00000000e+00, 8.61901893e-14],\n",
       "       [1.00000000e+00, 2.71437657e-14],\n",
       "       [1.00000000e+00, 1.45836765e-11],\n",
       "       [1.00000000e+00, 5.74970256e-13],\n",
       "       [1.00000000e+00, 2.41949087e-13],\n",
       "       [1.00000000e+00, 9.04593685e-13],\n",
       "       [1.00000000e+00, 2.85944235e-14],\n",
       "       [3.09877901e-02, 9.69012210e-01],\n",
       "       [1.00000000e+00, 3.99502729e-13],\n",
       "       [1.00000000e+00, 7.28748664e-14],\n",
       "       [1.00000000e+00, 7.13695271e-13],\n",
       "       [1.00000000e+00, 7.01478422e-11],\n",
       "       [1.00000000e+00, 1.53212231e-12],\n",
       "       [9.99965536e-01, 3.44639740e-05],\n",
       "       [1.00000000e+00, 1.88776326e-12],\n",
       "       [1.00000000e+00, 1.34819333e-14],\n",
       "       [1.00000000e+00, 6.99624457e-14],\n",
       "       [1.00000000e+00, 4.45714273e-13],\n",
       "       [1.00000000e+00, 1.06841088e-10],\n",
       "       [1.00000000e+00, 4.26259975e-12],\n",
       "       [9.99999814e-01, 1.85873387e-07],\n",
       "       [1.00000000e+00, 3.12415309e-13],\n",
       "       [1.00000000e+00, 5.37045461e-13],\n",
       "       [9.99999995e-01, 5.18576460e-09],\n",
       "       [1.00000000e+00, 1.76241833e-12],\n",
       "       [9.99971012e-01, 2.89884419e-05],\n",
       "       [1.00000000e+00, 6.01467164e-13],\n",
       "       [1.00000000e+00, 2.29711229e-12],\n",
       "       [1.00000000e+00, 2.22639964e-11],\n",
       "       [1.00000000e+00, 4.29807919e-11],\n",
       "       [1.00000000e+00, 6.52482223e-12],\n",
       "       [1.00000000e+00, 5.56930881e-13],\n",
       "       [9.99998603e-01, 1.39666233e-06],\n",
       "       [9.99948022e-01, 5.19776522e-05],\n",
       "       [1.00000000e+00, 3.16057003e-12],\n",
       "       [1.00000000e+00, 1.66641302e-14],\n",
       "       [1.00000000e+00, 1.94259932e-12],\n",
       "       [1.00000000e+00, 1.76452409e-13],\n",
       "       [1.00000000e+00, 2.61266986e-12],\n",
       "       [2.41201566e-07, 9.99999759e-01],\n",
       "       [9.99999999e-01, 1.28973612e-09],\n",
       "       [9.99999630e-01, 3.69730691e-07],\n",
       "       [1.00000000e+00, 1.36763931e-13],\n",
       "       [1.00000000e+00, 1.11287040e-13],\n",
       "       [5.23275919e-08, 9.99999948e-01],\n",
       "       [1.00000000e+00, 1.92390825e-11],\n",
       "       [1.00000000e+00, 1.95084587e-13],\n",
       "       [9.99999999e-01, 1.29852294e-09],\n",
       "       [9.99999905e-01, 9.46835944e-08],\n",
       "       [1.00000000e+00, 2.11630282e-10],\n",
       "       [1.00000000e+00, 2.46388816e-12],\n",
       "       [1.00000000e+00, 1.23035484e-12],\n",
       "       [1.00000000e+00, 1.85578314e-12],\n",
       "       [1.00000000e+00, 3.19952815e-12],\n",
       "       [9.99999977e-01, 2.25112099e-08],\n",
       "       [1.00000000e+00, 2.38477059e-13],\n",
       "       [1.00000000e+00, 4.16992344e-12],\n",
       "       [9.99999999e-01, 1.49891573e-09],\n",
       "       [1.00000000e+00, 1.76754449e-12],\n",
       "       [1.00000000e+00, 7.57052894e-13],\n",
       "       [1.00000000e+00, 4.95538454e-13],\n",
       "       [1.00000000e+00, 1.79174601e-13],\n",
       "       [1.00000000e+00, 1.08334921e-11],\n",
       "       [2.67230889e-07, 9.99999733e-01],\n",
       "       [1.00000000e+00, 6.01213647e-14],\n",
       "       [1.00000000e+00, 1.82780036e-11],\n",
       "       [1.00000000e+00, 1.50670411e-12],\n",
       "       [1.00000000e+00, 6.56428825e-12],\n",
       "       [1.00000000e+00, 2.58280281e-14],\n",
       "       [1.00000000e+00, 1.94479010e-13],\n",
       "       [1.00000000e+00, 2.68492178e-10],\n",
       "       [1.00000000e+00, 3.13134990e-12],\n",
       "       [1.00000000e+00, 3.29047611e-12],\n",
       "       [1.00000000e+00, 4.00420085e-10],\n",
       "       [1.00000000e+00, 1.23153722e-12],\n",
       "       [1.00000000e+00, 1.99770075e-14],\n",
       "       [1.00000000e+00, 9.94674380e-13],\n",
       "       [1.00000000e+00, 1.46793943e-11],\n",
       "       [1.00000000e+00, 1.80249643e-11],\n",
       "       [1.00000000e+00, 4.04257856e-14],\n",
       "       [1.00000000e+00, 1.19318298e-12],\n",
       "       [1.00000000e+00, 1.25657006e-13],\n",
       "       [1.00000000e+00, 1.21170836e-12],\n",
       "       [1.00000000e+00, 6.74861688e-13],\n",
       "       [1.00000000e+00, 1.27507731e-12],\n",
       "       [9.99999999e-01, 1.13579305e-09],\n",
       "       [1.00000000e+00, 3.59143957e-13],\n",
       "       [1.00000000e+00, 2.63312197e-14],\n",
       "       [1.23311805e-09, 9.99999999e-01],\n",
       "       [9.99999992e-01, 7.73755145e-09],\n",
       "       [9.99999997e-01, 3.15835016e-09],\n",
       "       [1.00000000e+00, 1.39683816e-12],\n",
       "       [1.00000000e+00, 3.47953925e-10],\n",
       "       [1.00000000e+00, 2.07421122e-12],\n",
       "       [1.00000000e+00, 6.99634765e-14],\n",
       "       [0.00000000e+00, 1.00000000e+00],\n",
       "       [1.00000000e+00, 4.67437182e-12],\n",
       "       [1.00000000e+00, 1.30033331e-10],\n",
       "       [1.00000000e+00, 1.33499319e-12],\n",
       "       [1.00000000e+00, 5.76009913e-12],\n",
       "       [1.00000000e+00, 6.65240889e-13],\n",
       "       [9.99987362e-01, 1.26375797e-05],\n",
       "       [1.00000000e+00, 7.81895756e-14],\n",
       "       [9.99999965e-01, 3.46209824e-08],\n",
       "       [1.00000000e+00, 3.17526180e-13],\n",
       "       [1.00000000e+00, 7.98803002e-13],\n",
       "       [1.00000000e+00, 4.58494162e-12],\n",
       "       [1.00000000e+00, 3.00704040e-12],\n",
       "       [1.00000000e+00, 2.38678570e-13],\n",
       "       [1.00000000e+00, 2.36294195e-12],\n",
       "       [1.58628666e-12, 1.00000000e+00],\n",
       "       [1.00000000e+00, 3.22952634e-13],\n",
       "       [1.00000000e+00, 4.53372633e-13]])"
      ]
     },
     "execution_count": 6,
     "metadata": {},
     "output_type": "execute_result"
    }
   ],
   "source": [
    "lda.predict_proba(x_test) #예측 스코어"
   ]
  },
  {
   "cell_type": "code",
   "execution_count": 7,
   "metadata": {},
   "outputs": [
    {
     "name": "stderr",
     "output_type": "stream",
     "text": [
      "C:\\Users\\rlatj\\Anaconda3\\lib\\site-packages\\ipykernel_launcher.py:11: UserWarning: Pandas doesn't allow columns to be created via a new attribute name - see https://pandas.pydata.org/pandas-docs/stable/indexing.html#attribute-access\n",
      "  # This is added back by InteractiveShellApp.init_path()\n"
     ]
    }
   ],
   "source": [
    "# 예측스코어 생성\n",
    "churn_score = pd.DataFrame(lda.predict_proba(x_test))[[1]] \n",
    "churn_test_x_ix = x_test.reset_index()\n",
    "churn_test_x_ix[\"churn_score\"] = churn_score\n",
    "churn_test_y_ix = y_test.reset_index()\n",
    "churn_result = pd.concat([churn_test_x_ix, churn_test_y_ix], axis=1)\n",
    "\n",
    "# 이탈예측결과 생성\n",
    "churn_result[\"pred_churn\"] =np.where(churn_result.churn_score < 0.5, 0, 1)\n",
    "churn_result.pred_churn = churn_result.pred_churn.astype(str)\n",
    "churn_result.churn = churn_result.이탈여부.astype(str)\n",
    "\n",
    "# 타겟범주 순서 변경\n",
    "churn_result[\"pred_churn2\"]=pd.Categorical(churn_result.pred_churn, categories=['1', '0'])\n",
    "churn_result[\"churn2\"]=pd.Categorical(churn_result.churn, categories=['1', '0'])"
   ]
  },
  {
   "cell_type": "code",
   "execution_count": 8,
   "metadata": {},
   "outputs": [
    {
     "data": {
      "text/html": [
       "<div>\n",
       "<style scoped>\n",
       "    .dataframe tbody tr th:only-of-type {\n",
       "        vertical-align: middle;\n",
       "    }\n",
       "\n",
       "    .dataframe tbody tr th {\n",
       "        vertical-align: top;\n",
       "    }\n",
       "\n",
       "    .dataframe thead th {\n",
       "        text-align: right;\n",
       "    }\n",
       "</style>\n",
       "<table border=\"1\" class=\"dataframe\">\n",
       "  <thead>\n",
       "    <tr style=\"text-align: right;\">\n",
       "      <th></th>\n",
       "      <th>index</th>\n",
       "      <th>방문빈도</th>\n",
       "      <th>1회_평균매출액</th>\n",
       "      <th>거래기간</th>\n",
       "      <th>churn_score</th>\n",
       "      <th>index</th>\n",
       "      <th>이탈여부</th>\n",
       "      <th>pred_churn</th>\n",
       "      <th>pred_churn2</th>\n",
       "      <th>churn2</th>\n",
       "    </tr>\n",
       "  </thead>\n",
       "  <tbody>\n",
       "    <tr>\n",
       "      <th>0</th>\n",
       "      <td>131</td>\n",
       "      <td>27</td>\n",
       "      <td>203750</td>\n",
       "      <td>1052</td>\n",
       "      <td>2.638498e-12</td>\n",
       "      <td>131</td>\n",
       "      <td>0</td>\n",
       "      <td>0</td>\n",
       "      <td>0</td>\n",
       "      <td>0</td>\n",
       "    </tr>\n",
       "    <tr>\n",
       "      <th>1</th>\n",
       "      <td>203</td>\n",
       "      <td>78</td>\n",
       "      <td>318371</td>\n",
       "      <td>1085</td>\n",
       "      <td>1.022902e-11</td>\n",
       "      <td>203</td>\n",
       "      <td>0</td>\n",
       "      <td>0</td>\n",
       "      <td>0</td>\n",
       "      <td>0</td>\n",
       "    </tr>\n",
       "    <tr>\n",
       "      <th>2</th>\n",
       "      <td>50</td>\n",
       "      <td>8</td>\n",
       "      <td>403183</td>\n",
       "      <td>946</td>\n",
       "      <td>2.791280e-08</td>\n",
       "      <td>50</td>\n",
       "      <td>0</td>\n",
       "      <td>0</td>\n",
       "      <td>0</td>\n",
       "      <td>0</td>\n",
       "    </tr>\n",
       "    <tr>\n",
       "      <th>3</th>\n",
       "      <td>585</td>\n",
       "      <td>30</td>\n",
       "      <td>493403</td>\n",
       "      <td>1083</td>\n",
       "      <td>2.877454e-13</td>\n",
       "      <td>585</td>\n",
       "      <td>0</td>\n",
       "      <td>0</td>\n",
       "      <td>0</td>\n",
       "      <td>0</td>\n",
       "    </tr>\n",
       "    <tr>\n",
       "      <th>4</th>\n",
       "      <td>138</td>\n",
       "      <td>45</td>\n",
       "      <td>189913</td>\n",
       "      <td>1090</td>\n",
       "      <td>2.804811e-13</td>\n",
       "      <td>138</td>\n",
       "      <td>0</td>\n",
       "      <td>0</td>\n",
       "      <td>0</td>\n",
       "      <td>0</td>\n",
       "    </tr>\n",
       "  </tbody>\n",
       "</table>\n",
       "</div>"
      ],
      "text/plain": [
       "   index  방문빈도  1회_평균매출액  거래기간   churn_score  index  이탈여부 pred_churn  \\\n",
       "0    131    27    203750  1052  2.638498e-12    131     0          0   \n",
       "1    203    78    318371  1085  1.022902e-11    203     0          0   \n",
       "2     50     8    403183   946  2.791280e-08     50     0          0   \n",
       "3    585    30    493403  1083  2.877454e-13    585     0          0   \n",
       "4    138    45    189913  1090  2.804811e-13    138     0          0   \n",
       "\n",
       "  pred_churn2 churn2  \n",
       "0           0      0  \n",
       "1           0      0  \n",
       "2           0      0  \n",
       "3           0      0  \n",
       "4           0      0  "
      ]
     },
     "execution_count": 8,
     "metadata": {},
     "output_type": "execute_result"
    }
   ],
   "source": [
    "churn_result.head()"
   ]
  },
  {
   "cell_type": "code",
   "execution_count": 9,
   "metadata": {},
   "outputs": [
    {
     "data": {
      "text/html": [
       "<div>\n",
       "<style scoped>\n",
       "    .dataframe tbody tr th:only-of-type {\n",
       "        vertical-align: middle;\n",
       "    }\n",
       "\n",
       "    .dataframe tbody tr th {\n",
       "        vertical-align: top;\n",
       "    }\n",
       "\n",
       "    .dataframe thead th {\n",
       "        text-align: right;\n",
       "    }\n",
       "</style>\n",
       "<table border=\"1\" class=\"dataframe\">\n",
       "  <thead>\n",
       "    <tr style=\"text-align: right;\">\n",
       "      <th>pred_churn2</th>\n",
       "      <th>1</th>\n",
       "      <th>0</th>\n",
       "    </tr>\n",
       "    <tr>\n",
       "      <th>churn2</th>\n",
       "      <th></th>\n",
       "      <th></th>\n",
       "    </tr>\n",
       "  </thead>\n",
       "  <tbody>\n",
       "    <tr>\n",
       "      <th>1</th>\n",
       "      <td>19</td>\n",
       "      <td>0</td>\n",
       "    </tr>\n",
       "    <tr>\n",
       "      <th>0</th>\n",
       "      <td>5</td>\n",
       "      <td>276</td>\n",
       "    </tr>\n",
       "  </tbody>\n",
       "</table>\n",
       "</div>"
      ],
      "text/plain": [
       "pred_churn2   1    0\n",
       "churn2              \n",
       "1            19    0\n",
       "0             5  276"
      ]
     },
     "execution_count": 9,
     "metadata": {},
     "output_type": "execute_result"
    }
   ],
   "source": [
    "# 판별함수 분류표 출력\n",
    "pd.crosstab(churn_result.churn2,churn_result.pred_churn2 )"
   ]
  },
  {
   "cell_type": "code",
   "execution_count": 10,
   "metadata": {},
   "outputs": [
    {
     "name": "stdout",
     "output_type": "stream",
     "text": [
      "학습용 정확도 : 0.987\n",
      "검증용 정확도 : 0.983\n"
     ]
    }
   ],
   "source": [
    "print('학습용 정확도 : %.3f' % lda.score(x_train, y_train))\n",
    "print('검증용 정확도 : %.3f' % lda.score(x_test, y_test)) "
   ]
  },
  {
   "cell_type": "code",
   "execution_count": 11,
   "metadata": {},
   "outputs": [
    {
     "name": "stdout",
     "output_type": "stream",
     "text": [
      "              precision    recall  f1-score   support\n",
      "\n",
      "           0       1.00      0.98      0.99       281\n",
      "           1       0.79      1.00      0.88        19\n",
      "\n",
      "   micro avg       0.98      0.98      0.98       300\n",
      "   macro avg       0.90      0.99      0.94       300\n",
      "weighted avg       0.99      0.98      0.98       300\n",
      "\n"
     ]
    }
   ],
   "source": [
    "from sklearn.metrics import classification_report\n",
    "y_pred=lda.predict(x_test)\n",
    "print(classification_report(y_test, y_pred))"
   ]
  },
  {
   "cell_type": "markdown",
   "metadata": {},
   "source": [
    "# 11.2. 로지스틱 회귀분석"
   ]
  },
  {
   "cell_type": "markdown",
   "metadata": {},
   "source": [
    "#### A쇼핑 고객들의 이탈 예측모형을 만들기 위해 거래기간, Recency, 성별을 사용하고자 한다."
   ]
  },
  {
   "cell_type": "code",
   "execution_count": 27,
   "metadata": {},
   "outputs": [],
   "source": [
    "df['성별']=df.성별.astype('str')\n",
    "df=pd.get_dummies(df)"
   ]
  },
  {
   "cell_type": "code",
   "execution_count": 28,
   "metadata": {},
   "outputs": [
    {
     "name": "stdout",
     "output_type": "stream",
     "text": [
      "<class 'pandas.core.frame.DataFrame'>\n",
      "RangeIndex: 1000 entries, 0 to 999\n",
      "Data columns (total 43 columns):\n",
      "고객ID                1000 non-null int64\n",
      "이탈여부                1000 non-null int64\n",
      "총_매출액               1000 non-null int64\n",
      "방문빈도                1000 non-null int64\n",
      "1회_평균매출액            1000 non-null int64\n",
      "할인권_사용_횟수           1000 non-null int64\n",
      "총_할인_금액             1000 non-null int64\n",
      "고객등급                1000 non-null int64\n",
      "구매유형                1000 non-null int64\n",
      "클레임접수여부             1000 non-null int64\n",
      "구매_카테고리_수           1000 non-null int64\n",
      "거주지역                1000 non-null int64\n",
      "고객_나이대              1000 non-null int64\n",
      "거래기간                1000 non-null int64\n",
      "할인민감여부              1000 non-null int64\n",
      "멤버쉽_프로그램_가입전_만족도    1000 non-null int64\n",
      "멤버쉽_프로그램_가입후_만족도    1000 non-null int64\n",
      "Recency             1000 non-null int64\n",
      "Frequency           1000 non-null int64\n",
      "Monetary            1000 non-null int64\n",
      "상품_만족도              1000 non-null int64\n",
      "매장_만족도              1000 non-null int64\n",
      "서비스_만족도             1000 non-null int64\n",
      "상품_품질               1000 non-null int64\n",
      "상품_다양성              1000 non-null int64\n",
      "가격_적절성              1000 non-null int64\n",
      "상품_진열_위치            1000 non-null int64\n",
      "상품_설명_표시            1000 non-null int64\n",
      "매장_청결성              1000 non-null int64\n",
      "공간_편의성              1000 non-null int64\n",
      "시야_확보성              1000 non-null int64\n",
      "음향_적절성              1000 non-null int64\n",
      "안내_표지판_설명           1000 non-null int64\n",
      "친절성                 1000 non-null int64\n",
      "신속성                 1000 non-null int64\n",
      "책임성                 1000 non-null int64\n",
      "정확성                 1000 non-null int64\n",
      "전문성                 1000 non-null int64\n",
      "D1                  1000 non-null int64\n",
      "D2                  1000 non-null int64\n",
      "D3                  1000 non-null int64\n",
      "성별_0                1000 non-null uint8\n",
      "성별_1                1000 non-null uint8\n",
      "dtypes: int64(41), uint8(2)\n",
      "memory usage: 322.3 KB\n"
     ]
    }
   ],
   "source": [
    "df.info()"
   ]
  },
  {
   "cell_type": "code",
   "execution_count": 29,
   "metadata": {},
   "outputs": [],
   "source": [
    "#변수 지정\n",
    "x = df[['거래기간', 'Recency', '성별_0']]# 독립변수\n",
    "y = df[['이탈여부']]# 종속변수\n",
    "#훈련용 데이터 70%, 검증용 데이터 30% 분할\n",
    "x_train, x_test, y_train, y_test = train_test_split(x, y, test_size=0.3, random_state=123)"
   ]
  },
  {
   "cell_type": "code",
   "execution_count": 30,
   "metadata": {},
   "outputs": [
    {
     "name": "stdout",
     "output_type": "stream",
     "text": [
      "Optimization terminated successfully.\n",
      "         Current function value: 0.041266\n",
      "         Iterations 10\n"
     ]
    }
   ],
   "source": [
    "import statsmodels.api as sm\n",
    "logit = sm.Logit(df[['이탈여부']],x) #로지스틱 회귀분석 시행\n",
    "result = logit.fit()"
   ]
  },
  {
   "cell_type": "code",
   "execution_count": 31,
   "metadata": {},
   "outputs": [
    {
     "data": {
      "text/html": [
       "<table class=\"simpletable\">\n",
       "<tr>\n",
       "        <td>Model:</td>              <td>Logit</td>      <td>Pseudo R-squared:</td>    <td>0.832</td>  \n",
       "</tr>\n",
       "<tr>\n",
       "  <td>Dependent Variable:</td>       <td>이탈여부</td>             <td>AIC:</td>          <td>88.5330</td> \n",
       "</tr>\n",
       "<tr>\n",
       "         <td>Date:</td>        <td>2019-05-21 11:48</td>       <td>BIC:</td>         <td>103.2563</td> \n",
       "</tr>\n",
       "<tr>\n",
       "   <td>No. Observations:</td>        <td>1000</td>        <td>Log-Likelihood:</td>    <td>-41.266</td> \n",
       "</tr>\n",
       "<tr>\n",
       "       <td>Df Model:</td>              <td>2</td>            <td>LL-Null:</td>        <td>-245.81</td> \n",
       "</tr>\n",
       "<tr>\n",
       "     <td>Df Residuals:</td>           <td>997</td>         <td>LLR p-value:</td>    <td>1.4737e-89</td>\n",
       "</tr>\n",
       "<tr>\n",
       "      <td>Converged:</td>           <td>1.0000</td>           <td>Scale:</td>         <td>1.0000</td>  \n",
       "</tr>\n",
       "<tr>\n",
       "    <td>No. Iterations:</td>        <td>10.0000</td>             <td></td>               <td></td>     \n",
       "</tr>\n",
       "</table>\n",
       "<table class=\"simpletable\">\n",
       "<tr>\n",
       "     <td></td>      <th>Coef.</th>  <th>Std.Err.</th>    <th>z</th>     <th>P>|z|</th> <th>[0.025</th>  <th>0.975]</th> \n",
       "</tr>\n",
       "<tr>\n",
       "  <th>거래기간</th>    <td>0.0107</td>   <td>0.0015</td>  <td>7.1694</td>  <td>0.0000</td> <td>0.0078</td>  <td>0.0136</td> \n",
       "</tr>\n",
       "<tr>\n",
       "  <th>Recency</th> <td>-2.5382</td>  <td>0.2860</td>  <td>-8.8754</td> <td>0.0000</td> <td>-3.0988</td> <td>-1.9777</td>\n",
       "</tr>\n",
       "<tr>\n",
       "  <th>성별_0</th>    <td>-0.2348</td>  <td>0.7395</td>  <td>-0.3175</td> <td>0.7509</td> <td>-1.6841</td> <td>1.2145</td> \n",
       "</tr>\n",
       "</table>"
      ],
      "text/plain": [
       "<class 'statsmodels.iolib.summary2.Summary'>\n",
       "\"\"\"\n",
       "                         Results: Logit\n",
       "=================================================================\n",
       "Model:              Logit            Pseudo R-squared: 0.832     \n",
       "Dependent Variable: 이탈여부             AIC:              88.5330   \n",
       "Date:               2019-05-21 11:48 BIC:              103.2563  \n",
       "No. Observations:   1000             Log-Likelihood:   -41.266   \n",
       "Df Model:           2                LL-Null:          -245.81   \n",
       "Df Residuals:       997              LLR p-value:      1.4737e-89\n",
       "Converged:          1.0000           Scale:            1.0000    \n",
       "No. Iterations:     10.0000                                      \n",
       "-------------------------------------------------------------------\n",
       "           Coef.    Std.Err.      z      P>|z|     [0.025    0.975]\n",
       "-------------------------------------------------------------------\n",
       "거래기간       0.0107     0.0015    7.1694   0.0000    0.0078    0.0136\n",
       "Recency   -2.5382     0.2860   -8.8754   0.0000   -3.0988   -1.9777\n",
       "성별_0      -0.2348     0.7395   -0.3175   0.7509   -1.6841    1.2145\n",
       "=================================================================\n",
       "\n",
       "\"\"\""
      ]
     },
     "execution_count": 31,
     "metadata": {},
     "output_type": "execute_result"
    }
   ],
   "source": [
    "result.summary2()# 결과 출력"
   ]
  },
  {
   "cell_type": "code",
   "execution_count": 32,
   "metadata": {},
   "outputs": [
    {
     "data": {
      "text/plain": [
       "거래기간       1.010765\n",
       "Recency    0.079006\n",
       "성별_0       0.790750\n",
       "dtype: float64"
      ]
     },
     "execution_count": 32,
     "metadata": {},
     "output_type": "execute_result"
    }
   ],
   "source": [
    "np.exp(result.params)#오즈비"
   ]
  },
  {
   "cell_type": "code",
   "execution_count": 33,
   "metadata": {},
   "outputs": [
    {
     "name": "stderr",
     "output_type": "stream",
     "text": [
      "c:\\users\\seungwoo\\anaconda3\\lib\\site-packages\\ipykernel_launcher.py:11: UserWarning: Pandas doesn't allow columns to be created via a new attribute name - see https://pandas.pydata.org/pandas-docs/stable/indexing.html#attribute-access\n",
      "  # This is added back by InteractiveShellApp.init_path()\n"
     ]
    }
   ],
   "source": [
    "## 예측스코어 생성\n",
    "churn_score = result.predict(x_test)\n",
    "churn_test_x_ix = x_test.reset_index()\n",
    "churn_test_x_ix[\"churn_score\"] = churn_score\n",
    "churn_test_y_ix = y_test.reset_index()\n",
    "\n",
    "churn_result = pd.concat([churn_test_x_ix, churn_test_y_ix], axis=1)\n",
    "# 이탈예측결과 생성\n",
    "churn_result[\"pred_churn\"] =np.where(churn_result.churn_score < 0.5, 0, 1)\n",
    "churn_result.pred_churn = churn_result.pred_churn.astype(str)\n",
    "churn_result.churn = churn_result.이탈여부.astype(str)\n",
    "\n",
    "# 타겟범주 순서 변경\n",
    "churn_result[\"pred_churn2\"]=pd.Categorical(churn_result.pred_churn, categories=['1', '0'])\n",
    "churn_result[\"churn2\"]=pd.Categorical(churn_result.churn, categories=['1', '0'])\n",
    "\n",
    "# 분류표 생성\n",
    "con=pd.crosstab(churn_result.churn2,churn_result.pred_churn2 )"
   ]
  },
  {
   "cell_type": "code",
   "execution_count": 34,
   "metadata": {},
   "outputs": [
    {
     "data": {
      "text/html": [
       "<div>\n",
       "<style scoped>\n",
       "    .dataframe tbody tr th:only-of-type {\n",
       "        vertical-align: middle;\n",
       "    }\n",
       "\n",
       "    .dataframe tbody tr th {\n",
       "        vertical-align: top;\n",
       "    }\n",
       "\n",
       "    .dataframe thead th {\n",
       "        text-align: right;\n",
       "    }\n",
       "</style>\n",
       "<table border=\"1\" class=\"dataframe\">\n",
       "  <thead>\n",
       "    <tr style=\"text-align: right;\">\n",
       "      <th>pred_churn2</th>\n",
       "      <th>1</th>\n",
       "      <th>0</th>\n",
       "    </tr>\n",
       "    <tr>\n",
       "      <th>churn2</th>\n",
       "      <th></th>\n",
       "      <th></th>\n",
       "    </tr>\n",
       "  </thead>\n",
       "  <tbody>\n",
       "    <tr>\n",
       "      <th>1</th>\n",
       "      <td>14</td>\n",
       "      <td>5</td>\n",
       "    </tr>\n",
       "    <tr>\n",
       "      <th>0</th>\n",
       "      <td>198</td>\n",
       "      <td>83</td>\n",
       "    </tr>\n",
       "  </tbody>\n",
       "</table>\n",
       "</div>"
      ],
      "text/plain": [
       "pred_churn2    1   0\n",
       "churn2              \n",
       "1             14   5\n",
       "0            198  83"
      ]
     },
     "execution_count": 34,
     "metadata": {},
     "output_type": "execute_result"
    }
   ],
   "source": [
    "#분류표 생성\n",
    "pd.crosstab(churn_result.churn2,churn_result.pred_churn2 )"
   ]
  },
  {
   "cell_type": "code",
   "execution_count": 35,
   "metadata": {},
   "outputs": [],
   "source": [
    "churn_result.churn2 = churn_result.churn2.astype(int)\n",
    "churn_result.pred_churn2 = churn_result.pred_churn2.astype(int)"
   ]
  },
  {
   "cell_type": "code",
   "execution_count": 36,
   "metadata": {},
   "outputs": [
    {
     "name": "stdout",
     "output_type": "stream",
     "text": [
      "accuracy 0.3233333333333333\n",
      "precision 0.0660377358490566\n",
      "recall 0.7368421052631579\n",
      "f1 0.12121212121212122\n",
      "             precision    recall  f1-score   support\n",
      "\n",
      "          0       0.94      0.30      0.45       281\n",
      "          1       0.07      0.74      0.12        19\n",
      "\n",
      "avg / total       0.89      0.32      0.43       300\n",
      "\n"
     ]
    }
   ],
   "source": [
    "# 성과표 계산하기\n",
    "y=np.array(churn_result.churn2 )\n",
    "p=np.array(churn_result.pred_churn2 )\n",
    "import sklearn.metrics as metrics\n",
    "print('accuracy', metrics.accuracy_score(y,p) )\n",
    "print('precision', metrics.precision_score(y,p) )\n",
    "print('recall', metrics.recall_score(y,p) )\n",
    "print('f1', metrics.f1_score(y,p) )\n",
    "print(metrics.classification_report(y,p))"
   ]
  },
  {
   "cell_type": "code",
   "execution_count": null,
   "metadata": {},
   "outputs": [],
   "source": []
  }
 ],
 "metadata": {
  "kernelspec": {
   "display_name": "Python 3",
   "language": "python",
   "name": "python3"
  },
  "language_info": {
   "codemirror_mode": {
    "name": "ipython",
    "version": 3
   },
   "file_extension": ".py",
   "mimetype": "text/x-python",
   "name": "python",
   "nbconvert_exporter": "python",
   "pygments_lexer": "ipython3",
   "version": "3.7.3"
  }
 },
 "nbformat": 4,
 "nbformat_minor": 2
}
