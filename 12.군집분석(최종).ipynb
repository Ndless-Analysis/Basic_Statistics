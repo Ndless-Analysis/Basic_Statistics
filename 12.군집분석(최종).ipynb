{
 "cells": [
  {
   "cell_type": "markdown",
   "metadata": {},
   "source": [
    "## 12장. 군집분석"
   ]
  },
  {
   "cell_type": "markdown",
   "metadata": {},
   "source": [
    "### 12.1 계층적 군집분석\n",
    "A쇼핑 고객들의 RFM 통해 몇 개의 군집으로 나누어 질 수 있는지 Python의 계층적 군집분석을 활용하여 확인해 보자. "
   ]
  },
  {
   "cell_type": "markdown",
   "metadata": {},
   "source": [
    "#### 데이터 불러오기\n",
    "\n",
    "실습데이터 Ashopping을 파이썬을 이용하여 불러온다. "
   ]
  },
  {
   "cell_type": "markdown",
   "metadata": {},
   "source": [
    "#### 변수명=pd.read_csv(\"파일경로\\파일이름\\.파일형식\", sep=\"구분자\", encoding='코딩방식')\n",
    "\n",
    "    구분자: \",\",  \"|\", \"\\s+\"\n",
    "    encoding:'CP949' 파이썬에서 한글을 열수 있도록 인코딩 설정\n"
   ]
  },
  {
   "cell_type": "code",
   "execution_count": 1,
   "metadata": {},
   "outputs": [
    {
     "data": {
      "text/html": [
       "<div>\n",
       "<style scoped>\n",
       "    .dataframe tbody tr th:only-of-type {\n",
       "        vertical-align: middle;\n",
       "    }\n",
       "\n",
       "    .dataframe tbody tr th {\n",
       "        vertical-align: top;\n",
       "    }\n",
       "\n",
       "    .dataframe thead th {\n",
       "        text-align: right;\n",
       "    }\n",
       "</style>\n",
       "<table border=\"1\" class=\"dataframe\">\n",
       "  <thead>\n",
       "    <tr style=\"text-align: right;\">\n",
       "      <th></th>\n",
       "      <th>고객ID</th>\n",
       "      <th>이탈여부</th>\n",
       "      <th>총_매출액</th>\n",
       "      <th>방문빈도</th>\n",
       "      <th>1회_평균매출액</th>\n",
       "      <th>할인권_사용_횟수</th>\n",
       "      <th>총_할인_금액</th>\n",
       "      <th>고객등급</th>\n",
       "      <th>구매유형</th>\n",
       "      <th>클레임접수여부</th>\n",
       "      <th>...</th>\n",
       "      <th>음향_적절성</th>\n",
       "      <th>안내_표지판_설명</th>\n",
       "      <th>친절성</th>\n",
       "      <th>신속성</th>\n",
       "      <th>책임성</th>\n",
       "      <th>정확성</th>\n",
       "      <th>전문성</th>\n",
       "      <th>D1</th>\n",
       "      <th>D2</th>\n",
       "      <th>D3</th>\n",
       "    </tr>\n",
       "  </thead>\n",
       "  <tbody>\n",
       "    <tr>\n",
       "      <th>0</th>\n",
       "      <td>1</td>\n",
       "      <td>0</td>\n",
       "      <td>4007080</td>\n",
       "      <td>17</td>\n",
       "      <td>235711</td>\n",
       "      <td>1</td>\n",
       "      <td>5445</td>\n",
       "      <td>1</td>\n",
       "      <td>4</td>\n",
       "      <td>0</td>\n",
       "      <td>...</td>\n",
       "      <td>6</td>\n",
       "      <td>6</td>\n",
       "      <td>6</td>\n",
       "      <td>6</td>\n",
       "      <td>6</td>\n",
       "      <td>6</td>\n",
       "      <td>6</td>\n",
       "      <td>0</td>\n",
       "      <td>0</td>\n",
       "      <td>1</td>\n",
       "    </tr>\n",
       "    <tr>\n",
       "      <th>1</th>\n",
       "      <td>2</td>\n",
       "      <td>1</td>\n",
       "      <td>3168400</td>\n",
       "      <td>14</td>\n",
       "      <td>226314</td>\n",
       "      <td>22</td>\n",
       "      <td>350995</td>\n",
       "      <td>2</td>\n",
       "      <td>4</td>\n",
       "      <td>0</td>\n",
       "      <td>...</td>\n",
       "      <td>6</td>\n",
       "      <td>6</td>\n",
       "      <td>5</td>\n",
       "      <td>3</td>\n",
       "      <td>6</td>\n",
       "      <td>6</td>\n",
       "      <td>6</td>\n",
       "      <td>0</td>\n",
       "      <td>0</td>\n",
       "      <td>1</td>\n",
       "    </tr>\n",
       "    <tr>\n",
       "      <th>2</th>\n",
       "      <td>3</td>\n",
       "      <td>0</td>\n",
       "      <td>2680780</td>\n",
       "      <td>18</td>\n",
       "      <td>148932</td>\n",
       "      <td>6</td>\n",
       "      <td>186045</td>\n",
       "      <td>1</td>\n",
       "      <td>4</td>\n",
       "      <td>1</td>\n",
       "      <td>...</td>\n",
       "      <td>6</td>\n",
       "      <td>6</td>\n",
       "      <td>7</td>\n",
       "      <td>7</td>\n",
       "      <td>6</td>\n",
       "      <td>6</td>\n",
       "      <td>7</td>\n",
       "      <td>0</td>\n",
       "      <td>0</td>\n",
       "      <td>1</td>\n",
       "    </tr>\n",
       "    <tr>\n",
       "      <th>3</th>\n",
       "      <td>4</td>\n",
       "      <td>0</td>\n",
       "      <td>5946600</td>\n",
       "      <td>17</td>\n",
       "      <td>349800</td>\n",
       "      <td>1</td>\n",
       "      <td>5195</td>\n",
       "      <td>1</td>\n",
       "      <td>4</td>\n",
       "      <td>1</td>\n",
       "      <td>...</td>\n",
       "      <td>6</td>\n",
       "      <td>6</td>\n",
       "      <td>6</td>\n",
       "      <td>6</td>\n",
       "      <td>6</td>\n",
       "      <td>5</td>\n",
       "      <td>6</td>\n",
       "      <td>0</td>\n",
       "      <td>0</td>\n",
       "      <td>1</td>\n",
       "    </tr>\n",
       "    <tr>\n",
       "      <th>4</th>\n",
       "      <td>5</td>\n",
       "      <td>0</td>\n",
       "      <td>13745950</td>\n",
       "      <td>73</td>\n",
       "      <td>188301</td>\n",
       "      <td>9</td>\n",
       "      <td>246350</td>\n",
       "      <td>1</td>\n",
       "      <td>2</td>\n",
       "      <td>0</td>\n",
       "      <td>...</td>\n",
       "      <td>6</td>\n",
       "      <td>5</td>\n",
       "      <td>5</td>\n",
       "      <td>6</td>\n",
       "      <td>6</td>\n",
       "      <td>5</td>\n",
       "      <td>6</td>\n",
       "      <td>1</td>\n",
       "      <td>0</td>\n",
       "      <td>0</td>\n",
       "    </tr>\n",
       "  </tbody>\n",
       "</table>\n",
       "<p>5 rows × 42 columns</p>\n",
       "</div>"
      ],
      "text/plain": [
       "   고객ID  이탈여부     총_매출액  방문빈도  1회_평균매출액  할인권_사용_횟수  총_할인_금액  고객등급  구매유형  \\\n",
       "0     1     0   4007080    17    235711          1     5445     1     4   \n",
       "1     2     1   3168400    14    226314         22   350995     2     4   \n",
       "2     3     0   2680780    18    148932          6   186045     1     4   \n",
       "3     4     0   5946600    17    349800          1     5195     1     4   \n",
       "4     5     0  13745950    73    188301          9   246350     1     2   \n",
       "\n",
       "   클레임접수여부  ...  음향_적절성  안내_표지판_설명  친절성  신속성  책임성  정확성  전문성  D1  D2  D3  \n",
       "0        0  ...       6          6    6    6    6    6    6   0   0   1  \n",
       "1        0  ...       6          6    5    3    6    6    6   0   0   1  \n",
       "2        1  ...       6          6    7    7    6    6    7   0   0   1  \n",
       "3        1  ...       6          6    6    6    6    5    6   0   0   1  \n",
       "4        0  ...       6          5    5    6    6    5    6   1   0   0  \n",
       "\n",
       "[5 rows x 42 columns]"
      ]
     },
     "execution_count": 1,
     "metadata": {},
     "output_type": "execute_result"
    }
   ],
   "source": [
    "# 텍스트 파일 열기\n",
    "import pandas as pd\n",
    "df = pd.read_csv(\"C:\\python\\Ashopping2.txt\",sep=\",\", encoding='CP949')\n",
    "df.head()"
   ]
  },
  {
   "cell_type": "code",
   "execution_count": 3,
   "metadata": {},
   "outputs": [
    {
     "name": "stdout",
     "output_type": "stream",
     "text": [
      "<class 'pandas.core.frame.DataFrame'>\n",
      "RangeIndex: 1000 entries, 0 to 999\n",
      "Data columns (total 42 columns):\n",
      "고객ID                1000 non-null int64\n",
      "이탈여부                1000 non-null int64\n",
      "총_매출액               1000 non-null int64\n",
      "방문빈도                1000 non-null int64\n",
      "1회_평균매출액            1000 non-null int64\n",
      "할인권_사용_횟수           1000 non-null int64\n",
      "총_할인_금액             1000 non-null int64\n",
      "고객등급                1000 non-null int64\n",
      "구매유형                1000 non-null int64\n",
      "클레임접수여부             1000 non-null int64\n",
      "구매_카테고리_수           1000 non-null int64\n",
      "거주지역                1000 non-null int64\n",
      "성별                  1000 non-null int64\n",
      "고객_나이대              1000 non-null int64\n",
      "거래기간                1000 non-null int64\n",
      "할인민감여부              1000 non-null int64\n",
      "멤버쉽_프로그램_가입전_만족도    1000 non-null int64\n",
      "멤버쉽_프로그램_가입후_만족도    1000 non-null int64\n",
      "Recency             1000 non-null int64\n",
      "Frequency           1000 non-null int64\n",
      "Monetary            1000 non-null int64\n",
      "상품_만족도              1000 non-null int64\n",
      "매장_만족도              1000 non-null int64\n",
      "서비스_만족도             1000 non-null int64\n",
      "상품_품질               1000 non-null int64\n",
      "상품_다양성              1000 non-null int64\n",
      "가격_적절성              1000 non-null int64\n",
      "상품_진열_위치            1000 non-null int64\n",
      "상품_설명_표시            1000 non-null int64\n",
      "매장_청결성              1000 non-null int64\n",
      "공간_편의성              1000 non-null int64\n",
      "시야_확보성              1000 non-null int64\n",
      "음향_적절성              1000 non-null int64\n",
      "안내_표지판_설명           1000 non-null int64\n",
      "친절성                 1000 non-null int64\n",
      "신속성                 1000 non-null int64\n",
      "책임성                 1000 non-null int64\n",
      "정확성                 1000 non-null int64\n",
      "전문성                 1000 non-null int64\n",
      "D1                  1000 non-null int64\n",
      "D2                  1000 non-null int64\n",
      "D3                  1000 non-null int64\n",
      "dtypes: int64(42)\n",
      "memory usage: 328.2 KB\n"
     ]
    }
   ],
   "source": [
    "df.info()"
   ]
  },
  {
   "cell_type": "markdown",
   "metadata": {},
   "source": [
    "#### 500개 무작위 표본추출 "
   ]
  },
  {
   "cell_type": "code",
   "execution_count": 2,
   "metadata": {},
   "outputs": [
    {
     "data": {
      "text/plain": [
       "(500, 42)"
      ]
     },
     "execution_count": 2,
     "metadata": {},
     "output_type": "execute_result"
    }
   ],
   "source": [
    "data_temp = df.sample(n=500, random_state=1)\n",
    "data_temp.shape"
   ]
  },
  {
   "cell_type": "markdown",
   "metadata": {},
   "source": [
    "linkage 함수의 옵션 설정은 아래와 같다.\n",
    "\n",
    "- method(거리측정기준): ward(와드연결법), single(최단연결법), average(평균연결법), complete(최장연결법)\n",
    "- metric(거리측정방법): euclidean(유클리디언 거리), cityblock(맨해튼 거리) 등"
   ]
  },
  {
   "cell_type": "code",
   "execution_count": 4,
   "metadata": {},
   "outputs": [
    {
     "name": "stdout",
     "output_type": "stream",
     "text": [
      "[[987.         988.           2.5561148  169.        ]\n",
      " [902.         990.           2.68540749 175.        ]\n",
      " [985.         986.           2.68907337 295.        ]\n",
      " [979.         983.           2.86283801  11.        ]\n",
      " [191.         971.           2.92080963   3.        ]\n",
      " [989.         993.           3.06892186  27.        ]\n",
      " [991.         992.           3.46707744 470.        ]\n",
      " [994.         995.           3.82932718  30.        ]\n",
      " [996.         997.           6.09350305 500.        ]]\n"
     ]
    }
   ],
   "source": [
    "from scipy.cluster.hierarchy import linkage\n",
    "X = data_temp[[\"Recency\",\"Frequency\",\"Monetary\"]] #데이터 선택\n",
    "cluster= linkage(X, method = 'average', metric='euclidean') #계층적 군집분석 시행\n",
    "print(cluster[490:])#군집화일정표 하위 9개 행 출력\n",
    "#군집화일정표(1~2열: 병합되는 클러스트 번호, 3열:클러스터간 거리, 4열:클러스터 멤버 수)"
   ]
  },
  {
   "cell_type": "code",
   "execution_count": 6,
   "metadata": {},
   "outputs": [
    {
     "data": {
      "image/png": "[encoded data removed]",
      "text/plain": [
       "<Figure size 1440x720 with 1 Axes>"
      ]
     },
     "metadata": {
      "needs_background": "light"
     },
     "output_type": "display_data"
    }
   ],
   "source": [
    "#덴드로그램 그리기\n",
    "from scipy.cluster.hierarchy import dendrogram\n",
    "import matplotlib.pyplot as plt\n",
    "# 그래프 사이즈\n",
    "plt.figure(figsize=(20, 10))#그림 크기 설정\n",
    "plt.title('Dendrogram')\n",
    "plt.xlabel('index')\n",
    "plt.ylabel('distance')\n",
    "dendrogram(cluster)\n",
    "plt.show()"
   ]
  },
  {
   "cell_type": "markdown",
   "metadata": {},
   "source": [
    "### 12.2 비계층적 군집분석\n",
    "앞서 계층적 군집분석을 통해 3개의 군집이 나타났다. Python 비계층적 군집분석의 군집 수를 3으로 지정하여 비계층적 군집분석을 실행 해보도록 하자."
   ]
  },
  {
   "cell_type": "code",
   "execution_count": 21,
   "metadata": {},
   "outputs": [
    {
     "data": {
      "text/html": [
       "<div>\n",
       "<style scoped>\n",
       "    .dataframe tbody tr th:only-of-type {\n",
       "        vertical-align: middle;\n",
       "    }\n",
       "\n",
       "    .dataframe tbody tr th {\n",
       "        vertical-align: top;\n",
       "    }\n",
       "\n",
       "    .dataframe thead th {\n",
       "        text-align: right;\n",
       "    }\n",
       "</style>\n",
       "<table border=\"1\" class=\"dataframe\">\n",
       "  <thead>\n",
       "    <tr style=\"text-align: right;\">\n",
       "      <th></th>\n",
       "      <th>고객ID</th>\n",
       "      <th>이탈여부</th>\n",
       "      <th>총_매출액</th>\n",
       "      <th>방문빈도</th>\n",
       "      <th>1회_평균매출액</th>\n",
       "      <th>할인권_사용_횟수</th>\n",
       "      <th>총_할인_금액</th>\n",
       "      <th>고객등급</th>\n",
       "      <th>구매유형</th>\n",
       "      <th>클레임접수여부</th>\n",
       "      <th>...</th>\n",
       "      <th>안내_표지판_설명</th>\n",
       "      <th>친절성</th>\n",
       "      <th>신속성</th>\n",
       "      <th>책임성</th>\n",
       "      <th>정확성</th>\n",
       "      <th>전문성</th>\n",
       "      <th>D1</th>\n",
       "      <th>D2</th>\n",
       "      <th>D3</th>\n",
       "      <th>cluster_id</th>\n",
       "    </tr>\n",
       "  </thead>\n",
       "  <tbody>\n",
       "    <tr>\n",
       "      <th>0</th>\n",
       "      <td>1</td>\n",
       "      <td>0</td>\n",
       "      <td>4007080</td>\n",
       "      <td>17</td>\n",
       "      <td>235711</td>\n",
       "      <td>1</td>\n",
       "      <td>5445</td>\n",
       "      <td>1</td>\n",
       "      <td>4</td>\n",
       "      <td>0</td>\n",
       "      <td>...</td>\n",
       "      <td>6</td>\n",
       "      <td>6</td>\n",
       "      <td>6</td>\n",
       "      <td>6</td>\n",
       "      <td>6</td>\n",
       "      <td>6</td>\n",
       "      <td>0</td>\n",
       "      <td>0</td>\n",
       "      <td>1</td>\n",
       "      <td>0</td>\n",
       "    </tr>\n",
       "    <tr>\n",
       "      <th>1</th>\n",
       "      <td>2</td>\n",
       "      <td>1</td>\n",
       "      <td>3168400</td>\n",
       "      <td>14</td>\n",
       "      <td>226314</td>\n",
       "      <td>22</td>\n",
       "      <td>350995</td>\n",
       "      <td>2</td>\n",
       "      <td>4</td>\n",
       "      <td>0</td>\n",
       "      <td>...</td>\n",
       "      <td>6</td>\n",
       "      <td>5</td>\n",
       "      <td>3</td>\n",
       "      <td>6</td>\n",
       "      <td>6</td>\n",
       "      <td>6</td>\n",
       "      <td>0</td>\n",
       "      <td>0</td>\n",
       "      <td>1</td>\n",
       "      <td>2</td>\n",
       "    </tr>\n",
       "    <tr>\n",
       "      <th>2</th>\n",
       "      <td>3</td>\n",
       "      <td>0</td>\n",
       "      <td>2680780</td>\n",
       "      <td>18</td>\n",
       "      <td>148932</td>\n",
       "      <td>6</td>\n",
       "      <td>186045</td>\n",
       "      <td>1</td>\n",
       "      <td>4</td>\n",
       "      <td>1</td>\n",
       "      <td>...</td>\n",
       "      <td>6</td>\n",
       "      <td>7</td>\n",
       "      <td>7</td>\n",
       "      <td>6</td>\n",
       "      <td>6</td>\n",
       "      <td>7</td>\n",
       "      <td>0</td>\n",
       "      <td>0</td>\n",
       "      <td>1</td>\n",
       "      <td>0</td>\n",
       "    </tr>\n",
       "    <tr>\n",
       "      <th>3</th>\n",
       "      <td>4</td>\n",
       "      <td>0</td>\n",
       "      <td>5946600</td>\n",
       "      <td>17</td>\n",
       "      <td>349800</td>\n",
       "      <td>1</td>\n",
       "      <td>5195</td>\n",
       "      <td>1</td>\n",
       "      <td>4</td>\n",
       "      <td>1</td>\n",
       "      <td>...</td>\n",
       "      <td>6</td>\n",
       "      <td>6</td>\n",
       "      <td>6</td>\n",
       "      <td>6</td>\n",
       "      <td>5</td>\n",
       "      <td>6</td>\n",
       "      <td>0</td>\n",
       "      <td>0</td>\n",
       "      <td>1</td>\n",
       "      <td>1</td>\n",
       "    </tr>\n",
       "    <tr>\n",
       "      <th>4</th>\n",
       "      <td>5</td>\n",
       "      <td>0</td>\n",
       "      <td>13745950</td>\n",
       "      <td>73</td>\n",
       "      <td>188301</td>\n",
       "      <td>9</td>\n",
       "      <td>246350</td>\n",
       "      <td>1</td>\n",
       "      <td>2</td>\n",
       "      <td>0</td>\n",
       "      <td>...</td>\n",
       "      <td>5</td>\n",
       "      <td>5</td>\n",
       "      <td>6</td>\n",
       "      <td>6</td>\n",
       "      <td>5</td>\n",
       "      <td>6</td>\n",
       "      <td>1</td>\n",
       "      <td>0</td>\n",
       "      <td>0</td>\n",
       "      <td>1</td>\n",
       "    </tr>\n",
       "  </tbody>\n",
       "</table>\n",
       "<p>5 rows × 43 columns</p>\n",
       "</div>"
      ],
      "text/plain": [
       "   고객ID  이탈여부     총_매출액  방문빈도  1회_평균매출액  할인권_사용_횟수  총_할인_금액  고객등급  구매유형  \\\n",
       "0     1     0   4007080    17    235711          1     5445     1     4   \n",
       "1     2     1   3168400    14    226314         22   350995     2     4   \n",
       "2     3     0   2680780    18    148932          6   186045     1     4   \n",
       "3     4     0   5946600    17    349800          1     5195     1     4   \n",
       "4     5     0  13745950    73    188301          9   246350     1     2   \n",
       "\n",
       "   클레임접수여부     ...      안내_표지판_설명  친절성  신속성  책임성  정확성  전문성  D1  D2  D3  \\\n",
       "0        0     ...              6    6    6    6    6    6   0   0   1   \n",
       "1        0     ...              6    5    3    6    6    6   0   0   1   \n",
       "2        1     ...              6    7    7    6    6    7   0   0   1   \n",
       "3        1     ...              6    6    6    6    5    6   0   0   1   \n",
       "4        0     ...              5    5    6    6    5    6   1   0   0   \n",
       "\n",
       "   cluster_id  \n",
       "0           0  \n",
       "1           2  \n",
       "2           0  \n",
       "3           1  \n",
       "4           1  \n",
       "\n",
       "[5 rows x 43 columns]"
      ]
     },
     "execution_count": 21,
     "metadata": {},
     "output_type": "execute_result"
    }
   ],
   "source": [
    "from sklearn.cluster import KMeans\n",
    "X = df[[\"Recency\",\"Frequency\",\"Monetary\"]] #분류 대상 데이터 설정\n",
    "model = KMeans(n_clusters=3, max_iter=100, random_state=0).fit(X) \n",
    "df['cluster_id'] = model.labels_ #군집 번호 입력 \n",
    "df.head()"
   ]
  },
  {
   "cell_type": "code",
   "execution_count": 22,
   "metadata": {},
   "outputs": [
    {
     "data": {
      "text/plain": [
       "0    512\n",
       "1    411\n",
       "2     77\n",
       "Name: cluster_id, dtype: int64"
      ]
     },
     "execution_count": 22,
     "metadata": {},
     "output_type": "execute_result"
    }
   ],
   "source": [
    "df.cluster_id.value_counts()# Frequency (빈도)  #군집의 규모"
   ]
  },
  {
   "cell_type": "code",
   "execution_count": 23,
   "metadata": {},
   "outputs": [],
   "source": [
    "#군집 설정\n",
    "clu1 = df[df.cluster_id==0]\n",
    "clu2 = df[df.cluster_id==1]\n",
    "clu3 = df[df.cluster_id==2]"
   ]
  },
  {
   "cell_type": "code",
   "execution_count": 24,
   "metadata": {},
   "outputs": [
    {
     "name": "stdout",
     "output_type": "stream",
     "text": [
      "6.8359375 3.212890625 2.892578125\n"
     ]
    }
   ],
   "source": [
    "print(clu1.Recency.mean(),clu1.Frequency.mean(),clu1.Monetary.mean())#1번 군집 RMF평균(Recency 평균, Frequency 평균, Monetary 평균)"
   ]
  },
  {
   "cell_type": "code",
   "execution_count": 25,
   "metadata": {},
   "outputs": [
    {
     "name": "stdout",
     "output_type": "stream",
     "text": [
      "6.9391727493917275 4.600973236009732 5.768856447688565\n"
     ]
    }
   ],
   "source": [
    "print(clu2.Recency.mean(),clu2.Frequency.mean(),clu2.Monetary.mean())#2번 군집 RMF평균(Recency 평균, Frequency 평균, Monetary 평균)"
   ]
  },
  {
   "cell_type": "code",
   "execution_count": 26,
   "metadata": {},
   "outputs": [
    {
     "name": "stdout",
     "output_type": "stream",
     "text": [
      "1.7792207792207793 3.207792207792208 3.7532467532467533\n"
     ]
    }
   ],
   "source": [
    "print(clu3.Recency.mean(),clu3.Frequency.mean(),clu3.Monetary.mean())#3번 군집 RMF평균(Recency 평균, Frequency 평균, Monetary 평균)"
   ]
  }
 ],
 "metadata": {
  "kernelspec": {
   "display_name": "Python 3",
   "language": "python",
   "name": "python3"
  },
  "language_info": {
   "codemirror_mode": {
    "name": "ipython",
    "version": 3
   },
   "file_extension": ".py",
   "mimetype": "text/x-python",
   "name": "python",
   "nbconvert_exporter": "python",
   "pygments_lexer": "ipython3",
   "version": "3.7.3"
  }
 },
 "nbformat": 4,
 "nbformat_minor": 2
}
